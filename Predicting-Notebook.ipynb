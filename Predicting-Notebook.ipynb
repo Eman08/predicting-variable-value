{
  "nbformat": 4,
  "nbformat_minor": 0,
  "metadata": {
    "colab": {
      "provenance": []
    },
    "kernelspec": {
      "name": "python3",
      "display_name": "Python 3"
    },
    "language_info": {
      "name": "python"
    }
  },
  "cells": [
    {
      "cell_type": "markdown",
      "source": [
        "## Necessary pre processing of data before application of models\n",
        "\n"
      ],
      "metadata": {
        "id": "LT4LMSY4oy76"
      }
    },
    {
      "cell_type": "code",
      "source": [
        "import numpy as np\n",
        "from sklearn.tree import DecisionTreeClassifier"
      ],
      "metadata": {
        "id": "X6K5Qw1cU4HP"
      },
      "execution_count": 34,
      "outputs": []
    },
    {
      "cell_type": "markdown",
      "source": [
        "1 a. Reading data from the provided file into a dataframe"
      ],
      "metadata": {
        "id": "APftYey0p6Ym"
      }
    },
    {
      "cell_type": "code",
      "execution_count": 35,
      "metadata": {
        "id": "hONGdVaGNFw_",
        "colab": {
          "base_uri": "https://localhost:8080/",
          "height": 487
        },
        "outputId": "c1fc17bb-94f9-446e-d56f-246ad78beb73"
      },
      "outputs": [
        {
          "output_type": "execute_result",
          "data": {
            "text/plain": [
              "      rowid     kepid kepoi_name   kepler_name koi_disposition  \\\n",
              "0         1  10797460  K00752.01  Kepler-227 b       CONFIRMED   \n",
              "1         2  10797460  K00752.02  Kepler-227 c       CONFIRMED   \n",
              "2         3  10811496  K00753.01           NaN  FALSE POSITIVE   \n",
              "3         4  10848459  K00754.01           NaN  FALSE POSITIVE   \n",
              "4         5  10854555  K00755.01  Kepler-664 b       CONFIRMED   \n",
              "...     ...       ...        ...           ...             ...   \n",
              "9559   9560  10031643  K07984.01           NaN  FALSE POSITIVE   \n",
              "9560   9561  10090151  K07985.01           NaN  FALSE POSITIVE   \n",
              "9561   9562  10128825  K07986.01           NaN       CANDIDATE   \n",
              "9562   9563  10147276  K07987.01           NaN  FALSE POSITIVE   \n",
              "9563   9564  10156110  K07989.01           NaN  FALSE POSITIVE   \n",
              "\n",
              "     koi_pdisposition  koi_score  koi_fpflag_nt  koi_fpflag_ss  koi_fpflag_co  \\\n",
              "0           CANDIDATE      1.000              0              0              0   \n",
              "1           CANDIDATE      0.969              0              0              0   \n",
              "2      FALSE POSITIVE      0.000              0              1              0   \n",
              "3      FALSE POSITIVE      0.000              0              1              0   \n",
              "4           CANDIDATE      1.000              0              0              0   \n",
              "...               ...        ...            ...            ...            ...   \n",
              "9559   FALSE POSITIVE      0.000              0              0              0   \n",
              "9560   FALSE POSITIVE      0.000              0              1              1   \n",
              "9561        CANDIDATE      0.497              0              0              0   \n",
              "9562   FALSE POSITIVE      0.021              0              0              1   \n",
              "9563   FALSE POSITIVE      0.000              0              0              1   \n",
              "\n",
              "      ...  koi_steff_err2  koi_slogg  koi_slogg_err1  koi_slogg_err2  \\\n",
              "0     ...           -81.0      4.467           0.064          -0.096   \n",
              "1     ...           -81.0      4.467           0.064          -0.096   \n",
              "2     ...          -176.0      4.544           0.044          -0.176   \n",
              "3     ...          -174.0      4.564           0.053          -0.168   \n",
              "4     ...          -211.0      4.438           0.070          -0.210   \n",
              "...   ...             ...        ...             ...             ...   \n",
              "9559  ...          -152.0      4.296           0.231          -0.189   \n",
              "9560  ...          -166.0      4.529           0.035          -0.196   \n",
              "9561  ...          -220.0      4.444           0.056          -0.224   \n",
              "9562  ...          -236.0      4.447           0.056          -0.224   \n",
              "9563  ...          -225.0      4.385           0.054          -0.216   \n",
              "\n",
              "      koi_srad  koi_srad_err1  koi_srad_err2         ra        dec  koi_kepmag  \n",
              "0        0.927          0.105         -0.061  291.93423  48.141651      15.347  \n",
              "1        0.927          0.105         -0.061  291.93423  48.141651      15.347  \n",
              "2        0.868          0.233         -0.078  297.00482  48.134129      15.436  \n",
              "3        0.791          0.201         -0.067  285.53461  48.285210      15.597  \n",
              "4        1.046          0.334         -0.133  288.75488  48.226200      15.509  \n",
              "...        ...            ...            ...        ...        ...         ...  \n",
              "9559     1.088          0.313         -0.228  298.74921  46.973351      14.478  \n",
              "9560     0.903          0.237         -0.079  297.18875  47.093819      14.082  \n",
              "9561     1.031          0.341         -0.114  286.50937  47.163219      14.757  \n",
              "9562     1.041          0.341         -0.114  294.16489  47.176281      15.385  \n",
              "9563     1.193          0.410         -0.137  297.00977  47.121021      14.826  \n",
              "\n",
              "[9564 rows x 50 columns]"
            ],
            "text/html": [
              "\n",
              "  <div id=\"df-1189b6cc-db47-4c45-a42d-015582930ee0\">\n",
              "    <div class=\"colab-df-container\">\n",
              "      <div>\n",
              "<style scoped>\n",
              "    .dataframe tbody tr th:only-of-type {\n",
              "        vertical-align: middle;\n",
              "    }\n",
              "\n",
              "    .dataframe tbody tr th {\n",
              "        vertical-align: top;\n",
              "    }\n",
              "\n",
              "    .dataframe thead th {\n",
              "        text-align: right;\n",
              "    }\n",
              "</style>\n",
              "<table border=\"1\" class=\"dataframe\">\n",
              "  <thead>\n",
              "    <tr style=\"text-align: right;\">\n",
              "      <th></th>\n",
              "      <th>rowid</th>\n",
              "      <th>kepid</th>\n",
              "      <th>kepoi_name</th>\n",
              "      <th>kepler_name</th>\n",
              "      <th>koi_disposition</th>\n",
              "      <th>koi_pdisposition</th>\n",
              "      <th>koi_score</th>\n",
              "      <th>koi_fpflag_nt</th>\n",
              "      <th>koi_fpflag_ss</th>\n",
              "      <th>koi_fpflag_co</th>\n",
              "      <th>...</th>\n",
              "      <th>koi_steff_err2</th>\n",
              "      <th>koi_slogg</th>\n",
              "      <th>koi_slogg_err1</th>\n",
              "      <th>koi_slogg_err2</th>\n",
              "      <th>koi_srad</th>\n",
              "      <th>koi_srad_err1</th>\n",
              "      <th>koi_srad_err2</th>\n",
              "      <th>ra</th>\n",
              "      <th>dec</th>\n",
              "      <th>koi_kepmag</th>\n",
              "    </tr>\n",
              "  </thead>\n",
              "  <tbody>\n",
              "    <tr>\n",
              "      <th>0</th>\n",
              "      <td>1</td>\n",
              "      <td>10797460</td>\n",
              "      <td>K00752.01</td>\n",
              "      <td>Kepler-227 b</td>\n",
              "      <td>CONFIRMED</td>\n",
              "      <td>CANDIDATE</td>\n",
              "      <td>1.000</td>\n",
              "      <td>0</td>\n",
              "      <td>0</td>\n",
              "      <td>0</td>\n",
              "      <td>...</td>\n",
              "      <td>-81.0</td>\n",
              "      <td>4.467</td>\n",
              "      <td>0.064</td>\n",
              "      <td>-0.096</td>\n",
              "      <td>0.927</td>\n",
              "      <td>0.105</td>\n",
              "      <td>-0.061</td>\n",
              "      <td>291.93423</td>\n",
              "      <td>48.141651</td>\n",
              "      <td>15.347</td>\n",
              "    </tr>\n",
              "    <tr>\n",
              "      <th>1</th>\n",
              "      <td>2</td>\n",
              "      <td>10797460</td>\n",
              "      <td>K00752.02</td>\n",
              "      <td>Kepler-227 c</td>\n",
              "      <td>CONFIRMED</td>\n",
              "      <td>CANDIDATE</td>\n",
              "      <td>0.969</td>\n",
              "      <td>0</td>\n",
              "      <td>0</td>\n",
              "      <td>0</td>\n",
              "      <td>...</td>\n",
              "      <td>-81.0</td>\n",
              "      <td>4.467</td>\n",
              "      <td>0.064</td>\n",
              "      <td>-0.096</td>\n",
              "      <td>0.927</td>\n",
              "      <td>0.105</td>\n",
              "      <td>-0.061</td>\n",
              "      <td>291.93423</td>\n",
              "      <td>48.141651</td>\n",
              "      <td>15.347</td>\n",
              "    </tr>\n",
              "    <tr>\n",
              "      <th>2</th>\n",
              "      <td>3</td>\n",
              "      <td>10811496</td>\n",
              "      <td>K00753.01</td>\n",
              "      <td>NaN</td>\n",
              "      <td>FALSE POSITIVE</td>\n",
              "      <td>FALSE POSITIVE</td>\n",
              "      <td>0.000</td>\n",
              "      <td>0</td>\n",
              "      <td>1</td>\n",
              "      <td>0</td>\n",
              "      <td>...</td>\n",
              "      <td>-176.0</td>\n",
              "      <td>4.544</td>\n",
              "      <td>0.044</td>\n",
              "      <td>-0.176</td>\n",
              "      <td>0.868</td>\n",
              "      <td>0.233</td>\n",
              "      <td>-0.078</td>\n",
              "      <td>297.00482</td>\n",
              "      <td>48.134129</td>\n",
              "      <td>15.436</td>\n",
              "    </tr>\n",
              "    <tr>\n",
              "      <th>3</th>\n",
              "      <td>4</td>\n",
              "      <td>10848459</td>\n",
              "      <td>K00754.01</td>\n",
              "      <td>NaN</td>\n",
              "      <td>FALSE POSITIVE</td>\n",
              "      <td>FALSE POSITIVE</td>\n",
              "      <td>0.000</td>\n",
              "      <td>0</td>\n",
              "      <td>1</td>\n",
              "      <td>0</td>\n",
              "      <td>...</td>\n",
              "      <td>-174.0</td>\n",
              "      <td>4.564</td>\n",
              "      <td>0.053</td>\n",
              "      <td>-0.168</td>\n",
              "      <td>0.791</td>\n",
              "      <td>0.201</td>\n",
              "      <td>-0.067</td>\n",
              "      <td>285.53461</td>\n",
              "      <td>48.285210</td>\n",
              "      <td>15.597</td>\n",
              "    </tr>\n",
              "    <tr>\n",
              "      <th>4</th>\n",
              "      <td>5</td>\n",
              "      <td>10854555</td>\n",
              "      <td>K00755.01</td>\n",
              "      <td>Kepler-664 b</td>\n",
              "      <td>CONFIRMED</td>\n",
              "      <td>CANDIDATE</td>\n",
              "      <td>1.000</td>\n",
              "      <td>0</td>\n",
              "      <td>0</td>\n",
              "      <td>0</td>\n",
              "      <td>...</td>\n",
              "      <td>-211.0</td>\n",
              "      <td>4.438</td>\n",
              "      <td>0.070</td>\n",
              "      <td>-0.210</td>\n",
              "      <td>1.046</td>\n",
              "      <td>0.334</td>\n",
              "      <td>-0.133</td>\n",
              "      <td>288.75488</td>\n",
              "      <td>48.226200</td>\n",
              "      <td>15.509</td>\n",
              "    </tr>\n",
              "    <tr>\n",
              "      <th>...</th>\n",
              "      <td>...</td>\n",
              "      <td>...</td>\n",
              "      <td>...</td>\n",
              "      <td>...</td>\n",
              "      <td>...</td>\n",
              "      <td>...</td>\n",
              "      <td>...</td>\n",
              "      <td>...</td>\n",
              "      <td>...</td>\n",
              "      <td>...</td>\n",
              "      <td>...</td>\n",
              "      <td>...</td>\n",
              "      <td>...</td>\n",
              "      <td>...</td>\n",
              "      <td>...</td>\n",
              "      <td>...</td>\n",
              "      <td>...</td>\n",
              "      <td>...</td>\n",
              "      <td>...</td>\n",
              "      <td>...</td>\n",
              "      <td>...</td>\n",
              "    </tr>\n",
              "    <tr>\n",
              "      <th>9559</th>\n",
              "      <td>9560</td>\n",
              "      <td>10031643</td>\n",
              "      <td>K07984.01</td>\n",
              "      <td>NaN</td>\n",
              "      <td>FALSE POSITIVE</td>\n",
              "      <td>FALSE POSITIVE</td>\n",
              "      <td>0.000</td>\n",
              "      <td>0</td>\n",
              "      <td>0</td>\n",
              "      <td>0</td>\n",
              "      <td>...</td>\n",
              "      <td>-152.0</td>\n",
              "      <td>4.296</td>\n",
              "      <td>0.231</td>\n",
              "      <td>-0.189</td>\n",
              "      <td>1.088</td>\n",
              "      <td>0.313</td>\n",
              "      <td>-0.228</td>\n",
              "      <td>298.74921</td>\n",
              "      <td>46.973351</td>\n",
              "      <td>14.478</td>\n",
              "    </tr>\n",
              "    <tr>\n",
              "      <th>9560</th>\n",
              "      <td>9561</td>\n",
              "      <td>10090151</td>\n",
              "      <td>K07985.01</td>\n",
              "      <td>NaN</td>\n",
              "      <td>FALSE POSITIVE</td>\n",
              "      <td>FALSE POSITIVE</td>\n",
              "      <td>0.000</td>\n",
              "      <td>0</td>\n",
              "      <td>1</td>\n",
              "      <td>1</td>\n",
              "      <td>...</td>\n",
              "      <td>-166.0</td>\n",
              "      <td>4.529</td>\n",
              "      <td>0.035</td>\n",
              "      <td>-0.196</td>\n",
              "      <td>0.903</td>\n",
              "      <td>0.237</td>\n",
              "      <td>-0.079</td>\n",
              "      <td>297.18875</td>\n",
              "      <td>47.093819</td>\n",
              "      <td>14.082</td>\n",
              "    </tr>\n",
              "    <tr>\n",
              "      <th>9561</th>\n",
              "      <td>9562</td>\n",
              "      <td>10128825</td>\n",
              "      <td>K07986.01</td>\n",
              "      <td>NaN</td>\n",
              "      <td>CANDIDATE</td>\n",
              "      <td>CANDIDATE</td>\n",
              "      <td>0.497</td>\n",
              "      <td>0</td>\n",
              "      <td>0</td>\n",
              "      <td>0</td>\n",
              "      <td>...</td>\n",
              "      <td>-220.0</td>\n",
              "      <td>4.444</td>\n",
              "      <td>0.056</td>\n",
              "      <td>-0.224</td>\n",
              "      <td>1.031</td>\n",
              "      <td>0.341</td>\n",
              "      <td>-0.114</td>\n",
              "      <td>286.50937</td>\n",
              "      <td>47.163219</td>\n",
              "      <td>14.757</td>\n",
              "    </tr>\n",
              "    <tr>\n",
              "      <th>9562</th>\n",
              "      <td>9563</td>\n",
              "      <td>10147276</td>\n",
              "      <td>K07987.01</td>\n",
              "      <td>NaN</td>\n",
              "      <td>FALSE POSITIVE</td>\n",
              "      <td>FALSE POSITIVE</td>\n",
              "      <td>0.021</td>\n",
              "      <td>0</td>\n",
              "      <td>0</td>\n",
              "      <td>1</td>\n",
              "      <td>...</td>\n",
              "      <td>-236.0</td>\n",
              "      <td>4.447</td>\n",
              "      <td>0.056</td>\n",
              "      <td>-0.224</td>\n",
              "      <td>1.041</td>\n",
              "      <td>0.341</td>\n",
              "      <td>-0.114</td>\n",
              "      <td>294.16489</td>\n",
              "      <td>47.176281</td>\n",
              "      <td>15.385</td>\n",
              "    </tr>\n",
              "    <tr>\n",
              "      <th>9563</th>\n",
              "      <td>9564</td>\n",
              "      <td>10156110</td>\n",
              "      <td>K07989.01</td>\n",
              "      <td>NaN</td>\n",
              "      <td>FALSE POSITIVE</td>\n",
              "      <td>FALSE POSITIVE</td>\n",
              "      <td>0.000</td>\n",
              "      <td>0</td>\n",
              "      <td>0</td>\n",
              "      <td>1</td>\n",
              "      <td>...</td>\n",
              "      <td>-225.0</td>\n",
              "      <td>4.385</td>\n",
              "      <td>0.054</td>\n",
              "      <td>-0.216</td>\n",
              "      <td>1.193</td>\n",
              "      <td>0.410</td>\n",
              "      <td>-0.137</td>\n",
              "      <td>297.00977</td>\n",
              "      <td>47.121021</td>\n",
              "      <td>14.826</td>\n",
              "    </tr>\n",
              "  </tbody>\n",
              "</table>\n",
              "<p>9564 rows × 50 columns</p>\n",
              "</div>\n",
              "      <button class=\"colab-df-convert\" onclick=\"convertToInteractive('df-1189b6cc-db47-4c45-a42d-015582930ee0')\"\n",
              "              title=\"Convert this dataframe to an interactive table.\"\n",
              "              style=\"display:none;\">\n",
              "        \n",
              "  <svg xmlns=\"http://www.w3.org/2000/svg\" height=\"24px\"viewBox=\"0 0 24 24\"\n",
              "       width=\"24px\">\n",
              "    <path d=\"M0 0h24v24H0V0z\" fill=\"none\"/>\n",
              "    <path d=\"M18.56 5.44l.94 2.06.94-2.06 2.06-.94-2.06-.94-.94-2.06-.94 2.06-2.06.94zm-11 1L8.5 8.5l.94-2.06 2.06-.94-2.06-.94L8.5 2.5l-.94 2.06-2.06.94zm10 10l.94 2.06.94-2.06 2.06-.94-2.06-.94-.94-2.06-.94 2.06-2.06.94z\"/><path d=\"M17.41 7.96l-1.37-1.37c-.4-.4-.92-.59-1.43-.59-.52 0-1.04.2-1.43.59L10.3 9.45l-7.72 7.72c-.78.78-.78 2.05 0 2.83L4 21.41c.39.39.9.59 1.41.59.51 0 1.02-.2 1.41-.59l7.78-7.78 2.81-2.81c.8-.78.8-2.07 0-2.86zM5.41 20L4 18.59l7.72-7.72 1.47 1.35L5.41 20z\"/>\n",
              "  </svg>\n",
              "      </button>\n",
              "      \n",
              "  <style>\n",
              "    .colab-df-container {\n",
              "      display:flex;\n",
              "      flex-wrap:wrap;\n",
              "      gap: 12px;\n",
              "    }\n",
              "\n",
              "    .colab-df-convert {\n",
              "      background-color: #E8F0FE;\n",
              "      border: none;\n",
              "      border-radius: 50%;\n",
              "      cursor: pointer;\n",
              "      display: none;\n",
              "      fill: #1967D2;\n",
              "      height: 32px;\n",
              "      padding: 0 0 0 0;\n",
              "      width: 32px;\n",
              "    }\n",
              "\n",
              "    .colab-df-convert:hover {\n",
              "      background-color: #E2EBFA;\n",
              "      box-shadow: 0px 1px 2px rgba(60, 64, 67, 0.3), 0px 1px 3px 1px rgba(60, 64, 67, 0.15);\n",
              "      fill: #174EA6;\n",
              "    }\n",
              "\n",
              "    [theme=dark] .colab-df-convert {\n",
              "      background-color: #3B4455;\n",
              "      fill: #D2E3FC;\n",
              "    }\n",
              "\n",
              "    [theme=dark] .colab-df-convert:hover {\n",
              "      background-color: #434B5C;\n",
              "      box-shadow: 0px 1px 3px 1px rgba(0, 0, 0, 0.15);\n",
              "      filter: drop-shadow(0px 1px 2px rgba(0, 0, 0, 0.3));\n",
              "      fill: #FFFFFF;\n",
              "    }\n",
              "  </style>\n",
              "\n",
              "      <script>\n",
              "        const buttonEl =\n",
              "          document.querySelector('#df-1189b6cc-db47-4c45-a42d-015582930ee0 button.colab-df-convert');\n",
              "        buttonEl.style.display =\n",
              "          google.colab.kernel.accessAllowed ? 'block' : 'none';\n",
              "\n",
              "        async function convertToInteractive(key) {\n",
              "          const element = document.querySelector('#df-1189b6cc-db47-4c45-a42d-015582930ee0');\n",
              "          const dataTable =\n",
              "            await google.colab.kernel.invokeFunction('convertToInteractive',\n",
              "                                                     [key], {});\n",
              "          if (!dataTable) return;\n",
              "\n",
              "          const docLinkHtml = 'Like what you see? Visit the ' +\n",
              "            '<a target=\"_blank\" href=https://colab.research.google.com/notebooks/data_table.ipynb>data table notebook</a>'\n",
              "            + ' to learn more about interactive tables.';\n",
              "          element.innerHTML = '';\n",
              "          dataTable['output_type'] = 'display_data';\n",
              "          await google.colab.output.renderOutput(dataTable, element);\n",
              "          const docLink = document.createElement('div');\n",
              "          docLink.innerHTML = docLinkHtml;\n",
              "          element.appendChild(docLink);\n",
              "        }\n",
              "      </script>\n",
              "    </div>\n",
              "  </div>\n",
              "  "
            ]
          },
          "metadata": {},
          "execution_count": 35
        }
      ],
      "source": [
        "import pandas as pd \n",
        "df_cumulative = pd.read_csv(\"cumulative.csv\", on_bad_lines='skip',delimiter=',')\n",
        "df_cumulative "
      ]
    },
    {
      "cell_type": "code",
      "source": [
        "df_cumulative.info()"
      ],
      "metadata": {
        "colab": {
          "base_uri": "https://localhost:8080/"
        },
        "id": "5H_oPmBp7KT_",
        "outputId": "49cf6a25-8322-4689-faa0-c0536829ba93"
      },
      "execution_count": 36,
      "outputs": [
        {
          "output_type": "stream",
          "name": "stdout",
          "text": [
            "<class 'pandas.core.frame.DataFrame'>\n",
            "RangeIndex: 9564 entries, 0 to 9563\n",
            "Data columns (total 50 columns):\n",
            " #   Column             Non-Null Count  Dtype  \n",
            "---  ------             --------------  -----  \n",
            " 0   rowid              9564 non-null   int64  \n",
            " 1   kepid              9564 non-null   int64  \n",
            " 2   kepoi_name         9564 non-null   object \n",
            " 3   kepler_name        2294 non-null   object \n",
            " 4   koi_disposition    9564 non-null   object \n",
            " 5   koi_pdisposition   9564 non-null   object \n",
            " 6   koi_score          8054 non-null   float64\n",
            " 7   koi_fpflag_nt      9564 non-null   int64  \n",
            " 8   koi_fpflag_ss      9564 non-null   int64  \n",
            " 9   koi_fpflag_co      9564 non-null   int64  \n",
            " 10  koi_fpflag_ec      9564 non-null   int64  \n",
            " 11  koi_period         9564 non-null   float64\n",
            " 12  koi_period_err1    9110 non-null   float64\n",
            " 13  koi_period_err2    9110 non-null   float64\n",
            " 14  koi_time0bk        9564 non-null   float64\n",
            " 15  koi_time0bk_err1   9110 non-null   float64\n",
            " 16  koi_time0bk_err2   9110 non-null   float64\n",
            " 17  koi_impact         9201 non-null   float64\n",
            " 18  koi_impact_err1    9110 non-null   float64\n",
            " 19  koi_impact_err2    9110 non-null   float64\n",
            " 20  koi_duration       9564 non-null   float64\n",
            " 21  koi_duration_err1  9110 non-null   float64\n",
            " 22  koi_duration_err2  9110 non-null   float64\n",
            " 23  koi_depth          9201 non-null   float64\n",
            " 24  koi_depth_err1     9110 non-null   float64\n",
            " 25  koi_depth_err2     9110 non-null   float64\n",
            " 26  koi_prad           9201 non-null   float64\n",
            " 27  koi_prad_err1      9201 non-null   float64\n",
            " 28  koi_prad_err2      9201 non-null   float64\n",
            " 29  koi_teq            9201 non-null   float64\n",
            " 30  koi_teq_err1       0 non-null      float64\n",
            " 31  koi_teq_err2       0 non-null      float64\n",
            " 32  koi_insol          9243 non-null   float64\n",
            " 33  koi_insol_err1     9243 non-null   float64\n",
            " 34  koi_insol_err2     9243 non-null   float64\n",
            " 35  koi_model_snr      9201 non-null   float64\n",
            " 36  koi_tce_plnt_num   9218 non-null   float64\n",
            " 37  koi_tce_delivname  9218 non-null   object \n",
            " 38  koi_steff          9201 non-null   float64\n",
            " 39  koi_steff_err1     9096 non-null   float64\n",
            " 40  koi_steff_err2     9081 non-null   float64\n",
            " 41  koi_slogg          9201 non-null   float64\n",
            " 42  koi_slogg_err1     9096 non-null   float64\n",
            " 43  koi_slogg_err2     9096 non-null   float64\n",
            " 44  koi_srad           9201 non-null   float64\n",
            " 45  koi_srad_err1      9096 non-null   float64\n",
            " 46  koi_srad_err2      9096 non-null   float64\n",
            " 47  ra                 9564 non-null   float64\n",
            " 48  dec                9564 non-null   float64\n",
            " 49  koi_kepmag         9563 non-null   float64\n",
            "dtypes: float64(39), int64(6), object(5)\n",
            "memory usage: 3.6+ MB\n"
          ]
        }
      ]
    },
    {
      "cell_type": "markdown",
      "source": [
        "Depiction of value count to show the bias within the data for column 'koi_tce_delivname'"
      ],
      "metadata": {
        "id": "d-cqcDMC6ot5"
      }
    },
    {
      "cell_type": "code",
      "source": [
        "df_cumulative['koi_tce_delivname'].value_counts()"
      ],
      "metadata": {
        "id": "aCBVBKqBPTGV",
        "colab": {
          "base_uri": "https://localhost:8080/"
        },
        "outputId": "20a329ef-73f7-4a25-8b76-7f953f72a463"
      },
      "execution_count": 37,
      "outputs": [
        {
          "output_type": "execute_result",
          "data": {
            "text/plain": [
              "q1_q17_dr25_tce    8054\n",
              "q1_q16_tce          796\n",
              "q1_q17_dr24_tce     368\n",
              "Name: koi_tce_delivname, dtype: int64"
            ]
          },
          "metadata": {},
          "execution_count": 37
        }
      ]
    },
    {
      "cell_type": "markdown",
      "source": [
        "Depiction of value count to show the bias within the data for column 'koi_insol'"
      ],
      "metadata": {
        "id": "JDH0cNzS65E4"
      }
    },
    {
      "cell_type": "code",
      "source": [
        "df_cumulative['koi_insol'].value_counts() #Shows that the column is "
      ],
      "metadata": {
        "id": "Lr5BVZwRPYHF",
        "colab": {
          "base_uri": "https://localhost:8080/"
        },
        "outputId": "5d032c26-1121-419e-9cc5-182efaf04aa8"
      },
      "execution_count": 38,
      "outputs": [
        {
          "output_type": "execute_result",
          "data": {
            "text/plain": [
              "1.28      11\n",
              "0.35      11\n",
              "0.58      10\n",
              "0.52      10\n",
              "0.80       9\n",
              "          ..\n",
              "152.86     1\n",
              "209.11     1\n",
              "10.44      1\n",
              "283.28     1\n",
              "607.42     1\n",
              "Name: koi_insol, Length: 7801, dtype: int64"
            ]
          },
          "metadata": {},
          "execution_count": 38
        }
      ]
    },
    {
      "cell_type": "markdown",
      "source": [
        "Histogram for the target column 'koi_dispostion'"
      ],
      "metadata": {
        "id": "NIQJuw_QN4rq"
      }
    },
    {
      "cell_type": "code",
      "source": [
        "import seaborn as sns\n",
        "sns.set(rc={'figure.figsize':(10,8)})\n",
        "sns.countplot(df_cumulative['koi_disposition'],palette='winter_r')"
      ],
      "metadata": {
        "colab": {
          "base_uri": "https://localhost:8080/",
          "height": 574
        },
        "id": "QsyFQSZyM6tr",
        "outputId": "f8936bdb-6071-40d3-dc41-fc1193beed99"
      },
      "execution_count": 39,
      "outputs": [
        {
          "output_type": "stream",
          "name": "stderr",
          "text": [
            "/usr/local/lib/python3.8/dist-packages/seaborn/_decorators.py:36: FutureWarning: Pass the following variable as a keyword arg: x. From version 0.12, the only valid positional argument will be `data`, and passing other arguments without an explicit keyword will result in an error or misinterpretation.\n",
            "  warnings.warn(\n"
          ]
        },
        {
          "output_type": "execute_result",
          "data": {
            "text/plain": [
              "<AxesSubplot:xlabel='koi_disposition', ylabel='count'>"
            ]
          },
          "metadata": {},
          "execution_count": 39
        },
        {
          "output_type": "display_data",
          "data": {
            "text/plain": [
              "<Figure size 720x576 with 1 Axes>"
            ],
            "image/png": "[encoded data removed]"
          },
          "metadata": {}
        }
      ]
    },
    {
      "cell_type": "markdown",
      "source": [
        "**Dropping columns based on bias and correlation analysis**"
      ],
      "metadata": {
        "id": "KH7x_Qog7jEA"
      }
    },
    {
      "cell_type": "code",
      "source": [
        "df_cumulative.drop(columns=['koi_teq_err1','koi_teq_err2','kepler_name','koi_tce_delivname','rowid'],inplace=True)"
      ],
      "metadata": {
        "id": "0uLy-Qh3NxI_"
      },
      "execution_count": 40,
      "outputs": []
    },
    {
      "cell_type": "code",
      "source": [
        "df_cumulative.drop(columns=['kepid'],inplace=True)"
      ],
      "metadata": {
        "id": "mhuO4TC4Nyr_"
      },
      "execution_count": 41,
      "outputs": []
    },
    {
      "cell_type": "code",
      "source": [
        "df_cumulative.drop(columns=['koi_time0bk_err1','koi_impact_err2','koi_time0bk','koi_time0bk_err2','koi_insol'], inplace=True)"
      ],
      "metadata": {
        "id": "uu-Pz2tOOUWj"
      },
      "execution_count": 42,
      "outputs": []
    },
    {
      "cell_type": "code",
      "source": [
        "df_cumulative.drop(columns=['kepoi_name'], inplace=True)"
      ],
      "metadata": {
        "id": "fTqZH_9UY_y3"
      },
      "execution_count": 43,
      "outputs": []
    },
    {
      "cell_type": "markdown",
      "source": [
        "# Correlation Analysis\n"
      ],
      "metadata": {
        "id": "eQkVLxZz7XUO"
      }
    },
    {
      "cell_type": "code",
      "source": [
        "import matplotlib.pyplot as plt\n",
        "import seaborn as sns\n",
        "%matplotlib inline\n",
        "\n",
        "\n",
        "corr = df_cumulative.corr()\n",
        "corr.style.background_gradient(cmap='YlOrRd')"
      ],
      "metadata": {
        "colab": {
          "base_uri": "https://localhost:8080/",
          "height": 1000
        },
        "id": "-P0WlJbe7bPl",
        "outputId": "204125d9-c782-4d28-d2bd-d161456060a2"
      },
      "execution_count": 44,
      "outputs": [
        {
          "output_type": "execute_result",
          "data": {
            "text/plain": [
              "<pandas.io.formats.style.Styler at 0x7f0d52fdb280>"
            ],
            "text/html": [
              "<style type=\"text/css\">\n",
              "#T_38982_row0_col0, #T_38982_row1_col1, #T_38982_row2_col2, #T_38982_row3_col3, #T_38982_row4_col4, #T_38982_row5_col5, #T_38982_row6_col6, #T_38982_row7_col7, #T_38982_row8_col8, #T_38982_row9_col9, #T_38982_row10_col10, #T_38982_row11_col11, #T_38982_row12_col12, #T_38982_row13_col13, #T_38982_row14_col14, #T_38982_row15_col15, #T_38982_row16_col16, #T_38982_row17_col17, #T_38982_row18_col18, #T_38982_row19_col19, #T_38982_row20_col20, #T_38982_row21_col21, #T_38982_row22_col22, #T_38982_row23_col23, #T_38982_row24_col24, #T_38982_row25_col25, #T_38982_row26_col26, #T_38982_row27_col27, #T_38982_row28_col28, #T_38982_row29_col29, #T_38982_row30_col30, #T_38982_row31_col31, #T_38982_row32_col32, #T_38982_row33_col33, #T_38982_row34_col34, #T_38982_row35_col35 {\n",
              "  background-color: #800026;\n",
              "  color: #f1f1f1;\n",
              "}\n",
              "#T_38982_row0_col1 {\n",
              "  background-color: #fffdc8;\n",
              "  color: #000000;\n",
              "}\n",
              "#T_38982_row0_col2, #T_38982_row0_col3, #T_38982_row0_col4, #T_38982_row0_col5, #T_38982_row0_col9, #T_38982_row0_col13, #T_38982_row0_col22, #T_38982_row0_col33, #T_38982_row2_col0, #T_38982_row2_col23, #T_38982_row3_col34, #T_38982_row6_col7, #T_38982_row7_col6, #T_38982_row11_col12, #T_38982_row12_col1, #T_38982_row12_col10, #T_38982_row12_col11, #T_38982_row14_col15, #T_38982_row15_col14, #T_38982_row16_col18, #T_38982_row18_col8, #T_38982_row18_col16, #T_38982_row18_col17, #T_38982_row20_col21, #T_38982_row21_col20, #T_38982_row24_col35, #T_38982_row25_col26, #T_38982_row25_col29, #T_38982_row26_col24, #T_38982_row26_col25, #T_38982_row27_col19, #T_38982_row27_col28, #T_38982_row28_col35, #T_38982_row30_col27, #T_38982_row30_col32, #T_38982_row32_col30, #T_38982_row32_col31 {\n",
              "  background-color: #ffffcc;\n",
              "  color: #000000;\n",
              "}\n",
              "#T_38982_row0_col6, #T_38982_row3_col6, #T_38982_row5_col25, #T_38982_row5_col26, #T_38982_row7_col2, #T_38982_row7_col21, #T_38982_row9_col20, #T_38982_row10_col32, #T_38982_row11_col20, #T_38982_row15_col26, #T_38982_row22_col20, #T_38982_row23_col20, #T_38982_row23_col32, #T_38982_row25_col12, #T_38982_row34_col20, #T_38982_row34_col26 {\n",
              "  background-color: #fd9a42;\n",
              "  color: #000000;\n",
              "}\n",
              "#T_38982_row0_col7, #T_38982_row3_col7, #T_38982_row25_col11, #T_38982_row27_col18 {\n",
              "  background-color: #fd7636;\n",
              "  color: #f1f1f1;\n",
              "}\n",
              "#T_38982_row0_col8, #T_38982_row3_col10, #T_38982_row5_col35, #T_38982_row8_col35, #T_38982_row11_col2, #T_38982_row19_col21, #T_38982_row20_col32, #T_38982_row33_col22 {\n",
              "  background-color: #feda78;\n",
              "  color: #000000;\n",
              "}\n",
              "#T_38982_row0_col10, #T_38982_row1_col22, #T_38982_row1_col33, #T_38982_row5_col33, #T_38982_row16_col23, #T_38982_row16_col33, #T_38982_row17_col9, #T_38982_row17_col23, #T_38982_row25_col9, #T_38982_row35_col33 {\n",
              "  background-color: #ffe998;\n",
              "  color: #000000;\n",
              "}\n",
              "#T_38982_row0_col11, #T_38982_row2_col21, #T_38982_row2_col32, #T_38982_row3_col21, #T_38982_row3_col32, #T_38982_row6_col20, #T_38982_row8_col32, #T_38982_row12_col30, #T_38982_row21_col26, #T_38982_row25_col20, #T_38982_row34_col30 {\n",
              "  background-color: #fd9c42;\n",
              "  color: #000000;\n",
              "}\n",
              "#T_38982_row0_col12, #T_38982_row35_col32 {\n",
              "  background-color: #fd7435;\n",
              "  color: #f1f1f1;\n",
              "}\n",
              "#T_38982_row0_col14, #T_38982_row2_col31, #T_38982_row6_col31, #T_38982_row12_col27, #T_38982_row16_col31, #T_38982_row32_col0 {\n",
              "  background-color: #fea647;\n",
              "  color: #000000;\n",
              "}\n",
              "#T_38982_row0_col15 {\n",
              "  background-color: #fc6330;\n",
              "  color: #f1f1f1;\n",
              "}\n",
              "#T_38982_row0_col16, #T_38982_row1_col21, #T_38982_row4_col6, #T_38982_row4_col32, #T_38982_row5_col20, #T_38982_row8_col20, #T_38982_row9_col2, #T_38982_row10_col1, #T_38982_row12_col21, #T_38982_row13_col20, #T_38982_row13_col30, #T_38982_row14_col20, #T_38982_row15_col21, #T_38982_row16_col21, #T_38982_row17_col21, #T_38982_row18_col20, #T_38982_row22_col6, #T_38982_row22_col30, #T_38982_row25_col7, #T_38982_row26_col11, #T_38982_row26_col20, #T_38982_row26_col21, #T_38982_row31_col25 {\n",
              "  background-color: #fd9941;\n",
              "  color: #000000;\n",
              "}\n",
              "#T_38982_row0_col17, #T_38982_row1_col26, #T_38982_row1_col28, #T_38982_row10_col7, #T_38982_row25_col4, #T_38982_row28_col26, #T_38982_row30_col3 {\n",
              "  background-color: #feb54f;\n",
              "  color: #000000;\n",
              "}\n",
              "#T_38982_row0_col18, #T_38982_row1_col16, #T_38982_row19_col25, #T_38982_row23_col11, #T_38982_row27_col12 {\n",
              "  background-color: #fd8239;\n",
              "  color: #f1f1f1;\n",
              "}\n",
              "#T_38982_row0_col19, #T_38982_row1_col0, #T_38982_row6_col22, #T_38982_row8_col23, #T_38982_row11_col33, #T_38982_row14_col23, #T_38982_row20_col23, #T_38982_row29_col1 {\n",
              "  background-color: #ffea99;\n",
              "  color: #000000;\n",
              "}\n",
              "#T_38982_row0_col20, #T_38982_row13_col11, #T_38982_row16_col32, #T_38982_row24_col2, #T_38982_row26_col27, #T_38982_row31_col17 {\n",
              "  background-color: #fea044;\n",
              "  color: #000000;\n",
              "}\n",
              "#T_38982_row0_col21, #T_38982_row1_col18, #T_38982_row1_col20, #T_38982_row4_col30, #T_38982_row5_col7, #T_38982_row6_col10, #T_38982_row10_col30, #T_38982_row15_col0, #T_38982_row25_col21, #T_38982_row26_col32, #T_38982_row33_col20 {\n",
              "  background-color: #fd953f;\n",
              "  color: #000000;\n",
              "}\n",
              "#T_38982_row0_col23, #T_38982_row1_col3, #T_38982_row1_col19, #T_38982_row5_col3, #T_38982_row8_col28, #T_38982_row9_col28, #T_38982_row12_col22, #T_38982_row15_col28, #T_38982_row16_col27, #T_38982_row17_col27, #T_38982_row28_col3 {\n",
              "  background-color: #fec05b;\n",
              "  color: #000000;\n",
              "}\n",
              "#T_38982_row0_col24, #T_38982_row10_col0, #T_38982_row13_col3, #T_38982_row20_col10, #T_38982_row22_col3, #T_38982_row26_col2, #T_38982_row29_col4, #T_38982_row33_col0 {\n",
              "  background-color: #fed673;\n",
              "  color: #000000;\n",
              "}\n",
              "#T_38982_row0_col25, #T_38982_row10_col29, #T_38982_row11_col19, #T_38982_row15_col1, #T_38982_row19_col22, #T_38982_row19_col33, #T_38982_row24_col0 {\n",
              "  background-color: #fed977;\n",
              "  color: #000000;\n",
              "}\n",
              "#T_38982_row0_col26, #T_38982_row10_col6, #T_38982_row13_col2, #T_38982_row30_col19 {\n",
              "  background-color: #fa4a29;\n",
              "  color: #f1f1f1;\n",
              "}\n",
              "#T_38982_row0_col27, #T_38982_row2_col30, #T_38982_row4_col20, #T_38982_row5_col12, #T_38982_row7_col26, #T_38982_row12_col32, #T_38982_row24_col7, #T_38982_row28_col20, #T_38982_row31_col7, #T_38982_row31_col18, #T_38982_row32_col11, #T_38982_row33_col6 {\n",
              "  background-color: #fd923e;\n",
              "  color: #000000;\n",
              "}\n",
              "#T_38982_row0_col28, #T_38982_row8_col22, #T_38982_row14_col22, #T_38982_row15_col22, #T_38982_row17_col22, #T_38982_row18_col22, #T_38982_row22_col1, #T_38982_row23_col35, #T_38982_row31_col22 {\n",
              "  background-color: #fedf83;\n",
              "  color: #000000;\n",
              "}\n",
              "#T_38982_row0_col29, #T_38982_row2_col19, #T_38982_row5_col30, #T_38982_row5_col32, #T_38982_row6_col21, #T_38982_row6_col32, #T_38982_row7_col32, #T_38982_row8_col25, #T_38982_row12_col20, #T_38982_row13_col32, #T_38982_row14_col30, #T_38982_row14_col32, #T_38982_row15_col30, #T_38982_row15_col32, #T_38982_row21_col25, #T_38982_row22_col24, #T_38982_row22_col32, #T_38982_row23_col30, #T_38982_row24_col12, #T_38982_row29_col20, #T_38982_row32_col16, #T_38982_row34_col21 {\n",
              "  background-color: #fd9740;\n",
              "  color: #000000;\n",
              "}\n",
              "#T_38982_row0_col30, #T_38982_row1_col17, #T_38982_row7_col0, #T_38982_row12_col0, #T_38982_row25_col19, #T_38982_row34_col0 {\n",
              "  background-color: #fea245;\n",
              "  color: #000000;\n",
              "}\n",
              "#T_38982_row0_col31, #T_38982_row6_col28, #T_38982_row13_col10, #T_38982_row25_col10, #T_38982_row27_col29 {\n",
              "  background-color: #fec15d;\n",
              "  color: #000000;\n",
              "}\n",
              "#T_38982_row0_col32, #T_38982_row2_col14, #T_38982_row3_col12, #T_38982_row3_col15, #T_38982_row9_col7, #T_38982_row11_col16, #T_38982_row12_col18, #T_38982_row19_col15, #T_38982_row20_col12, #T_38982_row21_col6, #T_38982_row24_col18, #T_38982_row24_col32, #T_38982_row25_col18, #T_38982_row26_col15, #T_38982_row26_col18, #T_38982_row27_col14, #T_38982_row29_col14, #T_38982_row29_col16, #T_38982_row33_col14, #T_38982_row34_col6 {\n",
              "  background-color: #fd8a3b;\n",
              "  color: #f1f1f1;\n",
              "}\n",
              "#T_38982_row0_col34, #T_38982_row6_col13, #T_38982_row10_col35, #T_38982_row13_col0, #T_38982_row19_col0, #T_38982_row22_col33, #T_38982_row27_col22, #T_38982_row35_col19 {\n",
              "  background-color: #ffe58f;\n",
              "  color: #000000;\n",
              "}\n",
              "#T_38982_row0_col35, #T_38982_row4_col29, #T_38982_row6_col2, #T_38982_row6_col3, #T_38982_row10_col13, #T_38982_row13_col35, #T_38982_row14_col4, #T_38982_row31_col21 {\n",
              "  background-color: #fecf6b;\n",
              "  color: #000000;\n",
              "}\n",
              "#T_38982_row1_col2, #T_38982_row16_col22, #T_38982_row26_col19, #T_38982_row29_col10, #T_38982_row32_col22, #T_38982_row32_col28, #T_38982_row34_col22 {\n",
              "  background-color: #fee084;\n",
              "  color: #000000;\n",
              "}\n",
              "#T_38982_row1_col4, #T_38982_row5_col10, #T_38982_row8_col10, #T_38982_row9_col29, #T_38982_row16_col1, #T_38982_row16_col10, #T_38982_row21_col28, #T_38982_row21_col35, #T_38982_row25_col22, #T_38982_row26_col35, #T_38982_row29_col31, #T_38982_row31_col4, #T_38982_row32_col29 {\n",
              "  background-color: #fec965;\n",
              "  color: #000000;\n",
              "}\n",
              "#T_38982_row1_col5, #T_38982_row6_col9, #T_38982_row11_col5, #T_38982_row17_col34, #T_38982_row26_col34, #T_38982_row28_col27 {\n",
              "  background-color: #fff1ab;\n",
              "  color: #000000;\n",
              "}\n",
              "#T_38982_row1_col6, #T_38982_row22_col13, #T_38982_row25_col24, #T_38982_row35_col27 {\n",
              "  background-color: #f13824;\n",
              "  color: #f1f1f1;\n",
              "}\n",
              "#T_38982_row1_col7, #T_38982_row4_col28, #T_38982_row5_col0, #T_38982_row7_col28, #T_38982_row16_col28, #T_38982_row16_col29, #T_38982_row18_col28, #T_38982_row24_col22, #T_38982_row30_col0, #T_38982_row32_col3 {\n",
              "  background-color: #fec35e;\n",
              "  color: #000000;\n",
              "}\n",
              "#T_38982_row1_col8, #T_38982_row3_col31, #T_38982_row4_col31, #T_38982_row9_col3, #T_38982_row10_col26, #T_38982_row23_col27, #T_38982_row28_col17, #T_38982_row35_col20 {\n",
              "  background-color: #fea747;\n",
              "  color: #000000;\n",
              "}\n",
              "#T_38982_row1_col9, #T_38982_row8_col34, #T_38982_row18_col34, #T_38982_row22_col34, #T_38982_row29_col33, #T_38982_row32_col19 {\n",
              "  background-color: #fff3ae;\n",
              "  color: #000000;\n",
              "}\n",
              "#T_38982_row1_col10, #T_38982_row3_col2, #T_38982_row5_col21, #T_38982_row7_col30, #T_38982_row8_col21, #T_38982_row9_col8, #T_38982_row9_col21, #T_38982_row9_col32, #T_38982_row11_col21, #T_38982_row13_col6, #T_38982_row13_col21, #T_38982_row14_col21, #T_38982_row14_col25, #T_38982_row15_col20, #T_38982_row16_col20, #T_38982_row17_col20, #T_38982_row18_col21, #T_38982_row18_col25, #T_38982_row18_col26, #T_38982_row22_col21, #T_38982_row23_col21, #T_38982_row25_col28, #T_38982_row27_col0, #T_38982_row29_col32, #T_38982_row30_col26, #T_38982_row31_col28, #T_38982_row32_col26 {\n",
              "  background-color: #fd9841;\n",
              "  color: #000000;\n",
              "}\n",
              "#T_38982_row1_col11, #T_38982_row20_col31 {\n",
              "  background-color: #f03523;\n",
              "  color: #f1f1f1;\n",
              "}\n",
              "#T_38982_row1_col12, #T_38982_row3_col28, #T_38982_row5_col19, #T_38982_row10_col3, #T_38982_row10_col27, #T_38982_row20_col4, #T_38982_row28_col1, #T_38982_row28_col13 {\n",
              "  background-color: #fec561;\n",
              "  color: #000000;\n",
              "}\n",
              "#T_38982_row1_col13, #T_38982_row11_col29, #T_38982_row22_col0 {\n",
              "  background-color: #fee288;\n",
              "  color: #000000;\n",
              "}\n",
              "#T_38982_row1_col14, #T_38982_row4_col25, #T_38982_row8_col6, #T_38982_row8_col11, #T_38982_row10_col16, #T_38982_row22_col25, #T_38982_row28_col11, #T_38982_row28_col24, #T_38982_row29_col0, #T_38982_row30_col11, #T_38982_row31_col16, #T_38982_row35_col7 {\n",
              "  background-color: #fd863a;\n",
              "  color: #f1f1f1;\n",
              "}\n",
              "#T_38982_row1_col15, #T_38982_row1_col30, #T_38982_row3_col30, #T_38982_row4_col19, #T_38982_row6_col18, #T_38982_row7_col16, #T_38982_row8_col7, #T_38982_row8_col12, #T_38982_row9_col18, #T_38982_row11_col18, #T_38982_row12_col16, #T_38982_row19_col2, #T_38982_row24_col21, #T_38982_row25_col16, #T_38982_row26_col16, #T_38982_row27_col25, #T_38982_row28_col12, #T_38982_row30_col12, #T_38982_row35_col6, #T_38982_row35_col16, #T_38982_row35_col25 {\n",
              "  background-color: #fd913e;\n",
              "  color: #000000;\n",
              "}\n",
              "#T_38982_row1_col23, #T_38982_row6_col29, #T_38982_row20_col35, #T_38982_row27_col1, #T_38982_row27_col23, #T_38982_row30_col21 {\n",
              "  background-color: #ffe48d;\n",
              "  color: #000000;\n",
              "}\n",
              "#T_38982_row1_col24, #T_38982_row1_col32, #T_38982_row2_col24, #T_38982_row10_col24, #T_38982_row12_col19, #T_38982_row15_col25, #T_38982_row17_col26, #T_38982_row20_col25, #T_38982_row28_col21, #T_38982_row33_col3, #T_38982_row33_col24 {\n",
              "  background-color: #fd9e43;\n",
              "  color: #000000;\n",
              "}\n",
              "#T_38982_row1_col25, #T_38982_row26_col7, #T_38982_row31_col11, #T_38982_row33_col25, #T_38982_row35_col12 {\n",
              "  background-color: #fd7e38;\n",
              "  color: #f1f1f1;\n",
              "}\n",
              "#T_38982_row1_col27, #T_38982_row5_col28, #T_38982_row14_col28, #T_38982_row14_col29, #T_38982_row16_col0, #T_38982_row20_col29, #T_38982_row24_col13 {\n",
              "  background-color: #fec45f;\n",
              "  color: #000000;\n",
              "}\n",
              "#T_38982_row1_col29, #T_38982_row6_col19, #T_38982_row8_col18, #T_38982_row20_col27, #T_38982_row21_col31, #T_38982_row29_col22, #T_38982_row31_col33, #T_38982_row35_col1 {\n",
              "  background-color: #fee289;\n",
              "  color: #000000;\n",
              "}\n",
              "#T_38982_row1_col31, #T_38982_row4_col21, #T_38982_row10_col20, #T_38982_row11_col32, #T_38982_row13_col24, #T_38982_row14_col26, #T_38982_row17_col25, #T_38982_row18_col27, #T_38982_row20_col26, #T_38982_row27_col16, #T_38982_row29_col21, #T_38982_row33_col21, #T_38982_row34_col25 {\n",
              "  background-color: #fd9d43;\n",
              "  color: #000000;\n",
              "}\n",
              "#T_38982_row1_col34, #T_38982_row23_col5, #T_38982_row24_col5 {\n",
              "  background-color: #fff8ba;\n",
              "  color: #000000;\n",
              "}\n",
              "#T_38982_row1_col35, #T_38982_row34_col23 {\n",
              "  background-color: #ffe590;\n",
              "  color: #000000;\n",
              "}\n",
              "#T_38982_row2_col1, #T_38982_row21_col19 {\n",
              "  background-color: #fff3af;\n",
              "  color: #000000;\n",
              "}\n",
              "#T_38982_row2_col3, #T_38982_row7_col29, #T_38982_row16_col25, #T_38982_row16_col26, #T_38982_row17_col32, #T_38982_row18_col30, #T_38982_row19_col4, #T_38982_row25_col3, #T_38982_row28_col2, #T_38982_row33_col32 {\n",
              "  background-color: #fd9f44;\n",
              "  color: #000000;\n",
              "}\n",
              "#T_38982_row2_col4, #T_38982_row2_col26, #T_38982_row7_col24, #T_38982_row12_col8, #T_38982_row12_col31, #T_38982_row21_col2 {\n",
              "  background-color: #feb852;\n",
              "  color: #000000;\n",
              "}\n",
              "#T_38982_row2_col5, #T_38982_row2_col34, #T_38982_row24_col29 {\n",
              "  background-color: #fff9bd;\n",
              "  color: #000000;\n",
              "}\n",
              "#T_38982_row2_col6, #T_38982_row4_col2, #T_38982_row8_col26, #T_38982_row9_col26, #T_38982_row11_col31, #T_38982_row17_col31, #T_38982_row24_col20, #T_38982_row25_col27, #T_38982_row33_col31 {\n",
              "  background-color: #fea145;\n",
              "  color: #000000;\n",
              "}\n",
              "#T_38982_row2_col7 {\n",
              "  background-color: #fc6a32;\n",
              "  color: #f1f1f1;\n",
              "}\n",
              "#T_38982_row2_col8, #T_38982_row2_col11, #T_38982_row11_col26, #T_38982_row12_col25, #T_38982_row13_col17, #T_38982_row22_col28, #T_38982_row24_col30, #T_38982_row29_col27, #T_38982_row30_col25, #T_38982_row33_col17 {\n",
              "  background-color: #fea948;\n",
              "  color: #000000;\n",
              "}\n",
              "#T_38982_row2_col9, #T_38982_row15_col35, #T_38982_row17_col13, #T_38982_row17_col35, #T_38982_row18_col1, #T_38982_row29_col35, #T_38982_row34_col1 {\n",
              "  background-color: #fedb7a;\n",
              "  color: #000000;\n",
              "}\n",
              "#T_38982_row2_col10, #T_38982_row2_col29, #T_38982_row3_col29, #T_38982_row3_col33, #T_38982_row4_col35, #T_38982_row8_col4, #T_38982_row10_col22, #T_38982_row14_col10, #T_38982_row16_col4, #T_38982_row28_col4, #T_38982_row32_col4, #T_38982_row34_col3 {\n",
              "  background-color: #fed06c;\n",
              "  color: #000000;\n",
              "}\n",
              "#T_38982_row2_col12 {\n",
              "  background-color: #fc5d2e;\n",
              "  color: #f1f1f1;\n",
              "}\n",
              "#T_38982_row2_col13 {\n",
              "  background-color: #fd7034;\n",
              "  color: #f1f1f1;\n",
              "}\n",
              "#T_38982_row2_col15, #T_38982_row3_col11, #T_38982_row3_col14, #T_38982_row5_col18, #T_38982_row9_col6, #T_38982_row19_col14, #T_38982_row20_col11, #T_38982_row20_col18, #T_38982_row21_col7, #T_38982_row21_col16, #T_38982_row22_col16, #T_38982_row23_col16, #T_38982_row26_col14, #T_38982_row27_col15, #T_38982_row27_col26, #T_38982_row28_col16, #T_38982_row29_col15, #T_38982_row33_col15, #T_38982_row33_col18, #T_38982_row34_col7, #T_38982_row34_col18 {\n",
              "  background-color: #fd8f3d;\n",
              "  color: #f1f1f1;\n",
              "}\n",
              "#T_38982_row2_col16, #T_38982_row2_col18, #T_38982_row4_col14, #T_38982_row5_col15, #T_38982_row5_col16, #T_38982_row6_col15, #T_38982_row6_col25, #T_38982_row7_col14, #T_38982_row7_col19, #T_38982_row8_col15, #T_38982_row9_col11, #T_38982_row9_col15, #T_38982_row10_col15, #T_38982_row12_col26, #T_38982_row13_col16, #T_38982_row13_col18, #T_38982_row14_col7, #T_38982_row14_col16, #T_38982_row14_col18, #T_38982_row15_col6, #T_38982_row15_col16, #T_38982_row15_col18, #T_38982_row16_col15, #T_38982_row16_col30, #T_38982_row17_col15, #T_38982_row18_col14, #T_38982_row18_col32, #T_38982_row19_col16, #T_38982_row19_col18, #T_38982_row20_col14, #T_38982_row20_col16, #T_38982_row21_col12, #T_38982_row21_col15, #T_38982_row21_col18, #T_38982_row22_col15, #T_38982_row22_col18, #T_38982_row23_col14, #T_38982_row23_col18, #T_38982_row24_col15, #T_38982_row25_col2, #T_38982_row27_col6, #T_38982_row28_col7, #T_38982_row28_col14, #T_38982_row28_col18, #T_38982_row30_col7, #T_38982_row30_col14, #T_38982_row31_col15, #T_38982_row32_col6, #T_38982_row32_col15, #T_38982_row33_col12, #T_38982_row34_col16, #T_38982_row35_col21 {\n",
              "  background-color: #fd8e3c;\n",
              "  color: #f1f1f1;\n",
              "}\n",
              "#T_38982_row2_col17, #T_38982_row2_col28, #T_38982_row5_col17, #T_38982_row6_col24, #T_38982_row7_col3, #T_38982_row10_col8, #T_38982_row14_col17, #T_38982_row18_col0, #T_38982_row19_col17, #T_38982_row20_col17, #T_38982_row22_col17, #T_38982_row25_col31, #T_38982_row34_col17 {\n",
              "  background-color: #feab49;\n",
              "  color: #000000;\n",
              "}\n",
              "#T_38982_row2_col20, #T_38982_row3_col20, #T_38982_row6_col30, #T_38982_row7_col20, #T_38982_row9_col30, #T_38982_row10_col21, #T_38982_row24_col28, #T_38982_row26_col6, #T_38982_row30_col18, #T_38982_row31_col12, #T_38982_row35_col11 {\n",
              "  background-color: #fd9640;\n",
              "  color: #000000;\n",
              "}\n",
              "#T_38982_row2_col22, #T_38982_row11_col10, #T_38982_row21_col27 {\n",
              "  background-color: #fd7234;\n",
              "  color: #f1f1f1;\n",
              "}\n",
              "#T_38982_row2_col25, #T_38982_row13_col12, #T_38982_row28_col25 {\n",
              "  background-color: #fc6c33;\n",
              "  color: #f1f1f1;\n",
              "}\n",
              "#T_38982_row2_col27, #T_38982_row7_col8, #T_38982_row11_col27, #T_38982_row15_col2, #T_38982_row22_col27, #T_38982_row26_col31, #T_38982_row31_col3, #T_38982_row32_col8, #T_38982_row34_col24 {\n",
              "  background-color: #feb651;\n",
              "  color: #000000;\n",
              "}\n",
              "#T_38982_row2_col33, #T_38982_row10_col19, #T_38982_row21_col22, #T_38982_row23_col4, #T_38982_row28_col33, #T_38982_row29_col13, #T_38982_row30_col13, #T_38982_row34_col13 {\n",
              "  background-color: #fede82;\n",
              "  color: #000000;\n",
              "}\n",
              "#T_38982_row2_col35, #T_38982_row18_col35, #T_38982_row21_col1, #T_38982_row21_col4, #T_38982_row23_col10, #T_38982_row26_col3, #T_38982_row26_col23 {\n",
              "  background-color: #fed470;\n",
              "  color: #000000;\n",
              "}\n",
              "#T_38982_row3_col0, #T_38982_row12_col5, #T_38982_row19_col34 {\n",
              "  background-color: #fffac0;\n",
              "  color: #000000;\n",
              "}\n",
              "#T_38982_row3_col1, #T_38982_row9_col1, #T_38982_row19_col1, #T_38982_row19_col32, #T_38982_row33_col35, #T_38982_row34_col10 {\n",
              "  background-color: #fed774;\n",
              "  color: #000000;\n",
              "}\n",
              "#T_38982_row3_col4 {\n",
              "  background-color: #f43e26;\n",
              "  color: #f1f1f1;\n",
              "}\n",
              "#T_38982_row3_col5, #T_38982_row3_col23, #T_38982_row4_col5, #T_38982_row4_col34 {\n",
              "  background-color: #fff8bb;\n",
              "  color: #000000;\n",
              "}\n",
              "#T_38982_row3_col8, #T_38982_row3_col27, #T_38982_row4_col24, #T_38982_row6_col27, #T_38982_row13_col15, #T_38982_row13_col27, #T_38982_row15_col27, #T_38982_row19_col6, #T_38982_row21_col0, #T_38982_row26_col17, #T_38982_row28_col8, #T_38982_row35_col3 {\n",
              "  background-color: #feaf4b;\n",
              "  color: #000000;\n",
              "}\n",
              "#T_38982_row3_col9, #T_38982_row4_col33, #T_38982_row5_col22, #T_38982_row11_col35, #T_38982_row20_col22, #T_38982_row29_col25, #T_38982_row30_col22, #T_38982_row35_col10 {\n",
              "  background-color: #fee085;\n",
              "  color: #000000;\n",
              "}\n",
              "#T_38982_row3_col13, #T_38982_row15_col33, #T_38982_row16_col9, #T_38982_row18_col33, #T_38982_row19_col10, #T_38982_row27_col34, #T_38982_row32_col23 {\n",
              "  background-color: #ffec9d;\n",
              "  color: #000000;\n",
              "}\n",
              "#T_38982_row3_col16, #T_38982_row4_col12, #T_38982_row4_col16, #T_38982_row10_col25, #T_38982_row11_col15, #T_38982_row12_col2, #T_38982_row12_col14, #T_38982_row14_col12, #T_38982_row15_col11, #T_38982_row16_col7, #T_38982_row16_col12, #T_38982_row17_col7, #T_38982_row17_col12, #T_38982_row17_col30, #T_38982_row18_col6, #T_38982_row18_col11, #T_38982_row20_col6, #T_38982_row23_col7, #T_38982_row24_col16, #T_38982_row25_col15, #T_38982_row25_col32, #T_38982_row29_col18, #T_38982_row29_col30, #T_38982_row33_col30, #T_38982_row34_col11, #T_38982_row34_col14, #T_38982_row35_col15, #T_38982_row35_col26 {\n",
              "  background-color: #fd903d;\n",
              "  color: #000000;\n",
              "}\n",
              "#T_38982_row3_col17, #T_38982_row3_col24, #T_38982_row4_col17, #T_38982_row7_col17, #T_38982_row8_col24, #T_38982_row12_col17, #T_38982_row18_col24, #T_38982_row22_col26, #T_38982_row23_col29, #T_38982_row23_col31, #T_38982_row24_col8, #T_38982_row29_col17, #T_38982_row30_col2, #T_38982_row35_col17 {\n",
              "  background-color: #feae4a;\n",
              "  color: #000000;\n",
              "}\n",
              "#T_38982_row3_col18, #T_38982_row4_col15, #T_38982_row4_col18, #T_38982_row5_col14, #T_38982_row6_col14, #T_38982_row7_col15, #T_38982_row8_col14, #T_38982_row9_col12, #T_38982_row9_col14, #T_38982_row10_col14, #T_38982_row11_col25, #T_38982_row14_col6, #T_38982_row15_col7, #T_38982_row16_col14, #T_38982_row17_col14, #T_38982_row18_col15, #T_38982_row19_col28, #T_38982_row20_col15, #T_38982_row21_col11, #T_38982_row21_col14, #T_38982_row22_col14, #T_38982_row23_col0, #T_38982_row23_col15, #T_38982_row24_col14, #T_38982_row24_col19, #T_38982_row27_col7, #T_38982_row28_col6, #T_38982_row28_col15, #T_38982_row30_col6, #T_38982_row30_col15, #T_38982_row31_col14, #T_38982_row32_col7, #T_38982_row32_col14, #T_38982_row33_col11, #T_38982_row33_col16 {\n",
              "  background-color: #fd8c3c;\n",
              "  color: #f1f1f1;\n",
              "}\n",
              "#T_38982_row3_col19, #T_38982_row4_col11, #T_38982_row6_col16, #T_38982_row7_col18, #T_38982_row9_col16, #T_38982_row11_col14, #T_38982_row12_col15, #T_38982_row14_col11, #T_38982_row15_col12, #T_38982_row16_col6, #T_38982_row16_col11, #T_38982_row17_col6, #T_38982_row17_col11, #T_38982_row18_col7, #T_38982_row18_col12, #T_38982_row19_col3, #T_38982_row20_col7, #T_38982_row23_col6, #T_38982_row25_col14, #T_38982_row28_col30, #T_38982_row34_col12, #T_38982_row34_col15, #T_38982_row35_col14, #T_38982_row35_col18 {\n",
              "  background-color: #fd883b;\n",
              "  color: #f1f1f1;\n",
              "}\n",
              "#T_38982_row3_col22, #T_38982_row14_col9, #T_38982_row23_col33, #T_38982_row23_col34, #T_38982_row31_col9, #T_38982_row32_col34 {\n",
              "  background-color: #ffefa5;\n",
              "  color: #000000;\n",
              "}\n",
              "#T_38982_row3_col25, #T_38982_row6_col1, #T_38982_row13_col25, #T_38982_row24_col11 {\n",
              "  background-color: #fd7c37;\n",
              "  color: #f1f1f1;\n",
              "}\n",
              "#T_38982_row3_col26, #T_38982_row4_col27, #T_38982_row5_col27, #T_38982_row6_col8, #T_38982_row7_col27, #T_38982_row9_col27, #T_38982_row10_col28, #T_38982_row13_col31, #T_38982_row23_col17, #T_38982_row24_col17, #T_38982_row25_col8, #T_38982_row25_col17, #T_38982_row30_col8, #T_38982_row31_col2, #T_38982_row31_col8, #T_38982_row33_col8 {\n",
              "  background-color: #fead4a;\n",
              "  color: #000000;\n",
              "}\n",
              "#T_38982_row3_col35, #T_38982_row10_col4, #T_38982_row11_col4, #T_38982_row12_col35, #T_38982_row13_col29, #T_38982_row15_col29, #T_38982_row17_col29, #T_38982_row18_col29, #T_38982_row23_col28, #T_38982_row25_col35, #T_38982_row30_col4, #T_38982_row33_col10, #T_38982_row35_col29 {\n",
              "  background-color: #feca66;\n",
              "  color: #000000;\n",
              "}\n",
              "#T_38982_row4_col0, #T_38982_row6_col5, #T_38982_row6_col33, #T_38982_row12_col9, #T_38982_row21_col9, #T_38982_row27_col9, #T_38982_row28_col9, #T_38982_row30_col9 {\n",
              "  background-color: #ffefa4;\n",
              "  color: #000000;\n",
              "}\n",
              "#T_38982_row4_col1, #T_38982_row4_col10, #T_38982_row9_col0, #T_38982_row14_col1, #T_38982_row17_col10, #T_38982_row18_col4, #T_38982_row21_col10, #T_38982_row24_col4, #T_38982_row27_col24 {\n",
              "  background-color: #fecc68;\n",
              "  color: #000000;\n",
              "}\n",
              "#T_38982_row4_col3, #T_38982_row10_col11 {\n",
              "  background-color: #ef3323;\n",
              "  color: #f1f1f1;\n",
              "}\n",
              "#T_38982_row4_col7, #T_38982_row11_col1, #T_38982_row22_col7, #T_38982_row25_col6, #T_38982_row26_col12 {\n",
              "  background-color: #fd7836;\n",
              "  color: #f1f1f1;\n",
              "}\n",
              "#T_38982_row4_col8, #T_38982_row9_col24, #T_38982_row14_col2, #T_38982_row15_col24, #T_38982_row17_col2, #T_38982_row17_col24, #T_38982_row19_col8, #T_38982_row23_col8, #T_38982_row25_col1, #T_38982_row35_col8, #T_38982_row35_col30 {\n",
              "  background-color: #feb34d;\n",
              "  color: #000000;\n",
              "}\n",
              "#T_38982_row4_col9, #T_38982_row7_col23, #T_38982_row9_col23, #T_38982_row29_col24 {\n",
              "  background-color: #ffeb9c;\n",
              "  color: #000000;\n",
              "}\n",
              "#T_38982_row4_col13, #T_38982_row9_col33, #T_38982_row17_col18, #T_38982_row20_col33, #T_38982_row22_col35 {\n",
              "  background-color: #ffe793;\n",
              "  color: #000000;\n",
              "}\n",
              "#T_38982_row4_col22, #T_38982_row5_col23, #T_38982_row10_col23, #T_38982_row12_col33, #T_38982_row31_col23 {\n",
              "  background-color: #ffea9b;\n",
              "  color: #000000;\n",
              "}\n",
              "#T_38982_row4_col23, #T_38982_row8_col5, #T_38982_row13_col9, #T_38982_row13_col23, #T_38982_row13_col34, #T_38982_row16_col5, #T_38982_row25_col5, #T_38982_row29_col34, #T_38982_row33_col5 {\n",
              "  background-color: #fff5b3;\n",
              "  color: #000000;\n",
              "}\n",
              "#T_38982_row4_col26, #T_38982_row6_col17, #T_38982_row7_col25, #T_38982_row8_col31, #T_38982_row10_col17, #T_38982_row11_col17, #T_38982_row14_col13, #T_38982_row21_col24, #T_38982_row29_col6 {\n",
              "  background-color: #fea848;\n",
              "  color: #000000;\n",
              "}\n",
              "#T_38982_row5_col1, #T_38982_row19_col13, #T_38982_row21_col29, #T_38982_row22_col29, #T_38982_row23_col1, #T_38982_row30_col1, #T_38982_row31_col0, #T_38982_row34_col29 {\n",
              "  background-color: #fecb67;\n",
              "  color: #000000;\n",
              "}\n",
              "#T_38982_row5_col2, #T_38982_row8_col27, #T_38982_row15_col19, #T_38982_row20_col3, #T_38982_row20_col28, #T_38982_row24_col3, #T_38982_row24_col10, #T_38982_row26_col8 {\n",
              "  background-color: #feb953;\n",
              "  color: #000000;\n",
              "}\n",
              "#T_38982_row5_col4, #T_38982_row7_col35, #T_38982_row12_col4, #T_38982_row35_col31 {\n",
              "  background-color: #fed36f;\n",
              "  color: #000000;\n",
              "}\n",
              "#T_38982_row5_col6, #T_38982_row19_col24, #T_38982_row23_col26, #T_38982_row30_col16, #T_38982_row32_col18 {\n",
              "  background-color: #fd8038;\n",
              "  color: #f1f1f1;\n",
              "}\n",
              "#T_38982_row5_col8, #T_38982_row13_col8, #T_38982_row14_col8, #T_38982_row14_col24, #T_38982_row20_col2, #T_38982_row21_col8, #T_38982_row33_col26, #T_38982_row33_col28, #T_38982_row35_col2 {\n",
              "  background-color: #feb04b;\n",
              "  color: #000000;\n",
              "}\n",
              "#T_38982_row5_col9, #T_38982_row15_col9, #T_38982_row35_col23 {\n",
              "  background-color: #fff0a7;\n",
              "  color: #000000;\n",
              "}\n",
              "#T_38982_row5_col11, #T_38982_row24_col6, #T_38982_row28_col19, #T_38982_row28_col31, #T_38982_row31_col6, #T_38982_row32_col12, #T_38982_row33_col7 {\n",
              "  background-color: #fd8439;\n",
              "  color: #f1f1f1;\n",
              "}\n",
              "#T_38982_row5_col13, #T_38982_row6_col4, #T_38982_row26_col10, #T_38982_row27_col13 {\n",
              "  background-color: #fedd7f;\n",
              "  color: #000000;\n",
              "}\n",
              "#T_38982_row5_col24, #T_38982_row10_col2, #T_38982_row16_col2, #T_38982_row16_col24, #T_38982_row18_col2, #T_38982_row23_col25, #T_38982_row24_col31, #T_38982_row32_col17, #T_38982_row32_col35 {\n",
              "  background-color: #feb44e;\n",
              "  color: #000000;\n",
              "}\n",
              "#T_38982_row5_col29, #T_38982_row9_col19, #T_38982_row11_col0, #T_38982_row12_col28, #T_38982_row17_col1, #T_38982_row24_col27, #T_38982_row28_col22, #T_38982_row30_col24, #T_38982_row34_col19, #T_38982_row34_col28 {\n",
              "  background-color: #fec863;\n",
              "  color: #000000;\n",
              "}\n",
              "#T_38982_row5_col31, #T_38982_row8_col2, #T_38982_row9_col31, #T_38982_row11_col8, #T_38982_row13_col19, #T_38982_row13_col28, #T_38982_row14_col27, #T_38982_row14_col31, #T_38982_row15_col17, #T_38982_row15_col31, #T_38982_row21_col17, #T_38982_row22_col31, #T_38982_row35_col0 {\n",
              "  background-color: #feac49;\n",
              "  color: #000000;\n",
              "}\n",
              "#T_38982_row5_col34, #T_38982_row6_col34, #T_38982_row10_col5, #T_38982_row20_col9, #T_38982_row24_col9, #T_38982_row24_col23, #T_38982_row29_col9, #T_38982_row31_col35, #T_38982_row32_col33, #T_38982_row35_col28 {\n",
              "  background-color: #fff1a9;\n",
              "  color: #000000;\n",
              "}\n",
              "#T_38982_row6_col0, #T_38982_row8_col1, #T_38982_row8_col29, #T_38982_row9_col4, #T_38982_row10_col12, #T_38982_row19_col29, #T_38982_row29_col3, #T_38982_row31_col10, #T_38982_row35_col4 {\n",
              "  background-color: #fec662;\n",
              "  color: #000000;\n",
              "}\n",
              "#T_38982_row6_col11, #T_38982_row7_col12, #T_38982_row11_col6, #T_38982_row12_col7 {\n",
              "  background-color: #dc151e;\n",
              "  color: #f1f1f1;\n",
              "}\n",
              "#T_38982_row6_col12, #T_38982_row7_col11, #T_38982_row8_col9, #T_38982_row11_col7, #T_38982_row12_col6, #T_38982_row20_col13, #T_38982_row26_col4, #T_38982_row31_col13 {\n",
              "  background-color: #fedd7e;\n",
              "  color: #000000;\n",
              "}\n",
              "#T_38982_row6_col23, #T_38982_row7_col33, #T_38982_row9_col22, #T_38982_row10_col33, #T_38982_row13_col33, #T_38982_row29_col28, #T_38982_row35_col24 {\n",
              "  background-color: #ffe691;\n",
              "  color: #000000;\n",
              "}\n",
              "#T_38982_row6_col26, #T_38982_row11_col24, #T_38982_row12_col29, #T_38982_row25_col30, #T_38982_row29_col11, #T_38982_row34_col27 {\n",
              "  background-color: #fea546;\n",
              "  color: #000000;\n",
              "}\n",
              "#T_38982_row6_col35, #T_38982_row8_col0, #T_38982_row16_col13, #T_38982_row16_col35, #T_38982_row18_col13, #T_38982_row32_col13 {\n",
              "  background-color: #fedc7c;\n",
              "  color: #000000;\n",
              "}\n",
              "#T_38982_row7_col1 {\n",
              "  background-color: #fffec9;\n",
              "  color: #000000;\n",
              "}\n",
              "#T_38982_row7_col4, #T_38982_row11_col28, #T_38982_row20_col0, #T_38982_row27_col8, #T_38982_row27_col17, #T_38982_row30_col29, #T_38982_row33_col27 {\n",
              "  background-color: #febd57;\n",
              "  color: #000000;\n",
              "}\n",
              "#T_38982_row7_col5, #T_38982_row27_col31 {\n",
              "  background-color: #fffdc6;\n",
              "  color: #000000;\n",
              "}\n",
              "#T_38982_row7_col9, #T_38982_row12_col23, #T_38982_row21_col33, #T_38982_row24_col26, #T_38982_row31_col32, #T_38982_row33_col23 {\n",
              "  background-color: #ffeea3;\n",
              "  color: #000000;\n",
              "}\n",
              "#T_38982_row7_col10, #T_38982_row7_col34, #T_38982_row19_col23, #T_38982_row20_col34, #T_38982_row25_col34, #T_38982_row34_col9 {\n",
              "  background-color: #fff4b0;\n",
              "  color: #000000;\n",
              "}\n",
              "#T_38982_row7_col13, #T_38982_row9_col35, #T_38982_row15_col4, #T_38982_row20_col1, #T_38982_row23_col19, #T_38982_row27_col4, #T_38982_row27_col20, #T_38982_row30_col10 {\n",
              "  background-color: #fece6a;\n",
              "  color: #000000;\n",
              "}\n",
              "#T_38982_row7_col22, #T_38982_row9_col10, #T_38982_row15_col10, #T_38982_row17_col4, #T_38982_row33_col1 {\n",
              "  background-color: #fed16e;\n",
              "  color: #000000;\n",
              "}\n",
              "#T_38982_row7_col31, #T_38982_row13_col26, #T_38982_row15_col8, #T_38982_row18_col31, #T_38982_row20_col8, #T_38982_row22_col8, #T_38982_row22_col19, #T_38982_row28_col32, #T_38982_row29_col8, #T_38982_row30_col28, #T_38982_row34_col8, #T_38982_row34_col31 {\n",
              "  background-color: #feb24c;\n",
              "  color: #000000;\n",
              "}\n",
              "#T_38982_row8_col3, #T_38982_row12_col3, #T_38982_row15_col3, #T_38982_row17_col19, #T_38982_row18_col3, #T_38982_row24_col1, #T_38982_row28_col10, #T_38982_row31_col24, #T_38982_row32_col2 {\n",
              "  background-color: #feba55;\n",
              "  color: #000000;\n",
              "}\n",
              "#T_38982_row8_col13, #T_38982_row13_col1, #T_38982_row21_col13, #T_38982_row24_col33, #T_38982_row32_col1, #T_38982_row32_col20 {\n",
              "  background-color: #fedb7b;\n",
              "  color: #000000;\n",
              "}\n",
              "#T_38982_row8_col16 {\n",
              "  background-color: #c80723;\n",
              "  color: #f1f1f1;\n",
              "}\n",
              "#T_38982_row8_col17 {\n",
              "  background-color: #c20325;\n",
              "  color: #f1f1f1;\n",
              "}\n",
              "#T_38982_row8_col19, #T_38982_row14_col19, #T_38982_row17_col28, #T_38982_row19_col26, #T_38982_row22_col10, #T_38982_row23_col24, #T_38982_row27_col2, #T_38982_row29_col2, #T_38982_row34_col2 {\n",
              "  background-color: #febe59;\n",
              "  color: #000000;\n",
              "}\n",
              "#T_38982_row8_col30, #T_38982_row9_col25, #T_38982_row10_col18, #T_38982_row11_col30, #T_38982_row23_col12, #T_38982_row26_col30, #T_38982_row27_col11, #T_38982_row32_col25, #T_38982_row34_col32 {\n",
              "  background-color: #fd933f;\n",
              "  color: #000000;\n",
              "}\n",
              "#T_38982_row8_col33 {\n",
              "  background-color: #ffe794;\n",
              "  color: #000000;\n",
              "}\n",
              "#T_38982_row9_col5, #T_38982_row10_col34, #T_38982_row15_col5, #T_38982_row20_col5, #T_38982_row24_col34, #T_38982_row28_col34, #T_38982_row29_col5, #T_38982_row30_col5, #T_38982_row30_col34, #T_38982_row31_col5, #T_38982_row31_col34 {\n",
              "  background-color: #fff6b6;\n",
              "  color: #000000;\n",
              "}\n",
              "#T_38982_row9_col13, #T_38982_row31_col29 {\n",
              "  background-color: #fee187;\n",
              "  color: #000000;\n",
              "}\n",
              "#T_38982_row9_col17, #T_38982_row10_col31, #T_38982_row19_col11, #T_38982_row22_col11, #T_38982_row30_col17, #T_38982_row31_col26, #T_38982_row32_col24, #T_38982_row33_col2, #T_38982_row33_col19 {\n",
              "  background-color: #fea446;\n",
              "  color: #000000;\n",
              "}\n",
              "#T_38982_row9_col34, #T_38982_row18_col5, #T_38982_row22_col9, #T_38982_row28_col5 {\n",
              "  background-color: #fff7b7;\n",
              "  color: #000000;\n",
              "}\n",
              "#T_38982_row10_col9, #T_38982_row11_col9, #T_38982_row12_col34, #T_38982_row15_col34, #T_38982_row21_col34, #T_38982_row32_col9, #T_38982_row35_col34 {\n",
              "  background-color: #fff0a8;\n",
              "  color: #000000;\n",
              "}\n",
              "#T_38982_row11_col3, #T_38982_row12_col13, #T_38982_row12_col24, #T_38982_row14_col3, #T_38982_row16_col3, #T_38982_row17_col0, #T_38982_row17_col3, #T_38982_row21_col3, #T_38982_row27_col3, #T_38982_row31_col1, #T_38982_row33_col4 {\n",
              "  background-color: #febf5a;\n",
              "  color: #000000;\n",
              "}\n",
              "#T_38982_row11_col13, #T_38982_row23_col22, #T_38982_row25_col0, #T_38982_row33_col9, #T_38982_row34_col33 {\n",
              "  background-color: #ffec9f;\n",
              "  color: #000000;\n",
              "}\n",
              "#T_38982_row11_col22, #T_38982_row16_col34, #T_38982_row18_col9, #T_38982_row23_col9 {\n",
              "  background-color: #fff2ac;\n",
              "  color: #000000;\n",
              "}\n",
              "#T_38982_row11_col23, #T_38982_row30_col33 {\n",
              "  background-color: #ffe48c;\n",
              "  color: #000000;\n",
              "}\n",
              "#T_38982_row11_col34, #T_38982_row14_col34, #T_38982_row26_col9, #T_38982_row27_col33, #T_38982_row33_col34, #T_38982_row34_col5 {\n",
              "  background-color: #fff4b2;\n",
              "  color: #000000;\n",
              "}\n",
              "#T_38982_row13_col4, #T_38982_row22_col4, #T_38982_row26_col28 {\n",
              "  background-color: #fede80;\n",
              "  color: #000000;\n",
              "}\n",
              "#T_38982_row13_col5, #T_38982_row15_col13, #T_38982_row19_col9, #T_38982_row19_col35, #T_38982_row22_col5, #T_38982_row35_col5 {\n",
              "  background-color: #fff7b9;\n",
              "  color: #000000;\n",
              "}\n",
              "#T_38982_row13_col7 {\n",
              "  background-color: #fd7a37;\n",
              "  color: #f1f1f1;\n",
              "}\n",
              "#T_38982_row13_col14, #T_38982_row19_col7, #T_38982_row31_col19 {\n",
              "  background-color: #fc532b;\n",
              "  color: #f1f1f1;\n",
              "}\n",
              "#T_38982_row13_col22 {\n",
              "  background-color: #f33b25;\n",
              "  color: #f1f1f1;\n",
              "}\n",
              "#T_38982_row14_col0, #T_38982_row14_col35, #T_38982_row23_col3, #T_38982_row25_col33, #T_38982_row28_col0, #T_38982_row32_col10, #T_38982_row33_col29, #T_38982_row34_col35, #T_38982_row35_col13 {\n",
              "  background-color: #fed572;\n",
              "  color: #000000;\n",
              "}\n",
              "#T_38982_row14_col5, #T_38982_row17_col5, #T_38982_row19_col27, #T_38982_row21_col5, #T_38982_row22_col23, #T_38982_row26_col5, #T_38982_row27_col5, #T_38982_row32_col5 {\n",
              "  background-color: #fff5b5;\n",
              "  color: #000000;\n",
              "}\n",
              "#T_38982_row14_col33, #T_38982_row17_col33, #T_38982_row28_col29, #T_38982_row35_col9 {\n",
              "  background-color: #ffe997;\n",
              "  color: #000000;\n",
              "}\n",
              "#T_38982_row15_col23, #T_38982_row18_col23, #T_38982_row21_col23, #T_38982_row23_col13, #T_38982_row26_col1, #T_38982_row30_col23 {\n",
              "  background-color: #ffe895;\n",
              "  color: #000000;\n",
              "}\n",
              "#T_38982_row16_col8 {\n",
              "  background-color: #d41020;\n",
              "  color: #f1f1f1;\n",
              "}\n",
              "#T_38982_row16_col17 {\n",
              "  background-color: #c90823;\n",
              "  color: #f1f1f1;\n",
              "}\n",
              "#T_38982_row16_col19, #T_38982_row18_col19, #T_38982_row20_col24, #T_38982_row25_col13, #T_38982_row29_col19 {\n",
              "  background-color: #febb56;\n",
              "  color: #000000;\n",
              "}\n",
              "#T_38982_row17_col8 {\n",
              "  background-color: #c30424;\n",
              "  color: #f1f1f1;\n",
              "}\n",
              "#T_38982_row17_col16 {\n",
              "  background-color: #c10325;\n",
              "  color: #f1f1f1;\n",
              "}\n",
              "#T_38982_row18_col10, #T_38982_row23_col2, #T_38982_row29_col23, #T_38982_row33_col13, #T_38982_row34_col4 {\n",
              "  background-color: #fed976;\n",
              "  color: #000000;\n",
              "}\n",
              "#T_38982_row19_col5 {\n",
              "  background-color: #fffcc5;\n",
              "  color: #000000;\n",
              "}\n",
              "#T_38982_row19_col12, #T_38982_row22_col12 {\n",
              "  background-color: #fc6631;\n",
              "  color: #f1f1f1;\n",
              "}\n",
              "#T_38982_row19_col20 {\n",
              "  background-color: #ea2920;\n",
              "  color: #f1f1f1;\n",
              "}\n",
              "#T_38982_row19_col30 {\n",
              "  background-color: #ed2e21;\n",
              "  color: #f1f1f1;\n",
              "}\n",
              "#T_38982_row19_col31 {\n",
              "  background-color: #f84628;\n",
              "  color: #f1f1f1;\n",
              "}\n",
              "#T_38982_row20_col19 {\n",
              "  background-color: #f74327;\n",
              "  color: #f1f1f1;\n",
              "}\n",
              "#T_38982_row20_col30, #T_38982_row30_col20, #T_38982_row32_col21 {\n",
              "  background-color: #e61f1d;\n",
              "  color: #f1f1f1;\n",
              "}\n",
              "#T_38982_row21_col30, #T_38982_row27_col10 {\n",
              "  background-color: #fee38b;\n",
              "  color: #000000;\n",
              "}\n",
              "#T_38982_row21_col32 {\n",
              "  background-color: #e51e1d;\n",
              "  color: #f1f1f1;\n",
              "}\n",
              "#T_38982_row22_col2 {\n",
              "  background-color: #f94828;\n",
              "  color: #f1f1f1;\n",
              "}\n",
              "#T_38982_row24_col25, #T_38982_row32_col27 {\n",
              "  background-color: #e92720;\n",
              "  color: #f1f1f1;\n",
              "}\n",
              "#T_38982_row25_col23 {\n",
              "  background-color: #fffcc4;\n",
              "  color: #000000;\n",
              "}\n",
              "#T_38982_row26_col0, #T_38982_row26_col29, #T_38982_row29_col12 {\n",
              "  background-color: #fc6430;\n",
              "  color: #f1f1f1;\n",
              "}\n",
              "#T_38982_row26_col13, #T_38982_row27_col30 {\n",
              "  background-color: #ffeda0;\n",
              "  color: #000000;\n",
              "}\n",
              "#T_38982_row26_col22, #T_38982_row28_col23, #T_38982_row30_col35, #T_38982_row35_col22 {\n",
              "  background-color: #ffeda1;\n",
              "  color: #000000;\n",
              "}\n",
              "#T_38982_row26_col33 {\n",
              "  background-color: #fffac1;\n",
              "  color: #000000;\n",
              "}\n",
              "#T_38982_row27_col21 {\n",
              "  background-color: #fc592d;\n",
              "  color: #f1f1f1;\n",
              "}\n",
              "#T_38982_row27_col32 {\n",
              "  background-color: #e2191c;\n",
              "  color: #f1f1f1;\n",
              "}\n",
              "#T_38982_row27_col35 {\n",
              "  background-color: #fc572c;\n",
              "  color: #f1f1f1;\n",
              "}\n",
              "#T_38982_row29_col7 {\n",
              "  background-color: #fc5f2f;\n",
              "  color: #f1f1f1;\n",
              "}\n",
              "#T_38982_row29_col26 {\n",
              "  background-color: #f43d25;\n",
              "  color: #f1f1f1;\n",
              "}\n",
              "#T_38982_row30_col31 {\n",
              "  background-color: #c40524;\n",
              "  color: #f1f1f1;\n",
              "}\n",
              "#T_38982_row31_col20 {\n",
              "  background-color: #e9261f;\n",
              "  color: #f1f1f1;\n",
              "}\n",
              "#T_38982_row31_col27 {\n",
              "  background-color: #fffecb;\n",
              "  color: #000000;\n",
              "}\n",
              "#T_38982_row31_col30 {\n",
              "  background-color: #c00225;\n",
              "  color: #f1f1f1;\n",
              "}\n",
              "</style>\n",
              "<table id=\"T_38982_\" class=\"dataframe\">\n",
              "  <thead>\n",
              "    <tr>\n",
              "      <th class=\"blank level0\" >&nbsp;</th>\n",
              "      <th class=\"col_heading level0 col0\" >koi_score</th>\n",
              "      <th class=\"col_heading level0 col1\" >koi_fpflag_nt</th>\n",
              "      <th class=\"col_heading level0 col2\" >koi_fpflag_ss</th>\n",
              "      <th class=\"col_heading level0 col3\" >koi_fpflag_co</th>\n",
              "      <th class=\"col_heading level0 col4\" >koi_fpflag_ec</th>\n",
              "      <th class=\"col_heading level0 col5\" >koi_period</th>\n",
              "      <th class=\"col_heading level0 col6\" >koi_period_err1</th>\n",
              "      <th class=\"col_heading level0 col7\" >koi_period_err2</th>\n",
              "      <th class=\"col_heading level0 col8\" >koi_impact</th>\n",
              "      <th class=\"col_heading level0 col9\" >koi_impact_err1</th>\n",
              "      <th class=\"col_heading level0 col10\" >koi_duration</th>\n",
              "      <th class=\"col_heading level0 col11\" >koi_duration_err1</th>\n",
              "      <th class=\"col_heading level0 col12\" >koi_duration_err2</th>\n",
              "      <th class=\"col_heading level0 col13\" >koi_depth</th>\n",
              "      <th class=\"col_heading level0 col14\" >koi_depth_err1</th>\n",
              "      <th class=\"col_heading level0 col15\" >koi_depth_err2</th>\n",
              "      <th class=\"col_heading level0 col16\" >koi_prad</th>\n",
              "      <th class=\"col_heading level0 col17\" >koi_prad_err1</th>\n",
              "      <th class=\"col_heading level0 col18\" >koi_prad_err2</th>\n",
              "      <th class=\"col_heading level0 col19\" >koi_teq</th>\n",
              "      <th class=\"col_heading level0 col20\" >koi_insol_err1</th>\n",
              "      <th class=\"col_heading level0 col21\" >koi_insol_err2</th>\n",
              "      <th class=\"col_heading level0 col22\" >koi_model_snr</th>\n",
              "      <th class=\"col_heading level0 col23\" >koi_tce_plnt_num</th>\n",
              "      <th class=\"col_heading level0 col24\" >koi_steff</th>\n",
              "      <th class=\"col_heading level0 col25\" >koi_steff_err1</th>\n",
              "      <th class=\"col_heading level0 col26\" >koi_steff_err2</th>\n",
              "      <th class=\"col_heading level0 col27\" >koi_slogg</th>\n",
              "      <th class=\"col_heading level0 col28\" >koi_slogg_err1</th>\n",
              "      <th class=\"col_heading level0 col29\" >koi_slogg_err2</th>\n",
              "      <th class=\"col_heading level0 col30\" >koi_srad</th>\n",
              "      <th class=\"col_heading level0 col31\" >koi_srad_err1</th>\n",
              "      <th class=\"col_heading level0 col32\" >koi_srad_err2</th>\n",
              "      <th class=\"col_heading level0 col33\" >ra</th>\n",
              "      <th class=\"col_heading level0 col34\" >dec</th>\n",
              "      <th class=\"col_heading level0 col35\" >koi_kepmag</th>\n",
              "    </tr>\n",
              "  </thead>\n",
              "  <tbody>\n",
              "    <tr>\n",
              "      <th id=\"T_38982_level0_row0\" class=\"row_heading level0 row0\" >koi_score</th>\n",
              "      <td id=\"T_38982_row0_col0\" class=\"data row0 col0\" >1.000000</td>\n",
              "      <td id=\"T_38982_row0_col1\" class=\"data row0 col1\" >-0.349837</td>\n",
              "      <td id=\"T_38982_row0_col2\" class=\"data row0 col2\" >-0.582210</td>\n",
              "      <td id=\"T_38982_row0_col3\" class=\"data row0 col3\" >-0.521103</td>\n",
              "      <td id=\"T_38982_row0_col4\" class=\"data row0 col4\" >-0.398251</td>\n",
              "      <td id=\"T_38982_row0_col5\" class=\"data row0 col5\" >-0.070669</td>\n",
              "      <td id=\"T_38982_row0_col6\" class=\"data row0 col6\" >-0.093077</td>\n",
              "      <td id=\"T_38982_row0_col7\" class=\"data row0 col7\" >0.093077</td>\n",
              "      <td id=\"T_38982_row0_col8\" class=\"data row0 col8\" >-0.214340</td>\n",
              "      <td id=\"T_38982_row0_col9\" class=\"data row0 col9\" >-0.121752</td>\n",
              "      <td id=\"T_38982_row0_col10\" class=\"data row0 col10\" >-0.173200</td>\n",
              "      <td id=\"T_38982_row0_col11\" class=\"data row0 col11\" >-0.095304</td>\n",
              "      <td id=\"T_38982_row0_col12\" class=\"data row0 col12\" >0.095304</td>\n",
              "      <td id=\"T_38982_row0_col13\" class=\"data row0 col13\" >-0.301010</td>\n",
              "      <td id=\"T_38982_row0_col14\" class=\"data row0 col14\" >-0.166398</td>\n",
              "      <td id=\"T_38982_row0_col15\" class=\"data row0 col15\" >0.166398</td>\n",
              "      <td id=\"T_38982_row0_col16\" class=\"data row0 col16\" >-0.076870</td>\n",
              "      <td id=\"T_38982_row0_col17\" class=\"data row0 col17\" >-0.054581</td>\n",
              "      <td id=\"T_38982_row0_col18\" class=\"data row0 col18\" >0.049689</td>\n",
              "      <td id=\"T_38982_row0_col19\" class=\"data row0 col19\" >-0.302279</td>\n",
              "      <td id=\"T_38982_row0_col20\" class=\"data row0 col20\" >-0.043238</td>\n",
              "      <td id=\"T_38982_row0_col21\" class=\"data row0 col21\" >0.026134</td>\n",
              "      <td id=\"T_38982_row0_col22\" class=\"data row0 col22\" >-0.269034</td>\n",
              "      <td id=\"T_38982_row0_col23\" class=\"data row0 col23\" >0.209081</td>\n",
              "      <td id=\"T_38982_row0_col24\" class=\"data row0 col24\" >-0.192544</td>\n",
              "      <td id=\"T_38982_row0_col25\" class=\"data row0 col25\" >-0.372432</td>\n",
              "      <td id=\"T_38982_row0_col26\" class=\"data row0 col26\" >0.333595</td>\n",
              "      <td id=\"T_38982_row0_col27\" class=\"data row0 col27\" >0.150017</td>\n",
              "      <td id=\"T_38982_row0_col28\" class=\"data row0 col28\" >-0.164267</td>\n",
              "      <td id=\"T_38982_row0_col29\" class=\"data row0 col29\" >0.228382</td>\n",
              "      <td id=\"T_38982_row0_col30\" class=\"data row0 col30\" >-0.071767</td>\n",
              "      <td id=\"T_38982_row0_col31\" class=\"data row0 col31\" >-0.117010</td>\n",
              "      <td id=\"T_38982_row0_col32\" class=\"data row0 col32\" >0.075529</td>\n",
              "      <td id=\"T_38982_row0_col33\" class=\"data row0 col33\" >-0.168666</td>\n",
              "      <td id=\"T_38982_row0_col34\" class=\"data row0 col34\" >0.094944</td>\n",
              "      <td id=\"T_38982_row0_col35\" class=\"data row0 col35\" >0.042112</td>\n",
              "    </tr>\n",
              "    <tr>\n",
              "      <th id=\"T_38982_level0_row1\" class=\"row_heading level0 row1\" >koi_fpflag_nt</th>\n",
              "      <td id=\"T_38982_row1_col0\" class=\"data row1 col0\" >-0.349837</td>\n",
              "      <td id=\"T_38982_row1_col1\" class=\"data row1 col1\" >1.000000</td>\n",
              "      <td id=\"T_38982_row1_col2\" class=\"data row1 col2\" >-0.253562</td>\n",
              "      <td id=\"T_38982_row1_col3\" class=\"data row1 col3\" >-0.020810</td>\n",
              "      <td id=\"T_38982_row1_col4\" class=\"data row1 col4\" >0.027112</td>\n",
              "      <td id=\"T_38982_row1_col5\" class=\"data row1 col5\" >0.032428</td>\n",
              "      <td id=\"T_38982_row1_col6\" class=\"data row1 col6\" >0.358862</td>\n",
              "      <td id=\"T_38982_row1_col7\" class=\"data row1 col7\" >-0.358862</td>\n",
              "      <td id=\"T_38982_row1_col8\" class=\"data row1 col8\" >0.056062</td>\n",
              "      <td id=\"T_38982_row1_col9\" class=\"data row1 col9\" >-0.022399</td>\n",
              "      <td id=\"T_38982_row1_col10\" class=\"data row1 col10\" >0.259361</td>\n",
              "      <td id=\"T_38982_row1_col11\" class=\"data row1 col11\" >0.370354</td>\n",
              "      <td id=\"T_38982_row1_col12\" class=\"data row1 col12\" >-0.370354</td>\n",
              "      <td id=\"T_38982_row1_col13\" class=\"data row1 col13\" >-0.045873</td>\n",
              "      <td id=\"T_38982_row1_col14\" class=\"data row1 col14\" >0.027879</td>\n",
              "      <td id=\"T_38982_row1_col15\" class=\"data row1 col15\" >-0.027879</td>\n",
              "      <td id=\"T_38982_row1_col16\" class=\"data row1 col16\" >0.045008</td>\n",
              "      <td id=\"T_38982_row1_col17\" class=\"data row1 col17\" >0.048595</td>\n",
              "      <td id=\"T_38982_row1_col18\" class=\"data row1 col18\" >-0.041881</td>\n",
              "      <td id=\"T_38982_row1_col19\" class=\"data row1 col19\" >-0.021832</td>\n",
              "      <td id=\"T_38982_row1_col20\" class=\"data row1 col20\" >0.023554</td>\n",
              "      <td id=\"T_38982_row1_col21\" class=\"data row1 col21\" >-0.004896</td>\n",
              "      <td id=\"T_38982_row1_col22\" class=\"data row1 col22\" >-0.080243</td>\n",
              "      <td id=\"T_38982_row1_col23\" class=\"data row1 col23\" >0.031631</td>\n",
              "      <td id=\"T_38982_row1_col24\" class=\"data row1 col24\" >0.107827</td>\n",
              "      <td id=\"T_38982_row1_col25\" class=\"data row1 col25\" >0.138399</td>\n",
              "      <td id=\"T_38982_row1_col26\" class=\"data row1 col26\" >-0.155697</td>\n",
              "      <td id=\"T_38982_row1_col27\" class=\"data row1 col27\" >-0.120439</td>\n",
              "      <td id=\"T_38982_row1_col28\" class=\"data row1 col28\" >0.063078</td>\n",
              "      <td id=\"T_38982_row1_col29\" class=\"data row1 col29\" >-0.171242</td>\n",
              "      <td id=\"T_38982_row1_col30\" class=\"data row1 col30\" >0.034619</td>\n",
              "      <td id=\"T_38982_row1_col31\" class=\"data row1 col31\" >0.087934</td>\n",
              "      <td id=\"T_38982_row1_col32\" class=\"data row1 col32\" >-0.043843</td>\n",
              "      <td id=\"T_38982_row1_col33\" class=\"data row1 col33\" >0.006800</td>\n",
              "      <td id=\"T_38982_row1_col34\" class=\"data row1 col34\" >-0.038695</td>\n",
              "      <td id=\"T_38982_row1_col35\" class=\"data row1 col35\" >-0.103803</td>\n",
              "    </tr>\n",
              "    <tr>\n",
              "      <th id=\"T_38982_level0_row2\" class=\"row_heading level0 row2\" >koi_fpflag_ss</th>\n",
              "      <td id=\"T_38982_row2_col0\" class=\"data row2 col0\" >-0.582210</td>\n",
              "      <td id=\"T_38982_row2_col1\" class=\"data row2 col1\" >-0.253562</td>\n",
              "      <td id=\"T_38982_row2_col2\" class=\"data row2 col2\" >1.000000</td>\n",
              "      <td id=\"T_38982_row2_col3\" class=\"data row2 col3\" >0.149733</td>\n",
              "      <td id=\"T_38982_row2_col4\" class=\"data row2 col4\" >0.100001</td>\n",
              "      <td id=\"T_38982_row2_col5\" class=\"data row2 col5\" >-0.020984</td>\n",
              "      <td id=\"T_38982_row2_col6\" class=\"data row2 col6\" >-0.134983</td>\n",
              "      <td id=\"T_38982_row2_col7\" class=\"data row2 col7\" >0.134983</td>\n",
              "      <td id=\"T_38982_row2_col8\" class=\"data row2 col8\" >0.043204</td>\n",
              "      <td id=\"T_38982_row2_col9\" class=\"data row2 col9\" >0.146152</td>\n",
              "      <td id=\"T_38982_row2_col10\" class=\"data row2 col10\" >0.003639</td>\n",
              "      <td id=\"T_38982_row2_col11\" class=\"data row2 col11\" >-0.193946</td>\n",
              "      <td id=\"T_38982_row2_col12\" class=\"data row2 col12\" >0.193946</td>\n",
              "      <td id=\"T_38982_row2_col13\" class=\"data row2 col13\" >0.424323</td>\n",
              "      <td id=\"T_38982_row2_col14\" class=\"data row2 col14\" >0.007952</td>\n",
              "      <td id=\"T_38982_row2_col15\" class=\"data row2 col15\" >-0.007952</td>\n",
              "      <td id=\"T_38982_row2_col16\" class=\"data row2 col16\" >0.001429</td>\n",
              "      <td id=\"T_38982_row2_col17\" class=\"data row2 col17\" >0.006198</td>\n",
              "      <td id=\"T_38982_row2_col18\" class=\"data row2 col18\" >0.001770</td>\n",
              "      <td id=\"T_38982_row2_col19\" class=\"data row2 col19\" >0.188517</td>\n",
              "      <td id=\"T_38982_row2_col20\" class=\"data row2 col20\" >0.022201</td>\n",
              "      <td id=\"T_38982_row2_col21\" class=\"data row2 col21\" >-0.019643</td>\n",
              "      <td id=\"T_38982_row2_col22\" class=\"data row2 col22\" >0.431023</td>\n",
              "      <td id=\"T_38982_row2_col23\" class=\"data row2 col23\" >-0.181990</td>\n",
              "      <td id=\"T_38982_row2_col24\" class=\"data row2 col24\" >0.103838</td>\n",
              "      <td id=\"T_38982_row2_col25\" class=\"data row2 col25\" >0.204430</td>\n",
              "      <td id=\"T_38982_row2_col26\" class=\"data row2 col26\" >-0.172346</td>\n",
              "      <td id=\"T_38982_row2_col27\" class=\"data row2 col27\" >-0.049751</td>\n",
              "      <td id=\"T_38982_row2_col28\" class=\"data row2 col28\" >0.114855</td>\n",
              "      <td id=\"T_38982_row2_col29\" class=\"data row2 col29\" >-0.044848</td>\n",
              "      <td id=\"T_38982_row2_col30\" class=\"data row2 col30\" >0.031932</td>\n",
              "      <td id=\"T_38982_row2_col31\" class=\"data row2 col31\" >0.036423</td>\n",
              "      <td id=\"T_38982_row2_col32\" class=\"data row2 col32\" >-0.031198</td>\n",
              "      <td id=\"T_38982_row2_col33\" class=\"data row2 col33\" >0.085946</td>\n",
              "      <td id=\"T_38982_row2_col34\" class=\"data row2 col34\" >-0.047653</td>\n",
              "      <td id=\"T_38982_row2_col35\" class=\"data row2 col35\" >0.020890</td>\n",
              "    </tr>\n",
              "    <tr>\n",
              "      <th id=\"T_38982_level0_row3\" class=\"row_heading level0 row3\" >koi_fpflag_co</th>\n",
              "      <td id=\"T_38982_row3_col0\" class=\"data row3 col0\" >-0.521103</td>\n",
              "      <td id=\"T_38982_row3_col1\" class=\"data row3 col1\" >-0.020810</td>\n",
              "      <td id=\"T_38982_row3_col2\" class=\"data row3 col2\" >0.149733</td>\n",
              "      <td id=\"T_38982_row3_col3\" class=\"data row3 col3\" >1.000000</td>\n",
              "      <td id=\"T_38982_row3_col4\" class=\"data row3 col4\" >0.525684</td>\n",
              "      <td id=\"T_38982_row3_col5\" class=\"data row3 col5\" >-0.020441</td>\n",
              "      <td id=\"T_38982_row3_col6\" class=\"data row3 col6\" >-0.088841</td>\n",
              "      <td id=\"T_38982_row3_col7\" class=\"data row3 col7\" >0.088841</td>\n",
              "      <td id=\"T_38982_row3_col8\" class=\"data row3 col8\" >0.011166</td>\n",
              "      <td id=\"T_38982_row3_col9\" class=\"data row3 col9\" >0.108294</td>\n",
              "      <td id=\"T_38982_row3_col10\" class=\"data row3 col10\" >-0.045537</td>\n",
              "      <td id=\"T_38982_row3_col11\" class=\"data row3 col11\" >-0.013527</td>\n",
              "      <td id=\"T_38982_row3_col12\" class=\"data row3 col12\" >0.013527</td>\n",
              "      <td id=\"T_38982_row3_col13\" class=\"data row3 col13\" >-0.124987</td>\n",
              "      <td id=\"T_38982_row3_col14\" class=\"data row3 col14\" >-0.010466</td>\n",
              "      <td id=\"T_38982_row3_col15\" class=\"data row3 col15\" >0.010466</td>\n",
              "      <td id=\"T_38982_row3_col16\" class=\"data row3 col16\" >-0.011491</td>\n",
              "      <td id=\"T_38982_row3_col17\" class=\"data row3 col17\" >-0.015183</td>\n",
              "      <td id=\"T_38982_row3_col18\" class=\"data row3 col18\" >0.011606</td>\n",
              "      <td id=\"T_38982_row3_col19\" class=\"data row3 col19\" >0.253654</td>\n",
              "      <td id=\"T_38982_row3_col20\" class=\"data row3 col20\" >0.019153</td>\n",
              "      <td id=\"T_38982_row3_col21\" class=\"data row3 col21\" >-0.014563</td>\n",
              "      <td id=\"T_38982_row3_col22\" class=\"data row3 col22\" >-0.128351</td>\n",
              "      <td id=\"T_38982_row3_col23\" class=\"data row3 col23\" >-0.122472</td>\n",
              "      <td id=\"T_38982_row3_col24\" class=\"data row3 col24\" >0.017077</td>\n",
              "      <td id=\"T_38982_row3_col25\" class=\"data row3 col25\" >0.145679</td>\n",
              "      <td id=\"T_38982_row3_col26\" class=\"data row3 col26\" >-0.111144</td>\n",
              "      <td id=\"T_38982_row3_col27\" class=\"data row3 col27\" >-0.010835</td>\n",
              "      <td id=\"T_38982_row3_col28\" class=\"data row3 col28\" >-0.016324</td>\n",
              "      <td id=\"T_38982_row3_col29\" class=\"data row3 col29\" >-0.046994</td>\n",
              "      <td id=\"T_38982_row3_col30\" class=\"data row3 col30\" >0.036803</td>\n",
              "      <td id=\"T_38982_row3_col31\" class=\"data row3 col31\" >0.029254</td>\n",
              "      <td id=\"T_38982_row3_col32\" class=\"data row3 col32\" >-0.028215</td>\n",
              "      <td id=\"T_38982_row3_col33\" class=\"data row3 col33\" >0.156078</td>\n",
              "      <td id=\"T_38982_row3_col34\" class=\"data row3 col34\" >-0.098131</td>\n",
              "      <td id=\"T_38982_row3_col35\" class=\"data row3 col35\" >0.064337</td>\n",
              "    </tr>\n",
              "    <tr>\n",
              "      <th id=\"T_38982_level0_row4\" class=\"row_heading level0 row4\" >koi_fpflag_ec</th>\n",
              "      <td id=\"T_38982_row4_col0\" class=\"data row4 col0\" >-0.398251</td>\n",
              "      <td id=\"T_38982_row4_col1\" class=\"data row4 col1\" >0.027112</td>\n",
              "      <td id=\"T_38982_row4_col2\" class=\"data row4 col2\" >0.100001</td>\n",
              "      <td id=\"T_38982_row4_col3\" class=\"data row4 col3\" >0.525684</td>\n",
              "      <td id=\"T_38982_row4_col4\" class=\"data row4 col4\" >1.000000</td>\n",
              "      <td id=\"T_38982_row4_col5\" class=\"data row4 col5\" >-0.017021</td>\n",
              "      <td id=\"T_38982_row4_col6\" class=\"data row4 col6\" >-0.082244</td>\n",
              "      <td id=\"T_38982_row4_col7\" class=\"data row4 col7\" >0.082244</td>\n",
              "      <td id=\"T_38982_row4_col8\" class=\"data row4 col8\" >-0.005014</td>\n",
              "      <td id=\"T_38982_row4_col9\" class=\"data row4 col9\" >0.034619</td>\n",
              "      <td id=\"T_38982_row4_col10\" class=\"data row4 col10\" >0.018939</td>\n",
              "      <td id=\"T_38982_row4_col11\" class=\"data row4 col11\" >0.016910</td>\n",
              "      <td id=\"T_38982_row4_col12\" class=\"data row4 col12\" >-0.016910</td>\n",
              "      <td id=\"T_38982_row4_col13\" class=\"data row4 col13\" >-0.087280</td>\n",
              "      <td id=\"T_38982_row4_col14\" class=\"data row4 col14\" >-0.003689</td>\n",
              "      <td id=\"T_38982_row4_col15\" class=\"data row4 col15\" >0.003689</td>\n",
              "      <td id=\"T_38982_row4_col16\" class=\"data row4 col16\" >-0.010148</td>\n",
              "      <td id=\"T_38982_row4_col17\" class=\"data row4 col17\" >-0.012598</td>\n",
              "      <td id=\"T_38982_row4_col18\" class=\"data row4 col18\" >0.008866</td>\n",
              "      <td id=\"T_38982_row4_col19\" class=\"data row4 col19\" >0.217418</td>\n",
              "      <td id=\"T_38982_row4_col20\" class=\"data row4 col20\" >0.038885</td>\n",
              "      <td id=\"T_38982_row4_col21\" class=\"data row4 col21\" >-0.024718</td>\n",
              "      <td id=\"T_38982_row4_col22\" class=\"data row4 col22\" >-0.089897</td>\n",
              "      <td id=\"T_38982_row4_col23\" class=\"data row4 col23\" >-0.095758</td>\n",
              "      <td id=\"T_38982_row4_col24\" class=\"data row4 col24\" >0.011224</td>\n",
              "      <td id=\"T_38982_row4_col25\" class=\"data row4 col25\" >0.111690</td>\n",
              "      <td id=\"T_38982_row4_col26\" class=\"data row4 col26\" >-0.077628</td>\n",
              "      <td id=\"T_38982_row4_col27\" class=\"data row4 col27\" >0.002190</td>\n",
              "      <td id=\"T_38982_row4_col28\" class=\"data row4 col28\" >-0.005519</td>\n",
              "      <td id=\"T_38982_row4_col29\" class=\"data row4 col29\" >-0.036241</td>\n",
              "      <td id=\"T_38982_row4_col30\" class=\"data row4 col30\" >0.019274</td>\n",
              "      <td id=\"T_38982_row4_col31\" class=\"data row4 col31\" >0.026714</td>\n",
              "      <td id=\"T_38982_row4_col32\" class=\"data row4 col32\" >-0.010055</td>\n",
              "      <td id=\"T_38982_row4_col33\" class=\"data row4 col33\" >0.070002</td>\n",
              "      <td id=\"T_38982_row4_col34\" class=\"data row4 col34\" >-0.045339</td>\n",
              "      <td id=\"T_38982_row4_col35\" class=\"data row4 col35\" >0.038450</td>\n",
              "    </tr>\n",
              "    <tr>\n",
              "      <th id=\"T_38982_level0_row5\" class=\"row_heading level0 row5\" >koi_period</th>\n",
              "      <td id=\"T_38982_row5_col0\" class=\"data row5 col0\" >-0.070669</td>\n",
              "      <td id=\"T_38982_row5_col1\" class=\"data row5 col1\" >0.032428</td>\n",
              "      <td id=\"T_38982_row5_col2\" class=\"data row5 col2\" >-0.020984</td>\n",
              "      <td id=\"T_38982_row5_col3\" class=\"data row5 col3\" >-0.020441</td>\n",
              "      <td id=\"T_38982_row5_col4\" class=\"data row5 col4\" >-0.017021</td>\n",
              "      <td id=\"T_38982_row5_col5\" class=\"data row5 col5\" >1.000000</td>\n",
              "      <td id=\"T_38982_row5_col6\" class=\"data row5 col6\" >0.053172</td>\n",
              "      <td id=\"T_38982_row5_col7\" class=\"data row5 col7\" >-0.053172</td>\n",
              "      <td id=\"T_38982_row5_col8\" class=\"data row5 col8\" >0.004928</td>\n",
              "      <td id=\"T_38982_row5_col9\" class=\"data row5 col9\" >-0.001884</td>\n",
              "      <td id=\"T_38982_row5_col10\" class=\"data row5 col10\" >0.037302</td>\n",
              "      <td id=\"T_38982_row5_col11\" class=\"data row5 col11\" >0.032922</td>\n",
              "      <td id=\"T_38982_row5_col12\" class=\"data row5 col12\" >-0.032922</td>\n",
              "      <td id=\"T_38982_row5_col13\" class=\"data row5 col13\" >-0.009180</td>\n",
              "      <td id=\"T_38982_row5_col14\" class=\"data row5 col14\" >0.002662</td>\n",
              "      <td id=\"T_38982_row5_col15\" class=\"data row5 col15\" >-0.002662</td>\n",
              "      <td id=\"T_38982_row5_col16\" class=\"data row5 col16\" >0.005135</td>\n",
              "      <td id=\"T_38982_row5_col17\" class=\"data row5 col17\" >0.003442</td>\n",
              "      <td id=\"T_38982_row5_col18\" class=\"data row5 col18\" >-0.004966</td>\n",
              "      <td id=\"T_38982_row5_col19\" class=\"data row5 col19\" >-0.049097</td>\n",
              "      <td id=\"T_38982_row5_col20\" class=\"data row5 col20\" >-0.003642</td>\n",
              "      <td id=\"T_38982_row5_col21\" class=\"data row5 col21\" >0.002448</td>\n",
              "      <td id=\"T_38982_row5_col22\" class=\"data row5 col22\" >-0.009614</td>\n",
              "      <td id=\"T_38982_row5_col23\" class=\"data row5 col23\" >-0.015107</td>\n",
              "      <td id=\"T_38982_row5_col24\" class=\"data row5 col24\" >-0.013552</td>\n",
              "      <td id=\"T_38982_row5_col25\" class=\"data row5 col25\" >0.005325</td>\n",
              "      <td id=\"T_38982_row5_col26\" class=\"data row5 col26\" >0.003194</td>\n",
              "      <td id=\"T_38982_row5_col27\" class=\"data row5 col27\" >0.001877</td>\n",
              "      <td id=\"T_38982_row5_col28\" class=\"data row5 col28\" >-0.006466</td>\n",
              "      <td id=\"T_38982_row5_col29\" class=\"data row5 col29\" >-0.003180</td>\n",
              "      <td id=\"T_38982_row5_col30\" class=\"data row5 col30\" >-0.000993</td>\n",
              "      <td id=\"T_38982_row5_col31\" class=\"data row5 col31\" >-0.000435</td>\n",
              "      <td id=\"T_38982_row5_col32\" class=\"data row5 col32\" >0.001556</td>\n",
              "      <td id=\"T_38982_row5_col33\" class=\"data row5 col33\" >0.005670</td>\n",
              "      <td id=\"T_38982_row5_col34\" class=\"data row5 col34\" >0.011479</td>\n",
              "      <td id=\"T_38982_row5_col35\" class=\"data row5 col35\" >-0.009858</td>\n",
              "    </tr>\n",
              "    <tr>\n",
              "      <th id=\"T_38982_level0_row6\" class=\"row_heading level0 row6\" >koi_period_err1</th>\n",
              "      <td id=\"T_38982_row6_col0\" class=\"data row6 col0\" >-0.093077</td>\n",
              "      <td id=\"T_38982_row6_col1\" class=\"data row6 col1\" >0.358862</td>\n",
              "      <td id=\"T_38982_row6_col2\" class=\"data row6 col2\" >-0.134983</td>\n",
              "      <td id=\"T_38982_row6_col3\" class=\"data row6 col3\" >-0.088841</td>\n",
              "      <td id=\"T_38982_row6_col4\" class=\"data row6 col4\" >-0.082244</td>\n",
              "      <td id=\"T_38982_row6_col5\" class=\"data row6 col5\" >0.053172</td>\n",
              "      <td id=\"T_38982_row6_col6\" class=\"data row6 col6\" >1.000000</td>\n",
              "      <td id=\"T_38982_row6_col7\" class=\"data row6 col7\" >-1.000000</td>\n",
              "      <td id=\"T_38982_row6_col8\" class=\"data row6 col8\" >0.024999</td>\n",
              "      <td id=\"T_38982_row6_col9\" class=\"data row6 col9\" >-0.014071</td>\n",
              "      <td id=\"T_38982_row6_col10\" class=\"data row6 col10\" >0.272808</td>\n",
              "      <td id=\"T_38982_row6_col11\" class=\"data row6 col11\" >0.543492</td>\n",
              "      <td id=\"T_38982_row6_col12\" class=\"data row6 col12\" >-0.543492</td>\n",
              "      <td id=\"T_38982_row6_col13\" class=\"data row6 col13\" >-0.071086</td>\n",
              "      <td id=\"T_38982_row6_col14\" class=\"data row6 col14\" >0.007794</td>\n",
              "      <td id=\"T_38982_row6_col15\" class=\"data row6 col15\" >-0.007794</td>\n",
              "      <td id=\"T_38982_row6_col16\" class=\"data row6 col16\" >0.023356</td>\n",
              "      <td id=\"T_38982_row6_col17\" class=\"data row6 col17\" >0.017057</td>\n",
              "      <td id=\"T_38982_row6_col18\" class=\"data row6 col18\" >-0.022560</td>\n",
              "      <td id=\"T_38982_row6_col19\" class=\"data row6 col19\" >-0.233183</td>\n",
              "      <td id=\"T_38982_row6_col20\" class=\"data row6 col20\" >-0.016898</td>\n",
              "      <td id=\"T_38982_row6_col21\" class=\"data row6 col21\" >0.011018</td>\n",
              "      <td id=\"T_38982_row6_col22\" class=\"data row6 col22\" >-0.081315</td>\n",
              "      <td id=\"T_38982_row6_col23\" class=\"data row6 col23\" >0.017696</td>\n",
              "      <td id=\"T_38982_row6_col24\" class=\"data row6 col24\" >0.034981</td>\n",
              "      <td id=\"T_38982_row6_col25\" class=\"data row6 col25\" >0.080781</td>\n",
              "      <td id=\"T_38982_row6_col26\" class=\"data row6 col26\" >-0.059013</td>\n",
              "      <td id=\"T_38982_row6_col27\" class=\"data row6 col27\" >-0.006311</td>\n",
              "      <td id=\"T_38982_row6_col28\" class=\"data row6 col28\" >0.005143</td>\n",
              "      <td id=\"T_38982_row6_col29\" class=\"data row6 col29\" >-0.186678</td>\n",
              "      <td id=\"T_38982_row6_col30\" class=\"data row6 col30\" >0.005900</td>\n",
              "      <td id=\"T_38982_row6_col31\" class=\"data row6 col31\" >0.032554</td>\n",
              "      <td id=\"T_38982_row6_col32\" class=\"data row6 col32\" >-0.002373</td>\n",
              "      <td id=\"T_38982_row6_col33\" class=\"data row6 col33\" >-0.032095</td>\n",
              "      <td id=\"T_38982_row6_col34\" class=\"data row6 col34\" >0.009384</td>\n",
              "      <td id=\"T_38982_row6_col35\" class=\"data row6 col35\" >-0.025989</td>\n",
              "    </tr>\n",
              "    <tr>\n",
              "      <th id=\"T_38982_level0_row7\" class=\"row_heading level0 row7\" >koi_period_err2</th>\n",
              "      <td id=\"T_38982_row7_col0\" class=\"data row7 col0\" >0.093077</td>\n",
              "      <td id=\"T_38982_row7_col1\" class=\"data row7 col1\" >-0.358862</td>\n",
              "      <td id=\"T_38982_row7_col2\" class=\"data row7 col2\" >0.134983</td>\n",
              "      <td id=\"T_38982_row7_col3\" class=\"data row7 col3\" >0.088841</td>\n",
              "      <td id=\"T_38982_row7_col4\" class=\"data row7 col4\" >0.082244</td>\n",
              "      <td id=\"T_38982_row7_col5\" class=\"data row7 col5\" >-0.053172</td>\n",
              "      <td id=\"T_38982_row7_col6\" class=\"data row7 col6\" >-1.000000</td>\n",
              "      <td id=\"T_38982_row7_col7\" class=\"data row7 col7\" >1.000000</td>\n",
              "      <td id=\"T_38982_row7_col8\" class=\"data row7 col8\" >-0.024999</td>\n",
              "      <td id=\"T_38982_row7_col9\" class=\"data row7 col9\" >0.014071</td>\n",
              "      <td id=\"T_38982_row7_col10\" class=\"data row7 col10\" >-0.272808</td>\n",
              "      <td id=\"T_38982_row7_col11\" class=\"data row7 col11\" >-0.543492</td>\n",
              "      <td id=\"T_38982_row7_col12\" class=\"data row7 col12\" >0.543492</td>\n",
              "      <td id=\"T_38982_row7_col13\" class=\"data row7 col13\" >0.071086</td>\n",
              "      <td id=\"T_38982_row7_col14\" class=\"data row7 col14\" >-0.007794</td>\n",
              "      <td id=\"T_38982_row7_col15\" class=\"data row7 col15\" >0.007794</td>\n",
              "      <td id=\"T_38982_row7_col16\" class=\"data row7 col16\" >-0.023356</td>\n",
              "      <td id=\"T_38982_row7_col17\" class=\"data row7 col17\" >-0.017057</td>\n",
              "      <td id=\"T_38982_row7_col18\" class=\"data row7 col18\" >0.022560</td>\n",
              "      <td id=\"T_38982_row7_col19\" class=\"data row7 col19\" >0.233183</td>\n",
              "      <td id=\"T_38982_row7_col20\" class=\"data row7 col20\" >0.016898</td>\n",
              "      <td id=\"T_38982_row7_col21\" class=\"data row7 col21\" >-0.011018</td>\n",
              "      <td id=\"T_38982_row7_col22\" class=\"data row7 col22\" >0.081315</td>\n",
              "      <td id=\"T_38982_row7_col23\" class=\"data row7 col23\" >-0.017696</td>\n",
              "      <td id=\"T_38982_row7_col24\" class=\"data row7 col24\" >-0.034981</td>\n",
              "      <td id=\"T_38982_row7_col25\" class=\"data row7 col25\" >-0.080781</td>\n",
              "      <td id=\"T_38982_row7_col26\" class=\"data row7 col26\" >0.059013</td>\n",
              "      <td id=\"T_38982_row7_col27\" class=\"data row7 col27\" >0.006311</td>\n",
              "      <td id=\"T_38982_row7_col28\" class=\"data row7 col28\" >-0.005143</td>\n",
              "      <td id=\"T_38982_row7_col29\" class=\"data row7 col29\" >0.186678</td>\n",
              "      <td id=\"T_38982_row7_col30\" class=\"data row7 col30\" >-0.005900</td>\n",
              "      <td id=\"T_38982_row7_col31\" class=\"data row7 col31\" >-0.032554</td>\n",
              "      <td id=\"T_38982_row7_col32\" class=\"data row7 col32\" >0.002373</td>\n",
              "      <td id=\"T_38982_row7_col33\" class=\"data row7 col33\" >0.032095</td>\n",
              "      <td id=\"T_38982_row7_col34\" class=\"data row7 col34\" >-0.009384</td>\n",
              "      <td id=\"T_38982_row7_col35\" class=\"data row7 col35\" >0.025989</td>\n",
              "    </tr>\n",
              "    <tr>\n",
              "      <th id=\"T_38982_level0_row8\" class=\"row_heading level0 row8\" >koi_impact</th>\n",
              "      <td id=\"T_38982_row8_col0\" class=\"data row8 col0\" >-0.214340</td>\n",
              "      <td id=\"T_38982_row8_col1\" class=\"data row8 col1\" >0.056062</td>\n",
              "      <td id=\"T_38982_row8_col2\" class=\"data row8 col2\" >0.043204</td>\n",
              "      <td id=\"T_38982_row8_col3\" class=\"data row8 col3\" >0.011166</td>\n",
              "      <td id=\"T_38982_row8_col4\" class=\"data row8 col4\" >-0.005014</td>\n",
              "      <td id=\"T_38982_row8_col5\" class=\"data row8 col5\" >0.004928</td>\n",
              "      <td id=\"T_38982_row8_col6\" class=\"data row8 col6\" >0.024999</td>\n",
              "      <td id=\"T_38982_row8_col7\" class=\"data row8 col7\" >-0.024999</td>\n",
              "      <td id=\"T_38982_row8_col8\" class=\"data row8 col8\" >1.000000</td>\n",
              "      <td id=\"T_38982_row8_col9\" class=\"data row8 col9\" >0.135050</td>\n",
              "      <td id=\"T_38982_row8_col10\" class=\"data row8 col10\" >0.036955</td>\n",
              "      <td id=\"T_38982_row8_col11\" class=\"data row8 col11\" >0.029864</td>\n",
              "      <td id=\"T_38982_row8_col12\" class=\"data row8 col12\" >-0.029864</td>\n",
              "      <td id=\"T_38982_row8_col13\" class=\"data row8 col13\" >0.005595</td>\n",
              "      <td id=\"T_38982_row8_col14\" class=\"data row8 col14\" >0.003753</td>\n",
              "      <td id=\"T_38982_row8_col15\" class=\"data row8 col15\" >-0.003753</td>\n",
              "      <td id=\"T_38982_row8_col16\" class=\"data row8 col16\" >0.677380</td>\n",
              "      <td id=\"T_38982_row8_col17\" class=\"data row8 col17\" >0.764919</td>\n",
              "      <td id=\"T_38982_row8_col18\" class=\"data row8 col18\" >-0.606893</td>\n",
              "      <td id=\"T_38982_row8_col19\" class=\"data row8 col19\" >-0.009982</td>\n",
              "      <td id=\"T_38982_row8_col20\" class=\"data row8 col20\" >-0.002757</td>\n",
              "      <td id=\"T_38982_row8_col21\" class=\"data row8 col21\" >0.003037</td>\n",
              "      <td id=\"T_38982_row8_col22\" class=\"data row8 col22\" >-0.000476</td>\n",
              "      <td id=\"T_38982_row8_col23\" class=\"data row8 col23\" >-0.008040</td>\n",
              "      <td id=\"T_38982_row8_col24\" class=\"data row8 col24\" >0.016070</td>\n",
              "      <td id=\"T_38982_row8_col25\" class=\"data row8 col25\" >0.025403</td>\n",
              "      <td id=\"T_38982_row8_col26\" class=\"data row8 col26\" >-0.039143</td>\n",
              "      <td id=\"T_38982_row8_col27\" class=\"data row8 col27\" >-0.059275</td>\n",
              "      <td id=\"T_38982_row8_col28\" class=\"data row8 col28\" >0.010622</td>\n",
              "      <td id=\"T_38982_row8_col29\" class=\"data row8 col29\" >0.000479</td>\n",
              "      <td id=\"T_38982_row8_col30\" class=\"data row8 col30\" >0.022645</td>\n",
              "      <td id=\"T_38982_row8_col31\" class=\"data row8 col31\" >0.021761</td>\n",
              "      <td id=\"T_38982_row8_col32\" class=\"data row8 col32\" >-0.029131</td>\n",
              "      <td id=\"T_38982_row8_col33\" class=\"data row8 col33\" >0.022464</td>\n",
              "      <td id=\"T_38982_row8_col34\" class=\"data row8 col34\" >-0.001804</td>\n",
              "      <td id=\"T_38982_row8_col35\" class=\"data row8 col35\" >-0.009796</td>\n",
              "    </tr>\n",
              "    <tr>\n",
              "      <th id=\"T_38982_level0_row9\" class=\"row_heading level0 row9\" >koi_impact_err1</th>\n",
              "      <td id=\"T_38982_row9_col0\" class=\"data row9 col0\" >-0.121752</td>\n",
              "      <td id=\"T_38982_row9_col1\" class=\"data row9 col1\" >-0.022399</td>\n",
              "      <td id=\"T_38982_row9_col2\" class=\"data row9 col2\" >0.146152</td>\n",
              "      <td id=\"T_38982_row9_col3\" class=\"data row9 col3\" >0.108294</td>\n",
              "      <td id=\"T_38982_row9_col4\" class=\"data row9 col4\" >0.034619</td>\n",
              "      <td id=\"T_38982_row9_col5\" class=\"data row9 col5\" >-0.001884</td>\n",
              "      <td id=\"T_38982_row9_col6\" class=\"data row9 col6\" >-0.014071</td>\n",
              "      <td id=\"T_38982_row9_col7\" class=\"data row9 col7\" >0.014071</td>\n",
              "      <td id=\"T_38982_row9_col8\" class=\"data row9 col8\" >0.135050</td>\n",
              "      <td id=\"T_38982_row9_col9\" class=\"data row9 col9\" >1.000000</td>\n",
              "      <td id=\"T_38982_row9_col10\" class=\"data row9 col10\" >-0.004081</td>\n",
              "      <td id=\"T_38982_row9_col11\" class=\"data row9 col11\" >-0.005862</td>\n",
              "      <td id=\"T_38982_row9_col12\" class=\"data row9 col12\" >0.005862</td>\n",
              "      <td id=\"T_38982_row9_col13\" class=\"data row9 col13\" >-0.040054</td>\n",
              "      <td id=\"T_38982_row9_col14\" class=\"data row9 col14\" >0.003104</td>\n",
              "      <td id=\"T_38982_row9_col15\" class=\"data row9 col15\" >-0.003104</td>\n",
              "      <td id=\"T_38982_row9_col16\" class=\"data row9 col16\" >0.027605</td>\n",
              "      <td id=\"T_38982_row9_col17\" class=\"data row9 col17\" >0.044885</td>\n",
              "      <td id=\"T_38982_row9_col18\" class=\"data row9 col18\" >-0.019250</td>\n",
              "      <td id=\"T_38982_row9_col19\" class=\"data row9 col19\" >-0.060290</td>\n",
              "      <td id=\"T_38982_row9_col20\" class=\"data row9 col20\" >-0.009034</td>\n",
              "      <td id=\"T_38982_row9_col21\" class=\"data row9 col21\" >0.006390</td>\n",
              "      <td id=\"T_38982_row9_col22\" class=\"data row9 col22\" >-0.051842</td>\n",
              "      <td id=\"T_38982_row9_col23\" class=\"data row9 col23\" >-0.017091</td>\n",
              "      <td id=\"T_38982_row9_col24\" class=\"data row9 col24\" >-0.008268</td>\n",
              "      <td id=\"T_38982_row9_col25\" class=\"data row9 col25\" >0.047260</td>\n",
              "      <td id=\"T_38982_row9_col26\" class=\"data row9 col26\" >-0.036202</td>\n",
              "      <td id=\"T_38982_row9_col27\" class=\"data row9 col27\" >0.006990</td>\n",
              "      <td id=\"T_38982_row9_col28\" class=\"data row9 col28\" >0.007949</td>\n",
              "      <td id=\"T_38982_row9_col29\" class=\"data row9 col29\" >-0.008021</td>\n",
              "      <td id=\"T_38982_row9_col30\" class=\"data row9 col30\" >0.005847</td>\n",
              "      <td id=\"T_38982_row9_col31\" class=\"data row9 col31\" >0.003378</td>\n",
              "      <td id=\"T_38982_row9_col32\" class=\"data row9 col32\" >-0.006546</td>\n",
              "      <td id=\"T_38982_row9_col33\" class=\"data row9 col33\" >0.025825</td>\n",
              "      <td id=\"T_38982_row9_col34\" class=\"data row9 col34\" >-0.032158</td>\n",
              "      <td id=\"T_38982_row9_col35\" class=\"data row9 col35\" >0.050631</td>\n",
              "    </tr>\n",
              "    <tr>\n",
              "      <th id=\"T_38982_level0_row10\" class=\"row_heading level0 row10\" >koi_duration</th>\n",
              "      <td id=\"T_38982_row10_col0\" class=\"data row10 col0\" >-0.173200</td>\n",
              "      <td id=\"T_38982_row10_col1\" class=\"data row10 col1\" >0.259361</td>\n",
              "      <td id=\"T_38982_row10_col2\" class=\"data row10 col2\" >0.003639</td>\n",
              "      <td id=\"T_38982_row10_col3\" class=\"data row10 col3\" >-0.045537</td>\n",
              "      <td id=\"T_38982_row10_col4\" class=\"data row10 col4\" >0.018939</td>\n",
              "      <td id=\"T_38982_row10_col5\" class=\"data row10 col5\" >0.037302</td>\n",
              "      <td id=\"T_38982_row10_col6\" class=\"data row10 col6\" >0.272808</td>\n",
              "      <td id=\"T_38982_row10_col7\" class=\"data row10 col7\" >-0.272808</td>\n",
              "      <td id=\"T_38982_row10_col8\" class=\"data row10 col8\" >0.036955</td>\n",
              "      <td id=\"T_38982_row10_col9\" class=\"data row10 col9\" >-0.004081</td>\n",
              "      <td id=\"T_38982_row10_col10\" class=\"data row10 col10\" >1.000000</td>\n",
              "      <td id=\"T_38982_row10_col11\" class=\"data row10 col11\" >0.382555</td>\n",
              "      <td id=\"T_38982_row10_col12\" class=\"data row10 col12\" >-0.382555</td>\n",
              "      <td id=\"T_38982_row10_col13\" class=\"data row10 col13\" >0.067275</td>\n",
              "      <td id=\"T_38982_row10_col14\" class=\"data row10 col14\" >0.002388</td>\n",
              "      <td id=\"T_38982_row10_col15\" class=\"data row10 col15\" >-0.002388</td>\n",
              "      <td id=\"T_38982_row10_col16\" class=\"data row10 col16\" >0.036573</td>\n",
              "      <td id=\"T_38982_row10_col17\" class=\"data row10 col17\" >0.019729</td>\n",
              "      <td id=\"T_38982_row10_col18\" class=\"data row10 col18\" >-0.034864</td>\n",
              "      <td id=\"T_38982_row10_col19\" class=\"data row10 col19\" >-0.194730</td>\n",
              "      <td id=\"T_38982_row10_col20\" class=\"data row10 col20\" >-0.023262</td>\n",
              "      <td id=\"T_38982_row10_col21\" class=\"data row10 col21\" >0.018365</td>\n",
              "      <td id=\"T_38982_row10_col22\" class=\"data row10 col22\" >0.083584</td>\n",
              "      <td id=\"T_38982_row10_col23\" class=\"data row10 col23\" >-0.011838</td>\n",
              "      <td id=\"T_38982_row10_col24\" class=\"data row10 col24\" >0.106203</td>\n",
              "      <td id=\"T_38982_row10_col25\" class=\"data row10 col25\" >0.068292</td>\n",
              "      <td id=\"T_38982_row10_col26\" class=\"data row10 col26\" >-0.069682</td>\n",
              "      <td id=\"T_38982_row10_col27\" class=\"data row10 col27\" >-0.122239</td>\n",
              "      <td id=\"T_38982_row10_col28\" class=\"data row10 col28\" >0.101232</td>\n",
              "      <td id=\"T_38982_row10_col29\" class=\"data row10 col29\" >-0.090946</td>\n",
              "      <td id=\"T_38982_row10_col30\" class=\"data row10 col30\" >0.013675</td>\n",
              "      <td id=\"T_38982_row10_col31\" class=\"data row10 col31\" >0.049342</td>\n",
              "      <td id=\"T_38982_row10_col32\" class=\"data row10 col32\" >-0.017941</td>\n",
              "      <td id=\"T_38982_row10_col33\" class=\"data row10 col33\" >0.030927</td>\n",
              "      <td id=\"T_38982_row10_col34\" class=\"data row10 col34\" >-0.028101</td>\n",
              "      <td id=\"T_38982_row10_col35\" class=\"data row10 col35\" >-0.098477</td>\n",
              "    </tr>\n",
              "    <tr>\n",
              "      <th id=\"T_38982_level0_row11\" class=\"row_heading level0 row11\" >koi_duration_err1</th>\n",
              "      <td id=\"T_38982_row11_col0\" class=\"data row11 col0\" >-0.095304</td>\n",
              "      <td id=\"T_38982_row11_col1\" class=\"data row11 col1\" >0.370354</td>\n",
              "      <td id=\"T_38982_row11_col2\" class=\"data row11 col2\" >-0.193946</td>\n",
              "      <td id=\"T_38982_row11_col3\" class=\"data row11 col3\" >-0.013527</td>\n",
              "      <td id=\"T_38982_row11_col4\" class=\"data row11 col4\" >0.016910</td>\n",
              "      <td id=\"T_38982_row11_col5\" class=\"data row11 col5\" >0.032922</td>\n",
              "      <td id=\"T_38982_row11_col6\" class=\"data row11 col6\" >0.543492</td>\n",
              "      <td id=\"T_38982_row11_col7\" class=\"data row11 col7\" >-0.543492</td>\n",
              "      <td id=\"T_38982_row11_col8\" class=\"data row11 col8\" >0.029864</td>\n",
              "      <td id=\"T_38982_row11_col9\" class=\"data row11 col9\" >-0.005862</td>\n",
              "      <td id=\"T_38982_row11_col10\" class=\"data row11 col10\" >0.382555</td>\n",
              "      <td id=\"T_38982_row11_col11\" class=\"data row11 col11\" >1.000000</td>\n",
              "      <td id=\"T_38982_row11_col12\" class=\"data row11 col12\" >-1.000000</td>\n",
              "      <td id=\"T_38982_row11_col13\" class=\"data row11 col13\" >-0.131944</td>\n",
              "      <td id=\"T_38982_row11_col14\" class=\"data row11 col14\" >0.019352</td>\n",
              "      <td id=\"T_38982_row11_col15\" class=\"data row11 col15\" >-0.019352</td>\n",
              "      <td id=\"T_38982_row11_col16\" class=\"data row11 col16\" >0.021402</td>\n",
              "      <td id=\"T_38982_row11_col17\" class=\"data row11 col17\" >0.017908</td>\n",
              "      <td id=\"T_38982_row11_col18\" class=\"data row11 col18\" >-0.020110</td>\n",
              "      <td id=\"T_38982_row11_col19\" class=\"data row11 col19\" >-0.149642</td>\n",
              "      <td id=\"T_38982_row11_col20\" class=\"data row11 col20\" >-0.009605</td>\n",
              "      <td id=\"T_38982_row11_col21\" class=\"data row11 col21\" >0.006524</td>\n",
              "      <td id=\"T_38982_row11_col22\" class=\"data row11 col22\" >-0.150393</td>\n",
              "      <td id=\"T_38982_row11_col23\" class=\"data row11 col23\" >0.039544</td>\n",
              "      <td id=\"T_38982_row11_col24\" class=\"data row11 col24\" >0.070182</td>\n",
              "      <td id=\"T_38982_row11_col25\" class=\"data row11 col25\" >0.089239</td>\n",
              "      <td id=\"T_38982_row11_col26\" class=\"data row11 col26\" >-0.084747</td>\n",
              "      <td id=\"T_38982_row11_col27\" class=\"data row11 col27\" >-0.045687</td>\n",
              "      <td id=\"T_38982_row11_col28\" class=\"data row11 col28\" >0.024178</td>\n",
              "      <td id=\"T_38982_row11_col29\" class=\"data row11 col29\" >-0.160885</td>\n",
              "      <td id=\"T_38982_row11_col30\" class=\"data row11 col30\" >0.025427</td>\n",
              "      <td id=\"T_38982_row11_col31\" class=\"data row11 col31\" >0.061000</td>\n",
              "      <td id=\"T_38982_row11_col32\" class=\"data row11 col32\" >-0.032211</td>\n",
              "      <td id=\"T_38982_row11_col33\" class=\"data row11 col33\" >0.002820</td>\n",
              "      <td id=\"T_38982_row11_col34\" class=\"data row11 col34\" >-0.016106</td>\n",
              "      <td id=\"T_38982_row11_col35\" class=\"data row11 col35\" >-0.061397</td>\n",
              "    </tr>\n",
              "    <tr>\n",
              "      <th id=\"T_38982_level0_row12\" class=\"row_heading level0 row12\" >koi_duration_err2</th>\n",
              "      <td id=\"T_38982_row12_col0\" class=\"data row12 col0\" >0.095304</td>\n",
              "      <td id=\"T_38982_row12_col1\" class=\"data row12 col1\" >-0.370354</td>\n",
              "      <td id=\"T_38982_row12_col2\" class=\"data row12 col2\" >0.193946</td>\n",
              "      <td id=\"T_38982_row12_col3\" class=\"data row12 col3\" >0.013527</td>\n",
              "      <td id=\"T_38982_row12_col4\" class=\"data row12 col4\" >-0.016910</td>\n",
              "      <td id=\"T_38982_row12_col5\" class=\"data row12 col5\" >-0.032922</td>\n",
              "      <td id=\"T_38982_row12_col6\" class=\"data row12 col6\" >-0.543492</td>\n",
              "      <td id=\"T_38982_row12_col7\" class=\"data row12 col7\" >0.543492</td>\n",
              "      <td id=\"T_38982_row12_col8\" class=\"data row12 col8\" >-0.029864</td>\n",
              "      <td id=\"T_38982_row12_col9\" class=\"data row12 col9\" >0.005862</td>\n",
              "      <td id=\"T_38982_row12_col10\" class=\"data row12 col10\" >-0.382555</td>\n",
              "      <td id=\"T_38982_row12_col11\" class=\"data row12 col11\" >-1.000000</td>\n",
              "      <td id=\"T_38982_row12_col12\" class=\"data row12 col12\" >1.000000</td>\n",
              "      <td id=\"T_38982_row12_col13\" class=\"data row12 col13\" >0.131944</td>\n",
              "      <td id=\"T_38982_row12_col14\" class=\"data row12 col14\" >-0.019352</td>\n",
              "      <td id=\"T_38982_row12_col15\" class=\"data row12 col15\" >0.019352</td>\n",
              "      <td id=\"T_38982_row12_col16\" class=\"data row12 col16\" >-0.021402</td>\n",
              "      <td id=\"T_38982_row12_col17\" class=\"data row12 col17\" >-0.017908</td>\n",
              "      <td id=\"T_38982_row12_col18\" class=\"data row12 col18\" >0.020110</td>\n",
              "      <td id=\"T_38982_row12_col19\" class=\"data row12 col19\" >0.149642</td>\n",
              "      <td id=\"T_38982_row12_col20\" class=\"data row12 col20\" >0.009605</td>\n",
              "      <td id=\"T_38982_row12_col21\" class=\"data row12 col21\" >-0.006524</td>\n",
              "      <td id=\"T_38982_row12_col22\" class=\"data row12 col22\" >0.150393</td>\n",
              "      <td id=\"T_38982_row12_col23\" class=\"data row12 col23\" >-0.039544</td>\n",
              "      <td id=\"T_38982_row12_col24\" class=\"data row12 col24\" >-0.070182</td>\n",
              "      <td id=\"T_38982_row12_col25\" class=\"data row12 col25\" >-0.089239</td>\n",
              "      <td id=\"T_38982_row12_col26\" class=\"data row12 col26\" >0.084747</td>\n",
              "      <td id=\"T_38982_row12_col27\" class=\"data row12 col27\" >0.045687</td>\n",
              "      <td id=\"T_38982_row12_col28\" class=\"data row12 col28\" >-0.024178</td>\n",
              "      <td id=\"T_38982_row12_col29\" class=\"data row12 col29\" >0.160885</td>\n",
              "      <td id=\"T_38982_row12_col30\" class=\"data row12 col30\" >-0.025427</td>\n",
              "      <td id=\"T_38982_row12_col31\" class=\"data row12 col31\" >-0.061000</td>\n",
              "      <td id=\"T_38982_row12_col32\" class=\"data row12 col32\" >0.032211</td>\n",
              "      <td id=\"T_38982_row12_col33\" class=\"data row12 col33\" >-0.002820</td>\n",
              "      <td id=\"T_38982_row12_col34\" class=\"data row12 col34\" >0.016106</td>\n",
              "      <td id=\"T_38982_row12_col35\" class=\"data row12 col35\" >0.061397</td>\n",
              "    </tr>\n",
              "    <tr>\n",
              "      <th id=\"T_38982_level0_row13\" class=\"row_heading level0 row13\" >koi_depth</th>\n",
              "      <td id=\"T_38982_row13_col0\" class=\"data row13 col0\" >-0.301010</td>\n",
              "      <td id=\"T_38982_row13_col1\" class=\"data row13 col1\" >-0.045873</td>\n",
              "      <td id=\"T_38982_row13_col2\" class=\"data row13 col2\" >0.424323</td>\n",
              "      <td id=\"T_38982_row13_col3\" class=\"data row13 col3\" >-0.124987</td>\n",
              "      <td id=\"T_38982_row13_col4\" class=\"data row13 col4\" >-0.087280</td>\n",
              "      <td id=\"T_38982_row13_col5\" class=\"data row13 col5\" >-0.009180</td>\n",
              "      <td id=\"T_38982_row13_col6\" class=\"data row13 col6\" >-0.071086</td>\n",
              "      <td id=\"T_38982_row13_col7\" class=\"data row13 col7\" >0.071086</td>\n",
              "      <td id=\"T_38982_row13_col8\" class=\"data row13 col8\" >0.005595</td>\n",
              "      <td id=\"T_38982_row13_col9\" class=\"data row13 col9\" >-0.040054</td>\n",
              "      <td id=\"T_38982_row13_col10\" class=\"data row13 col10\" >0.067275</td>\n",
              "      <td id=\"T_38982_row13_col11\" class=\"data row13 col11\" >-0.131944</td>\n",
              "      <td id=\"T_38982_row13_col12\" class=\"data row13 col12\" >0.131944</td>\n",
              "      <td id=\"T_38982_row13_col13\" class=\"data row13 col13\" >1.000000</td>\n",
              "      <td id=\"T_38982_row13_col14\" class=\"data row13 col14\" >0.228913</td>\n",
              "      <td id=\"T_38982_row13_col15\" class=\"data row13 col15\" >-0.228913</td>\n",
              "      <td id=\"T_38982_row13_col16\" class=\"data row13 col16\" >0.002558</td>\n",
              "      <td id=\"T_38982_row13_col17\" class=\"data row13 col17\" >0.010754</td>\n",
              "      <td id=\"T_38982_row13_col18\" class=\"data row13 col18\" >-0.000791</td>\n",
              "      <td id=\"T_38982_row13_col19\" class=\"data row13 col19\" >0.080735</td>\n",
              "      <td id=\"T_38982_row13_col20\" class=\"data row13 col20\" >-0.005934</td>\n",
              "      <td id=\"T_38982_row13_col21\" class=\"data row13 col21\" >0.004400</td>\n",
              "      <td id=\"T_38982_row13_col22\" class=\"data row13 col22\" >0.579725</td>\n",
              "      <td id=\"T_38982_row13_col23\" class=\"data row13 col23\" >-0.094511</td>\n",
              "      <td id=\"T_38982_row13_col24\" class=\"data row13 col24\" >0.113608</td>\n",
              "      <td id=\"T_38982_row13_col25\" class=\"data row13 col25\" >0.149237</td>\n",
              "      <td id=\"T_38982_row13_col26\" class=\"data row13 col26\" >-0.136703</td>\n",
              "      <td id=\"T_38982_row13_col27\" class=\"data row13 col27\" >-0.008365</td>\n",
              "      <td id=\"T_38982_row13_col28\" class=\"data row13 col28\" >0.105977</td>\n",
              "      <td id=\"T_38982_row13_col29\" class=\"data row13 col29\" >-0.017885</td>\n",
              "      <td id=\"T_38982_row13_col30\" class=\"data row13 col30\" >-0.016826</td>\n",
              "      <td id=\"T_38982_row13_col31\" class=\"data row13 col31\" >-0.004059</td>\n",
              "      <td id=\"T_38982_row13_col32\" class=\"data row13 col32\" >0.002431</td>\n",
              "      <td id=\"T_38982_row13_col33\" class=\"data row13 col33\" >0.028558</td>\n",
              "      <td id=\"T_38982_row13_col34\" class=\"data row13 col34\" >-0.018076</td>\n",
              "      <td id=\"T_38982_row13_col35\" class=\"data row13 col35\" >0.042709</td>\n",
              "    </tr>\n",
              "    <tr>\n",
              "      <th id=\"T_38982_level0_row14\" class=\"row_heading level0 row14\" >koi_depth_err1</th>\n",
              "      <td id=\"T_38982_row14_col0\" class=\"data row14 col0\" >-0.166398</td>\n",
              "      <td id=\"T_38982_row14_col1\" class=\"data row14 col1\" >0.027879</td>\n",
              "      <td id=\"T_38982_row14_col2\" class=\"data row14 col2\" >0.007952</td>\n",
              "      <td id=\"T_38982_row14_col3\" class=\"data row14 col3\" >-0.010466</td>\n",
              "      <td id=\"T_38982_row14_col4\" class=\"data row14 col4\" >-0.003689</td>\n",
              "      <td id=\"T_38982_row14_col5\" class=\"data row14 col5\" >0.002662</td>\n",
              "      <td id=\"T_38982_row14_col6\" class=\"data row14 col6\" >0.007794</td>\n",
              "      <td id=\"T_38982_row14_col7\" class=\"data row14 col7\" >-0.007794</td>\n",
              "      <td id=\"T_38982_row14_col8\" class=\"data row14 col8\" >0.003753</td>\n",
              "      <td id=\"T_38982_row14_col9\" class=\"data row14 col9\" >0.003104</td>\n",
              "      <td id=\"T_38982_row14_col10\" class=\"data row14 col10\" >0.002388</td>\n",
              "      <td id=\"T_38982_row14_col11\" class=\"data row14 col11\" >0.019352</td>\n",
              "      <td id=\"T_38982_row14_col12\" class=\"data row14 col12\" >-0.019352</td>\n",
              "      <td id=\"T_38982_row14_col13\" class=\"data row14 col13\" >0.228913</td>\n",
              "      <td id=\"T_38982_row14_col14\" class=\"data row14 col14\" >1.000000</td>\n",
              "      <td id=\"T_38982_row14_col15\" class=\"data row14 col15\" >-1.000000</td>\n",
              "      <td id=\"T_38982_row14_col16\" class=\"data row14 col16\" >0.001541</td>\n",
              "      <td id=\"T_38982_row14_col17\" class=\"data row14 col17\" >0.004633</td>\n",
              "      <td id=\"T_38982_row14_col18\" class=\"data row14 col18\" >-0.000664</td>\n",
              "      <td id=\"T_38982_row14_col19\" class=\"data row14 col19\" >-0.012071</td>\n",
              "      <td id=\"T_38982_row14_col20\" class=\"data row14 col20\" >-0.001176</td>\n",
              "      <td id=\"T_38982_row14_col21\" class=\"data row14 col21\" >0.000795</td>\n",
              "      <td id=\"T_38982_row14_col22\" class=\"data row14 col22\" >0.000278</td>\n",
              "      <td id=\"T_38982_row14_col23\" class=\"data row14 col23\" >-0.007254</td>\n",
              "      <td id=\"T_38982_row14_col24\" class=\"data row14 col24\" >0.005134</td>\n",
              "      <td id=\"T_38982_row14_col25\" class=\"data row14 col25\" >0.017575</td>\n",
              "      <td id=\"T_38982_row14_col26\" class=\"data row14 col26\" >-0.009080</td>\n",
              "      <td id=\"T_38982_row14_col27\" class=\"data row14 col27\" >0.008312</td>\n",
              "      <td id=\"T_38982_row14_col28\" class=\"data row14 col28\" >-0.006439</td>\n",
              "      <td id=\"T_38982_row14_col29\" class=\"data row14 col29\" >0.014087</td>\n",
              "      <td id=\"T_38982_row14_col30\" class=\"data row14 col30\" >-0.002444</td>\n",
              "      <td id=\"T_38982_row14_col31\" class=\"data row14 col31\" >0.000358</td>\n",
              "      <td id=\"T_38982_row14_col32\" class=\"data row14 col32\" >0.001900</td>\n",
              "      <td id=\"T_38982_row14_col33\" class=\"data row14 col33\" >0.011381</td>\n",
              "      <td id=\"T_38982_row14_col34\" class=\"data row14 col34\" >-0.015923</td>\n",
              "      <td id=\"T_38982_row14_col35\" class=\"data row14 col35\" >0.016817</td>\n",
              "    </tr>\n",
              "    <tr>\n",
              "      <th id=\"T_38982_level0_row15\" class=\"row_heading level0 row15\" >koi_depth_err2</th>\n",
              "      <td id=\"T_38982_row15_col0\" class=\"data row15 col0\" >0.166398</td>\n",
              "      <td id=\"T_38982_row15_col1\" class=\"data row15 col1\" >-0.027879</td>\n",
              "      <td id=\"T_38982_row15_col2\" class=\"data row15 col2\" >-0.007952</td>\n",
              "      <td id=\"T_38982_row15_col3\" class=\"data row15 col3\" >0.010466</td>\n",
              "      <td id=\"T_38982_row15_col4\" class=\"data row15 col4\" >0.003689</td>\n",
              "      <td id=\"T_38982_row15_col5\" class=\"data row15 col5\" >-0.002662</td>\n",
              "      <td id=\"T_38982_row15_col6\" class=\"data row15 col6\" >-0.007794</td>\n",
              "      <td id=\"T_38982_row15_col7\" class=\"data row15 col7\" >0.007794</td>\n",
              "      <td id=\"T_38982_row15_col8\" class=\"data row15 col8\" >-0.003753</td>\n",
              "      <td id=\"T_38982_row15_col9\" class=\"data row15 col9\" >-0.003104</td>\n",
              "      <td id=\"T_38982_row15_col10\" class=\"data row15 col10\" >-0.002388</td>\n",
              "      <td id=\"T_38982_row15_col11\" class=\"data row15 col11\" >-0.019352</td>\n",
              "      <td id=\"T_38982_row15_col12\" class=\"data row15 col12\" >0.019352</td>\n",
              "      <td id=\"T_38982_row15_col13\" class=\"data row15 col13\" >-0.228913</td>\n",
              "      <td id=\"T_38982_row15_col14\" class=\"data row15 col14\" >-1.000000</td>\n",
              "      <td id=\"T_38982_row15_col15\" class=\"data row15 col15\" >1.000000</td>\n",
              "      <td id=\"T_38982_row15_col16\" class=\"data row15 col16\" >-0.001541</td>\n",
              "      <td id=\"T_38982_row15_col17\" class=\"data row15 col17\" >-0.004633</td>\n",
              "      <td id=\"T_38982_row15_col18\" class=\"data row15 col18\" >0.000664</td>\n",
              "      <td id=\"T_38982_row15_col19\" class=\"data row15 col19\" >0.012071</td>\n",
              "      <td id=\"T_38982_row15_col20\" class=\"data row15 col20\" >0.001176</td>\n",
              "      <td id=\"T_38982_row15_col21\" class=\"data row15 col21\" >-0.000795</td>\n",
              "      <td id=\"T_38982_row15_col22\" class=\"data row15 col22\" >-0.000278</td>\n",
              "      <td id=\"T_38982_row15_col23\" class=\"data row15 col23\" >0.007254</td>\n",
              "      <td id=\"T_38982_row15_col24\" class=\"data row15 col24\" >-0.005134</td>\n",
              "      <td id=\"T_38982_row15_col25\" class=\"data row15 col25\" >-0.017575</td>\n",
              "      <td id=\"T_38982_row15_col26\" class=\"data row15 col26\" >0.009080</td>\n",
              "      <td id=\"T_38982_row15_col27\" class=\"data row15 col27\" >-0.008312</td>\n",
              "      <td id=\"T_38982_row15_col28\" class=\"data row15 col28\" >0.006439</td>\n",
              "      <td id=\"T_38982_row15_col29\" class=\"data row15 col29\" >-0.014087</td>\n",
              "      <td id=\"T_38982_row15_col30\" class=\"data row15 col30\" >0.002444</td>\n",
              "      <td id=\"T_38982_row15_col31\" class=\"data row15 col31\" >-0.000358</td>\n",
              "      <td id=\"T_38982_row15_col32\" class=\"data row15 col32\" >-0.001900</td>\n",
              "      <td id=\"T_38982_row15_col33\" class=\"data row15 col33\" >-0.011381</td>\n",
              "      <td id=\"T_38982_row15_col34\" class=\"data row15 col34\" >0.015923</td>\n",
              "      <td id=\"T_38982_row15_col35\" class=\"data row15 col35\" >-0.016817</td>\n",
              "    </tr>\n",
              "    <tr>\n",
              "      <th id=\"T_38982_level0_row16\" class=\"row_heading level0 row16\" >koi_prad</th>\n",
              "      <td id=\"T_38982_row16_col0\" class=\"data row16 col0\" >-0.076870</td>\n",
              "      <td id=\"T_38982_row16_col1\" class=\"data row16 col1\" >0.045008</td>\n",
              "      <td id=\"T_38982_row16_col2\" class=\"data row16 col2\" >0.001429</td>\n",
              "      <td id=\"T_38982_row16_col3\" class=\"data row16 col3\" >-0.011491</td>\n",
              "      <td id=\"T_38982_row16_col4\" class=\"data row16 col4\" >-0.010148</td>\n",
              "      <td id=\"T_38982_row16_col5\" class=\"data row16 col5\" >0.005135</td>\n",
              "      <td id=\"T_38982_row16_col6\" class=\"data row16 col6\" >0.023356</td>\n",
              "      <td id=\"T_38982_row16_col7\" class=\"data row16 col7\" >-0.023356</td>\n",
              "      <td id=\"T_38982_row16_col8\" class=\"data row16 col8\" >0.677380</td>\n",
              "      <td id=\"T_38982_row16_col9\" class=\"data row16 col9\" >0.027605</td>\n",
              "      <td id=\"T_38982_row16_col10\" class=\"data row16 col10\" >0.036573</td>\n",
              "      <td id=\"T_38982_row16_col11\" class=\"data row16 col11\" >0.021402</td>\n",
              "      <td id=\"T_38982_row16_col12\" class=\"data row16 col12\" >-0.021402</td>\n",
              "      <td id=\"T_38982_row16_col13\" class=\"data row16 col13\" >0.002558</td>\n",
              "      <td id=\"T_38982_row16_col14\" class=\"data row16 col14\" >0.001541</td>\n",
              "      <td id=\"T_38982_row16_col15\" class=\"data row16 col15\" >-0.001541</td>\n",
              "      <td id=\"T_38982_row16_col16\" class=\"data row16 col16\" >1.000000</td>\n",
              "      <td id=\"T_38982_row16_col17\" class=\"data row16 col17\" >0.722604</td>\n",
              "      <td id=\"T_38982_row16_col18\" class=\"data row16 col18\" >-0.987628</td>\n",
              "      <td id=\"T_38982_row16_col19\" class=\"data row16 col19\" >-0.001249</td>\n",
              "      <td id=\"T_38982_row16_col20\" class=\"data row16 col20\" >0.003314</td>\n",
              "      <td id=\"T_38982_row16_col21\" class=\"data row16 col21\" >-0.002173</td>\n",
              "      <td id=\"T_38982_row16_col22\" class=\"data row16 col22\" >-0.001746</td>\n",
              "      <td id=\"T_38982_row16_col23\" class=\"data row16 col23\" >-0.004987</td>\n",
              "      <td id=\"T_38982_row16_col24\" class=\"data row16 col24\" >-0.013025</td>\n",
              "      <td id=\"T_38982_row16_col25\" class=\"data row16 col25\" >-0.019486</td>\n",
              "      <td id=\"T_38982_row16_col26\" class=\"data row16 col26\" >-0.020881</td>\n",
              "      <td id=\"T_38982_row16_col27\" class=\"data row16 col27\" >-0.097329</td>\n",
              "      <td id=\"T_38982_row16_col28\" class=\"data row16 col28\" >-0.002666</td>\n",
              "      <td id=\"T_38982_row16_col29\" class=\"data row16 col29\" >0.018033</td>\n",
              "      <td id=\"T_38982_row16_col30\" class=\"data row16 col30\" >0.056669</td>\n",
              "      <td id=\"T_38982_row16_col31\" class=\"data row16 col31\" >0.035655</td>\n",
              "      <td id=\"T_38982_row16_col32\" class=\"data row16 col32\" >-0.060269</td>\n",
              "      <td id=\"T_38982_row16_col33\" class=\"data row16 col33\" >0.008716</td>\n",
              "      <td id=\"T_38982_row16_col34\" class=\"data row16 col34\" >0.003037</td>\n",
              "      <td id=\"T_38982_row16_col35\" class=\"data row16 col35\" >-0.022565</td>\n",
              "    </tr>\n",
              "    <tr>\n",
              "      <th id=\"T_38982_level0_row17\" class=\"row_heading level0 row17\" >koi_prad_err1</th>\n",
              "      <td id=\"T_38982_row17_col0\" class=\"data row17 col0\" >-0.054581</td>\n",
              "      <td id=\"T_38982_row17_col1\" class=\"data row17 col1\" >0.048595</td>\n",
              "      <td id=\"T_38982_row17_col2\" class=\"data row17 col2\" >0.006198</td>\n",
              "      <td id=\"T_38982_row17_col3\" class=\"data row17 col3\" >-0.015183</td>\n",
              "      <td id=\"T_38982_row17_col4\" class=\"data row17 col4\" >-0.012598</td>\n",
              "      <td id=\"T_38982_row17_col5\" class=\"data row17 col5\" >0.003442</td>\n",
              "      <td id=\"T_38982_row17_col6\" class=\"data row17 col6\" >0.017057</td>\n",
              "      <td id=\"T_38982_row17_col7\" class=\"data row17 col7\" >-0.017057</td>\n",
              "      <td id=\"T_38982_row17_col8\" class=\"data row17 col8\" >0.764919</td>\n",
              "      <td id=\"T_38982_row17_col9\" class=\"data row17 col9\" >0.044885</td>\n",
              "      <td id=\"T_38982_row17_col10\" class=\"data row17 col10\" >0.019729</td>\n",
              "      <td id=\"T_38982_row17_col11\" class=\"data row17 col11\" >0.017908</td>\n",
              "      <td id=\"T_38982_row17_col12\" class=\"data row17 col12\" >-0.017908</td>\n",
              "      <td id=\"T_38982_row17_col13\" class=\"data row17 col13\" >0.010754</td>\n",
              "      <td id=\"T_38982_row17_col14\" class=\"data row17 col14\" >0.004633</td>\n",
              "      <td id=\"T_38982_row17_col15\" class=\"data row17 col15\" >-0.004633</td>\n",
              "      <td id=\"T_38982_row17_col16\" class=\"data row17 col16\" >0.722604</td>\n",
              "      <td id=\"T_38982_row17_col17\" class=\"data row17 col17\" >1.000000</td>\n",
              "      <td id=\"T_38982_row17_col18\" class=\"data row17 col18\" >-0.660690</td>\n",
              "      <td id=\"T_38982_row17_col19\" class=\"data row17 col19\" >0.005238</td>\n",
              "      <td id=\"T_38982_row17_col20\" class=\"data row17 col20\" >0.006127</td>\n",
              "      <td id=\"T_38982_row17_col21\" class=\"data row17 col21\" >-0.002379</td>\n",
              "      <td id=\"T_38982_row17_col22\" class=\"data row17 col22\" >0.002193</td>\n",
              "      <td id=\"T_38982_row17_col23\" class=\"data row17 col23\" >-0.005938</td>\n",
              "      <td id=\"T_38982_row17_col24\" class=\"data row17 col24\" >-0.006182</td>\n",
              "      <td id=\"T_38982_row17_col25\" class=\"data row17 col25\" >-0.007842</td>\n",
              "      <td id=\"T_38982_row17_col26\" class=\"data row17 col26\" >-0.019049</td>\n",
              "      <td id=\"T_38982_row17_col27\" class=\"data row17 col27\" >-0.095306</td>\n",
              "      <td id=\"T_38982_row17_col28\" class=\"data row17 col28\" >0.021109</td>\n",
              "      <td id=\"T_38982_row17_col29\" class=\"data row17 col29\" >-0.014101</td>\n",
              "      <td id=\"T_38982_row17_col30\" class=\"data row17 col30\" >0.044957</td>\n",
              "      <td id=\"T_38982_row17_col31\" class=\"data row17 col31\" >0.060506</td>\n",
              "      <td id=\"T_38982_row17_col32\" class=\"data row17 col32\" >-0.046588</td>\n",
              "      <td id=\"T_38982_row17_col33\" class=\"data row17 col33\" >0.011929</td>\n",
              "      <td id=\"T_38982_row17_col34\" class=\"data row17 col34\" >0.004986</td>\n",
              "      <td id=\"T_38982_row17_col35\" class=\"data row17 col35\" >-0.014800</td>\n",
              "    </tr>\n",
              "    <tr>\n",
              "      <th id=\"T_38982_level0_row18\" class=\"row_heading level0 row18\" >koi_prad_err2</th>\n",
              "      <td id=\"T_38982_row18_col0\" class=\"data row18 col0\" >0.049689</td>\n",
              "      <td id=\"T_38982_row18_col1\" class=\"data row18 col1\" >-0.041881</td>\n",
              "      <td id=\"T_38982_row18_col2\" class=\"data row18 col2\" >0.001770</td>\n",
              "      <td id=\"T_38982_row18_col3\" class=\"data row18 col3\" >0.011606</td>\n",
              "      <td id=\"T_38982_row18_col4\" class=\"data row18 col4\" >0.008866</td>\n",
              "      <td id=\"T_38982_row18_col5\" class=\"data row18 col5\" >-0.004966</td>\n",
              "      <td id=\"T_38982_row18_col6\" class=\"data row18 col6\" >-0.022560</td>\n",
              "      <td id=\"T_38982_row18_col7\" class=\"data row18 col7\" >0.022560</td>\n",
              "      <td id=\"T_38982_row18_col8\" class=\"data row18 col8\" >-0.606893</td>\n",
              "      <td id=\"T_38982_row18_col9\" class=\"data row18 col9\" >-0.019250</td>\n",
              "      <td id=\"T_38982_row18_col10\" class=\"data row18 col10\" >-0.034864</td>\n",
              "      <td id=\"T_38982_row18_col11\" class=\"data row18 col11\" >-0.020110</td>\n",
              "      <td id=\"T_38982_row18_col12\" class=\"data row18 col12\" >0.020110</td>\n",
              "      <td id=\"T_38982_row18_col13\" class=\"data row18 col13\" >-0.000791</td>\n",
              "      <td id=\"T_38982_row18_col14\" class=\"data row18 col14\" >-0.000664</td>\n",
              "      <td id=\"T_38982_row18_col15\" class=\"data row18 col15\" >0.000664</td>\n",
              "      <td id=\"T_38982_row18_col16\" class=\"data row18 col16\" >-0.987628</td>\n",
              "      <td id=\"T_38982_row18_col17\" class=\"data row18 col17\" >-0.660690</td>\n",
              "      <td id=\"T_38982_row18_col18\" class=\"data row18 col18\" >1.000000</td>\n",
              "      <td id=\"T_38982_row18_col19\" class=\"data row18 col19\" >0.000230</td>\n",
              "      <td id=\"T_38982_row18_col20\" class=\"data row18 col20\" >-0.002302</td>\n",
              "      <td id=\"T_38982_row18_col21\" class=\"data row18 col21\" >0.001568</td>\n",
              "      <td id=\"T_38982_row18_col22\" class=\"data row18 col22\" >0.002460</td>\n",
              "      <td id=\"T_38982_row18_col23\" class=\"data row18 col23\" >0.005028</td>\n",
              "      <td id=\"T_38982_row18_col24\" class=\"data row18 col24\" >0.014516</td>\n",
              "      <td id=\"T_38982_row18_col25\" class=\"data row18 col25\" >0.020206</td>\n",
              "      <td id=\"T_38982_row18_col26\" class=\"data row18 col26\" >0.020588</td>\n",
              "      <td id=\"T_38982_row18_col27\" class=\"data row18 col27\" >0.093778</td>\n",
              "      <td id=\"T_38982_row18_col28\" class=\"data row18 col28\" >-0.000419</td>\n",
              "      <td id=\"T_38982_row18_col29\" class=\"data row18 col29\" >-0.017066</td>\n",
              "      <td id=\"T_38982_row18_col30\" class=\"data row18 col30\" >-0.052330</td>\n",
              "      <td id=\"T_38982_row18_col31\" class=\"data row18 col31\" >-0.031042</td>\n",
              "      <td id=\"T_38982_row18_col32\" class=\"data row18 col32\" >0.060403</td>\n",
              "      <td id=\"T_38982_row18_col33\" class=\"data row18 col33\" >-0.009293</td>\n",
              "      <td id=\"T_38982_row18_col34\" class=\"data row18 col34\" >-0.003283</td>\n",
              "      <td id=\"T_38982_row18_col35\" class=\"data row18 col35\" >0.022811</td>\n",
              "    </tr>\n",
              "    <tr>\n",
              "      <th id=\"T_38982_level0_row19\" class=\"row_heading level0 row19\" >koi_teq</th>\n",
              "      <td id=\"T_38982_row19_col0\" class=\"data row19 col0\" >-0.302279</td>\n",
              "      <td id=\"T_38982_row19_col1\" class=\"data row19 col1\" >-0.021832</td>\n",
              "      <td id=\"T_38982_row19_col2\" class=\"data row19 col2\" >0.188517</td>\n",
              "      <td id=\"T_38982_row19_col3\" class=\"data row19 col3\" >0.253654</td>\n",
              "      <td id=\"T_38982_row19_col4\" class=\"data row19 col4\" >0.217418</td>\n",
              "      <td id=\"T_38982_row19_col5\" class=\"data row19 col5\" >-0.049097</td>\n",
              "      <td id=\"T_38982_row19_col6\" class=\"data row19 col6\" >-0.233183</td>\n",
              "      <td id=\"T_38982_row19_col7\" class=\"data row19 col7\" >0.233183</td>\n",
              "      <td id=\"T_38982_row19_col8\" class=\"data row19 col8\" >-0.009982</td>\n",
              "      <td id=\"T_38982_row19_col9\" class=\"data row19 col9\" >-0.060290</td>\n",
              "      <td id=\"T_38982_row19_col10\" class=\"data row19 col10\" >-0.194730</td>\n",
              "      <td id=\"T_38982_row19_col11\" class=\"data row19 col11\" >-0.149642</td>\n",
              "      <td id=\"T_38982_row19_col12\" class=\"data row19 col12\" >0.149642</td>\n",
              "      <td id=\"T_38982_row19_col13\" class=\"data row19 col13\" >0.080735</td>\n",
              "      <td id=\"T_38982_row19_col14\" class=\"data row19 col14\" >-0.012071</td>\n",
              "      <td id=\"T_38982_row19_col15\" class=\"data row19 col15\" >0.012071</td>\n",
              "      <td id=\"T_38982_row19_col16\" class=\"data row19 col16\" >-0.001249</td>\n",
              "      <td id=\"T_38982_row19_col17\" class=\"data row19 col17\" >0.005238</td>\n",
              "      <td id=\"T_38982_row19_col18\" class=\"data row19 col18\" >0.000230</td>\n",
              "      <td id=\"T_38982_row19_col19\" class=\"data row19 col19\" >1.000000</td>\n",
              "      <td id=\"T_38982_row19_col20\" class=\"data row19 col20\" >0.465577</td>\n",
              "      <td id=\"T_38982_row19_col21\" class=\"data row19 col21\" >-0.399761</td>\n",
              "      <td id=\"T_38982_row19_col22\" class=\"data row19 col22\" >0.047546</td>\n",
              "      <td id=\"T_38982_row19_col23\" class=\"data row19 col23\" >-0.088745</td>\n",
              "      <td id=\"T_38982_row19_col24\" class=\"data row19 col24\" >0.240061</td>\n",
              "      <td id=\"T_38982_row19_col25\" class=\"data row19 col25\" >0.125064</td>\n",
              "      <td id=\"T_38982_row19_col26\" class=\"data row19 col26\" >-0.211109</td>\n",
              "      <td id=\"T_38982_row19_col27\" class=\"data row19 col27\" >-0.527374</td>\n",
              "      <td id=\"T_38982_row19_col28\" class=\"data row19 col28\" >0.260926</td>\n",
              "      <td id=\"T_38982_row19_col29\" class=\"data row19 col29\" >0.000048</td>\n",
              "      <td id=\"T_38982_row19_col30\" class=\"data row19 col30\" >0.439855</td>\n",
              "      <td id=\"T_38982_row19_col31\" class=\"data row19 col31\" >0.410367</td>\n",
              "      <td id=\"T_38982_row19_col32\" class=\"data row19 col32\" >-0.392145</td>\n",
              "      <td id=\"T_38982_row19_col33\" class=\"data row19 col33\" >0.119479</td>\n",
              "      <td id=\"T_38982_row19_col34\" class=\"data row19 col34\" >-0.059060</td>\n",
              "      <td id=\"T_38982_row19_col35\" class=\"data row19 col35\" >-0.257340</td>\n",
              "    </tr>\n",
              "    <tr>\n",
              "      <th id=\"T_38982_level0_row20\" class=\"row_heading level0 row20\" >koi_insol_err1</th>\n",
              "      <td id=\"T_38982_row20_col0\" class=\"data row20 col0\" >-0.043238</td>\n",
              "      <td id=\"T_38982_row20_col1\" class=\"data row20 col1\" >0.023554</td>\n",
              "      <td id=\"T_38982_row20_col2\" class=\"data row20 col2\" >0.022201</td>\n",
              "      <td id=\"T_38982_row20_col3\" class=\"data row20 col3\" >0.019153</td>\n",
              "      <td id=\"T_38982_row20_col4\" class=\"data row20 col4\" >0.038885</td>\n",
              "      <td id=\"T_38982_row20_col5\" class=\"data row20 col5\" >-0.003642</td>\n",
              "      <td id=\"T_38982_row20_col6\" class=\"data row20 col6\" >-0.016898</td>\n",
              "      <td id=\"T_38982_row20_col7\" class=\"data row20 col7\" >0.016898</td>\n",
              "      <td id=\"T_38982_row20_col8\" class=\"data row20 col8\" >-0.002757</td>\n",
              "      <td id=\"T_38982_row20_col9\" class=\"data row20 col9\" >-0.009034</td>\n",
              "      <td id=\"T_38982_row20_col10\" class=\"data row20 col10\" >-0.023262</td>\n",
              "      <td id=\"T_38982_row20_col11\" class=\"data row20 col11\" >-0.009605</td>\n",
              "      <td id=\"T_38982_row20_col12\" class=\"data row20 col12\" >0.009605</td>\n",
              "      <td id=\"T_38982_row20_col13\" class=\"data row20 col13\" >-0.005934</td>\n",
              "      <td id=\"T_38982_row20_col14\" class=\"data row20 col14\" >-0.001176</td>\n",
              "      <td id=\"T_38982_row20_col15\" class=\"data row20 col15\" >0.001176</td>\n",
              "      <td id=\"T_38982_row20_col16\" class=\"data row20 col16\" >0.003314</td>\n",
              "      <td id=\"T_38982_row20_col17\" class=\"data row20 col17\" >0.006127</td>\n",
              "      <td id=\"T_38982_row20_col18\" class=\"data row20 col18\" >-0.002302</td>\n",
              "      <td id=\"T_38982_row20_col19\" class=\"data row20 col19\" >0.465577</td>\n",
              "      <td id=\"T_38982_row20_col20\" class=\"data row20 col20\" >1.000000</td>\n",
              "      <td id=\"T_38982_row20_col21\" class=\"data row20 col21\" >-0.853800</td>\n",
              "      <td id=\"T_38982_row20_col22\" class=\"data row20 col22\" >-0.008913</td>\n",
              "      <td id=\"T_38982_row20_col23\" class=\"data row20 col23\" >-0.008573</td>\n",
              "      <td id=\"T_38982_row20_col24\" class=\"data row20 col24\" >-0.050165</td>\n",
              "      <td id=\"T_38982_row20_col25\" class=\"data row20 col25\" >-0.015062</td>\n",
              "      <td id=\"T_38982_row20_col26\" class=\"data row20 col26\" >-0.005667</td>\n",
              "      <td id=\"T_38982_row20_col27\" class=\"data row20 col27\" >-0.322647</td>\n",
              "      <td id=\"T_38982_row20_col28\" class=\"data row20 col28\" >0.041467</td>\n",
              "      <td id=\"T_38982_row20_col29\" class=\"data row20 col29\" >0.012328</td>\n",
              "      <td id=\"T_38982_row20_col30\" class=\"data row20 col30\" >0.508532</td>\n",
              "      <td id=\"T_38982_row20_col31\" class=\"data row20 col31\" >0.478917</td>\n",
              "      <td id=\"T_38982_row20_col32\" class=\"data row20 col32\" >-0.414967</td>\n",
              "      <td id=\"T_38982_row20_col33\" class=\"data row20 col33\" >0.027288</td>\n",
              "      <td id=\"T_38982_row20_col34\" class=\"data row20 col34\" >-0.012333</td>\n",
              "      <td id=\"T_38982_row20_col35\" class=\"data row20 col35\" >-0.092285</td>\n",
              "    </tr>\n",
              "    <tr>\n",
              "      <th id=\"T_38982_level0_row21\" class=\"row_heading level0 row21\" >koi_insol_err2</th>\n",
              "      <td id=\"T_38982_row21_col0\" class=\"data row21 col0\" >0.026134</td>\n",
              "      <td id=\"T_38982_row21_col1\" class=\"data row21 col1\" >-0.004896</td>\n",
              "      <td id=\"T_38982_row21_col2\" class=\"data row21 col2\" >-0.019643</td>\n",
              "      <td id=\"T_38982_row21_col3\" class=\"data row21 col3\" >-0.014563</td>\n",
              "      <td id=\"T_38982_row21_col4\" class=\"data row21 col4\" >-0.024718</td>\n",
              "      <td id=\"T_38982_row21_col5\" class=\"data row21 col5\" >0.002448</td>\n",
              "      <td id=\"T_38982_row21_col6\" class=\"data row21 col6\" >0.011018</td>\n",
              "      <td id=\"T_38982_row21_col7\" class=\"data row21 col7\" >-0.011018</td>\n",
              "      <td id=\"T_38982_row21_col8\" class=\"data row21 col8\" >0.003037</td>\n",
              "      <td id=\"T_38982_row21_col9\" class=\"data row21 col9\" >0.006390</td>\n",
              "      <td id=\"T_38982_row21_col10\" class=\"data row21 col10\" >0.018365</td>\n",
              "      <td id=\"T_38982_row21_col11\" class=\"data row21 col11\" >0.006524</td>\n",
              "      <td id=\"T_38982_row21_col12\" class=\"data row21 col12\" >-0.006524</td>\n",
              "      <td id=\"T_38982_row21_col13\" class=\"data row21 col13\" >0.004400</td>\n",
              "      <td id=\"T_38982_row21_col14\" class=\"data row21 col14\" >0.000795</td>\n",
              "      <td id=\"T_38982_row21_col15\" class=\"data row21 col15\" >-0.000795</td>\n",
              "      <td id=\"T_38982_row21_col16\" class=\"data row21 col16\" >-0.002173</td>\n",
              "      <td id=\"T_38982_row21_col17\" class=\"data row21 col17\" >-0.002379</td>\n",
              "      <td id=\"T_38982_row21_col18\" class=\"data row21 col18\" >0.001568</td>\n",
              "      <td id=\"T_38982_row21_col19\" class=\"data row21 col19\" >-0.399761</td>\n",
              "      <td id=\"T_38982_row21_col20\" class=\"data row21 col20\" >-0.853800</td>\n",
              "      <td id=\"T_38982_row21_col21\" class=\"data row21 col21\" >1.000000</td>\n",
              "      <td id=\"T_38982_row21_col22\" class=\"data row21 col22\" >0.007281</td>\n",
              "      <td id=\"T_38982_row21_col23\" class=\"data row21 col23\" >0.006272</td>\n",
              "      <td id=\"T_38982_row21_col24\" class=\"data row21 col24\" >0.048728</td>\n",
              "      <td id=\"T_38982_row21_col25\" class=\"data row21 col25\" >0.026438</td>\n",
              "      <td id=\"T_38982_row21_col26\" class=\"data row21 col26\" >-0.002594</td>\n",
              "      <td id=\"T_38982_row21_col27\" class=\"data row21 col27\" >0.265902</td>\n",
              "      <td id=\"T_38982_row21_col28\" class=\"data row21 col28\" >-0.031848</td>\n",
              "      <td id=\"T_38982_row21_col29\" class=\"data row21 col29\" >-0.022637</td>\n",
              "      <td id=\"T_38982_row21_col30\" class=\"data row21 col30\" >-0.517583</td>\n",
              "      <td id=\"T_38982_row21_col31\" class=\"data row21 col31\" >-0.332329</td>\n",
              "      <td id=\"T_38982_row21_col32\" class=\"data row21 col32\" >0.513084</td>\n",
              "      <td id=\"T_38982_row21_col33\" class=\"data row21 col33\" >-0.027574</td>\n",
              "      <td id=\"T_38982_row21_col34\" class=\"data row21 col34\" >0.014541</td>\n",
              "      <td id=\"T_38982_row21_col35\" class=\"data row21 col35\" >0.068695</td>\n",
              "    </tr>\n",
              "    <tr>\n",
              "      <th id=\"T_38982_level0_row22\" class=\"row_heading level0 row22\" >koi_model_snr</th>\n",
              "      <td id=\"T_38982_row22_col0\" class=\"data row22 col0\" >-0.269034</td>\n",
              "      <td id=\"T_38982_row22_col1\" class=\"data row22 col1\" >-0.080243</td>\n",
              "      <td id=\"T_38982_row22_col2\" class=\"data row22 col2\" >0.431023</td>\n",
              "      <td id=\"T_38982_row22_col3\" class=\"data row22 col3\" >-0.128351</td>\n",
              "      <td id=\"T_38982_row22_col4\" class=\"data row22 col4\" >-0.089897</td>\n",
              "      <td id=\"T_38982_row22_col5\" class=\"data row22 col5\" >-0.009614</td>\n",
              "      <td id=\"T_38982_row22_col6\" class=\"data row22 col6\" >-0.081315</td>\n",
              "      <td id=\"T_38982_row22_col7\" class=\"data row22 col7\" >0.081315</td>\n",
              "      <td id=\"T_38982_row22_col8\" class=\"data row22 col8\" >-0.000476</td>\n",
              "      <td id=\"T_38982_row22_col9\" class=\"data row22 col9\" >-0.051842</td>\n",
              "      <td id=\"T_38982_row22_col10\" class=\"data row22 col10\" >0.083584</td>\n",
              "      <td id=\"T_38982_row22_col11\" class=\"data row22 col11\" >-0.150393</td>\n",
              "      <td id=\"T_38982_row22_col12\" class=\"data row22 col12\" >0.150393</td>\n",
              "      <td id=\"T_38982_row22_col13\" class=\"data row22 col13\" >0.579725</td>\n",
              "      <td id=\"T_38982_row22_col14\" class=\"data row22 col14\" >0.000278</td>\n",
              "      <td id=\"T_38982_row22_col15\" class=\"data row22 col15\" >-0.000278</td>\n",
              "      <td id=\"T_38982_row22_col16\" class=\"data row22 col16\" >-0.001746</td>\n",
              "      <td id=\"T_38982_row22_col17\" class=\"data row22 col17\" >0.002193</td>\n",
              "      <td id=\"T_38982_row22_col18\" class=\"data row22 col18\" >0.002460</td>\n",
              "      <td id=\"T_38982_row22_col19\" class=\"data row22 col19\" >0.047546</td>\n",
              "      <td id=\"T_38982_row22_col20\" class=\"data row22 col20\" >-0.008913</td>\n",
              "      <td id=\"T_38982_row22_col21\" class=\"data row22 col21\" >0.007281</td>\n",
              "      <td id=\"T_38982_row22_col22\" class=\"data row22 col22\" >1.000000</td>\n",
              "      <td id=\"T_38982_row22_col23\" class=\"data row22 col23\" >-0.103070</td>\n",
              "      <td id=\"T_38982_row22_col24\" class=\"data row22 col24\" >0.142403</td>\n",
              "      <td id=\"T_38982_row22_col25\" class=\"data row22 col25\" >0.113173</td>\n",
              "      <td id=\"T_38982_row22_col26\" class=\"data row22 col26\" >-0.115150</td>\n",
              "      <td id=\"T_38982_row22_col27\" class=\"data row22 col27\" >-0.045613</td>\n",
              "      <td id=\"T_38982_row22_col28\" class=\"data row22 col28\" >0.118025</td>\n",
              "      <td id=\"T_38982_row22_col29\" class=\"data row22 col29\" >-0.022571</td>\n",
              "      <td id=\"T_38982_row22_col30\" class=\"data row22 col30\" >-0.010111</td>\n",
              "      <td id=\"T_38982_row22_col31\" class=\"data row22 col31\" >0.001225</td>\n",
              "      <td id=\"T_38982_row22_col32\" class=\"data row22 col32\" >-0.002204</td>\n",
              "      <td id=\"T_38982_row22_col33\" class=\"data row22 col33\" >0.038810</td>\n",
              "      <td id=\"T_38982_row22_col34\" class=\"data row22 col34\" >-0.001677</td>\n",
              "      <td id=\"T_38982_row22_col35\" class=\"data row22 col35\" >-0.114525</td>\n",
              "    </tr>\n",
              "    <tr>\n",
              "      <th id=\"T_38982_level0_row23\" class=\"row_heading level0 row23\" >koi_tce_plnt_num</th>\n",
              "      <td id=\"T_38982_row23_col0\" class=\"data row23 col0\" >0.209081</td>\n",
              "      <td id=\"T_38982_row23_col1\" class=\"data row23 col1\" >0.031631</td>\n",
              "      <td id=\"T_38982_row23_col2\" class=\"data row23 col2\" >-0.181990</td>\n",
              "      <td id=\"T_38982_row23_col3\" class=\"data row23 col3\" >-0.122472</td>\n",
              "      <td id=\"T_38982_row23_col4\" class=\"data row23 col4\" >-0.095758</td>\n",
              "      <td id=\"T_38982_row23_col5\" class=\"data row23 col5\" >-0.015107</td>\n",
              "      <td id=\"T_38982_row23_col6\" class=\"data row23 col6\" >0.017696</td>\n",
              "      <td id=\"T_38982_row23_col7\" class=\"data row23 col7\" >-0.017696</td>\n",
              "      <td id=\"T_38982_row23_col8\" class=\"data row23 col8\" >-0.008040</td>\n",
              "      <td id=\"T_38982_row23_col9\" class=\"data row23 col9\" >-0.017091</td>\n",
              "      <td id=\"T_38982_row23_col10\" class=\"data row23 col10\" >-0.011838</td>\n",
              "      <td id=\"T_38982_row23_col11\" class=\"data row23 col11\" >0.039544</td>\n",
              "      <td id=\"T_38982_row23_col12\" class=\"data row23 col12\" >-0.039544</td>\n",
              "      <td id=\"T_38982_row23_col13\" class=\"data row23 col13\" >-0.094511</td>\n",
              "      <td id=\"T_38982_row23_col14\" class=\"data row23 col14\" >-0.007254</td>\n",
              "      <td id=\"T_38982_row23_col15\" class=\"data row23 col15\" >0.007254</td>\n",
              "      <td id=\"T_38982_row23_col16\" class=\"data row23 col16\" >-0.004987</td>\n",
              "      <td id=\"T_38982_row23_col17\" class=\"data row23 col17\" >-0.005938</td>\n",
              "      <td id=\"T_38982_row23_col18\" class=\"data row23 col18\" >0.005028</td>\n",
              "      <td id=\"T_38982_row23_col19\" class=\"data row23 col19\" >-0.088745</td>\n",
              "      <td id=\"T_38982_row23_col20\" class=\"data row23 col20\" >-0.008573</td>\n",
              "      <td id=\"T_38982_row23_col21\" class=\"data row23 col21\" >0.006272</td>\n",
              "      <td id=\"T_38982_row23_col22\" class=\"data row23 col22\" >-0.103070</td>\n",
              "      <td id=\"T_38982_row23_col23\" class=\"data row23 col23\" >1.000000</td>\n",
              "      <td id=\"T_38982_row23_col24\" class=\"data row23 col24\" >-0.064690</td>\n",
              "      <td id=\"T_38982_row23_col25\" class=\"data row23 col25\" >-0.153837</td>\n",
              "      <td id=\"T_38982_row23_col26\" class=\"data row23 col26\" >0.132981</td>\n",
              "      <td id=\"T_38982_row23_col27\" class=\"data row23 col27\" >0.034286</td>\n",
              "      <td id=\"T_38982_row23_col28\" class=\"data row23 col28\" >-0.036911</td>\n",
              "      <td id=\"T_38982_row23_col29\" class=\"data row23 col29\" >0.115522</td>\n",
              "      <td id=\"T_38982_row23_col30\" class=\"data row23 col30\" >0.003936</td>\n",
              "      <td id=\"T_38982_row23_col31\" class=\"data row23 col31\" >-0.013439</td>\n",
              "      <td id=\"T_38982_row23_col32\" class=\"data row23 col32\" >-0.022958</td>\n",
              "      <td id=\"T_38982_row23_col33\" class=\"data row23 col33\" >-0.039501</td>\n",
              "      <td id=\"T_38982_row23_col34\" class=\"data row23 col34\" >0.022664</td>\n",
              "      <td id=\"T_38982_row23_col35\" class=\"data row23 col35\" >-0.053189</td>\n",
              "    </tr>\n",
              "    <tr>\n",
              "      <th id=\"T_38982_level0_row24\" class=\"row_heading level0 row24\" >koi_steff</th>\n",
              "      <td id=\"T_38982_row24_col0\" class=\"data row24 col0\" >-0.192544</td>\n",
              "      <td id=\"T_38982_row24_col1\" class=\"data row24 col1\" >0.107827</td>\n",
              "      <td id=\"T_38982_row24_col2\" class=\"data row24 col2\" >0.103838</td>\n",
              "      <td id=\"T_38982_row24_col3\" class=\"data row24 col3\" >0.017077</td>\n",
              "      <td id=\"T_38982_row24_col4\" class=\"data row24 col4\" >0.011224</td>\n",
              "      <td id=\"T_38982_row24_col5\" class=\"data row24 col5\" >-0.013552</td>\n",
              "      <td id=\"T_38982_row24_col6\" class=\"data row24 col6\" >0.034981</td>\n",
              "      <td id=\"T_38982_row24_col7\" class=\"data row24 col7\" >-0.034981</td>\n",
              "      <td id=\"T_38982_row24_col8\" class=\"data row24 col8\" >0.016070</td>\n",
              "      <td id=\"T_38982_row24_col9\" class=\"data row24 col9\" >-0.008268</td>\n",
              "      <td id=\"T_38982_row24_col10\" class=\"data row24 col10\" >0.106203</td>\n",
              "      <td id=\"T_38982_row24_col11\" class=\"data row24 col11\" >0.070182</td>\n",
              "      <td id=\"T_38982_row24_col12\" class=\"data row24 col12\" >-0.070182</td>\n",
              "      <td id=\"T_38982_row24_col13\" class=\"data row24 col13\" >0.113608</td>\n",
              "      <td id=\"T_38982_row24_col14\" class=\"data row24 col14\" >0.005134</td>\n",
              "      <td id=\"T_38982_row24_col15\" class=\"data row24 col15\" >-0.005134</td>\n",
              "      <td id=\"T_38982_row24_col16\" class=\"data row24 col16\" >-0.013025</td>\n",
              "      <td id=\"T_38982_row24_col17\" class=\"data row24 col17\" >-0.006182</td>\n",
              "      <td id=\"T_38982_row24_col18\" class=\"data row24 col18\" >0.014516</td>\n",
              "      <td id=\"T_38982_row24_col19\" class=\"data row24 col19\" >0.240061</td>\n",
              "      <td id=\"T_38982_row24_col20\" class=\"data row24 col20\" >-0.050165</td>\n",
              "      <td id=\"T_38982_row24_col21\" class=\"data row24 col21\" >0.048728</td>\n",
              "      <td id=\"T_38982_row24_col22\" class=\"data row24 col22\" >0.142403</td>\n",
              "      <td id=\"T_38982_row24_col23\" class=\"data row24 col23\" >-0.064690</td>\n",
              "      <td id=\"T_38982_row24_col24\" class=\"data row24 col24\" >1.000000</td>\n",
              "      <td id=\"T_38982_row24_col25\" class=\"data row24 col25\" >0.481958</td>\n",
              "      <td id=\"T_38982_row24_col26\" class=\"data row24 col26\" >-0.607292</td>\n",
              "      <td id=\"T_38982_row24_col27\" class=\"data row24 col27\" >-0.139534</td>\n",
              "      <td id=\"T_38982_row24_col28\" class=\"data row24 col28\" >0.216320</td>\n",
              "      <td id=\"T_38982_row24_col29\" class=\"data row24 col29\" >-0.381651</td>\n",
              "      <td id=\"T_38982_row24_col30\" class=\"data row24 col30\" >-0.117195</td>\n",
              "      <td id=\"T_38982_row24_col31\" class=\"data row24 col31\" >-0.042409</td>\n",
              "      <td id=\"T_38982_row24_col32\" class=\"data row24 col32\" >0.074115</td>\n",
              "      <td id=\"T_38982_row24_col33\" class=\"data row24 col33\" >0.107079</td>\n",
              "      <td id=\"T_38982_row24_col34\" class=\"data row24 col34\" >-0.025601</td>\n",
              "      <td id=\"T_38982_row24_col35\" class=\"data row24 col35\" >-0.333394</td>\n",
              "    </tr>\n",
              "    <tr>\n",
              "      <th id=\"T_38982_level0_row25\" class=\"row_heading level0 row25\" >koi_steff_err1</th>\n",
              "      <td id=\"T_38982_row25_col0\" class=\"data row25 col0\" >-0.372432</td>\n",
              "      <td id=\"T_38982_row25_col1\" class=\"data row25 col1\" >0.138399</td>\n",
              "      <td id=\"T_38982_row25_col2\" class=\"data row25 col2\" >0.204430</td>\n",
              "      <td id=\"T_38982_row25_col3\" class=\"data row25 col3\" >0.145679</td>\n",
              "      <td id=\"T_38982_row25_col4\" class=\"data row25 col4\" >0.111690</td>\n",
              "      <td id=\"T_38982_row25_col5\" class=\"data row25 col5\" >0.005325</td>\n",
              "      <td id=\"T_38982_row25_col6\" class=\"data row25 col6\" >0.080781</td>\n",
              "      <td id=\"T_38982_row25_col7\" class=\"data row25 col7\" >-0.080781</td>\n",
              "      <td id=\"T_38982_row25_col8\" class=\"data row25 col8\" >0.025403</td>\n",
              "      <td id=\"T_38982_row25_col9\" class=\"data row25 col9\" >0.047260</td>\n",
              "      <td id=\"T_38982_row25_col10\" class=\"data row25 col10\" >0.068292</td>\n",
              "      <td id=\"T_38982_row25_col11\" class=\"data row25 col11\" >0.089239</td>\n",
              "      <td id=\"T_38982_row25_col12\" class=\"data row25 col12\" >-0.089239</td>\n",
              "      <td id=\"T_38982_row25_col13\" class=\"data row25 col13\" >0.149237</td>\n",
              "      <td id=\"T_38982_row25_col14\" class=\"data row25 col14\" >0.017575</td>\n",
              "      <td id=\"T_38982_row25_col15\" class=\"data row25 col15\" >-0.017575</td>\n",
              "      <td id=\"T_38982_row25_col16\" class=\"data row25 col16\" >-0.019486</td>\n",
              "      <td id=\"T_38982_row25_col17\" class=\"data row25 col17\" >-0.007842</td>\n",
              "      <td id=\"T_38982_row25_col18\" class=\"data row25 col18\" >0.020206</td>\n",
              "      <td id=\"T_38982_row25_col19\" class=\"data row25 col19\" >0.125064</td>\n",
              "      <td id=\"T_38982_row25_col20\" class=\"data row25 col20\" >-0.015062</td>\n",
              "      <td id=\"T_38982_row25_col21\" class=\"data row25 col21\" >0.026438</td>\n",
              "      <td id=\"T_38982_row25_col22\" class=\"data row25 col22\" >0.113173</td>\n",
              "      <td id=\"T_38982_row25_col23\" class=\"data row25 col23\" >-0.153837</td>\n",
              "      <td id=\"T_38982_row25_col24\" class=\"data row25 col24\" >0.481958</td>\n",
              "      <td id=\"T_38982_row25_col25\" class=\"data row25 col25\" >1.000000</td>\n",
              "      <td id=\"T_38982_row25_col26\" class=\"data row25 col26\" >-0.824761</td>\n",
              "      <td id=\"T_38982_row25_col27\" class=\"data row25 col27\" >0.065907</td>\n",
              "      <td id=\"T_38982_row25_col28\" class=\"data row25 col28\" >0.206733</td>\n",
              "      <td id=\"T_38982_row25_col29\" class=\"data row25 col29\" >-0.448838</td>\n",
              "      <td id=\"T_38982_row25_col30\" class=\"data row25 col30\" >-0.090178</td>\n",
              "      <td id=\"T_38982_row25_col31\" class=\"data row25 col31\" >0.011252</td>\n",
              "      <td id=\"T_38982_row25_col32\" class=\"data row25 col32\" >0.046087</td>\n",
              "      <td id=\"T_38982_row25_col33\" class=\"data row25 col33\" >0.139307</td>\n",
              "      <td id=\"T_38982_row25_col34\" class=\"data row25 col34\" >-0.009717</td>\n",
              "      <td id=\"T_38982_row25_col35\" class=\"data row25 col35\" >0.061416</td>\n",
              "    </tr>\n",
              "    <tr>\n",
              "      <th id=\"T_38982_level0_row26\" class=\"row_heading level0 row26\" >koi_steff_err2</th>\n",
              "      <td id=\"T_38982_row26_col0\" class=\"data row26 col0\" >0.333595</td>\n",
              "      <td id=\"T_38982_row26_col1\" class=\"data row26 col1\" >-0.155697</td>\n",
              "      <td id=\"T_38982_row26_col2\" class=\"data row26 col2\" >-0.172346</td>\n",
              "      <td id=\"T_38982_row26_col3\" class=\"data row26 col3\" >-0.111144</td>\n",
              "      <td id=\"T_38982_row26_col4\" class=\"data row26 col4\" >-0.077628</td>\n",
              "      <td id=\"T_38982_row26_col5\" class=\"data row26 col5\" >0.003194</td>\n",
              "      <td id=\"T_38982_row26_col6\" class=\"data row26 col6\" >-0.059013</td>\n",
              "      <td id=\"T_38982_row26_col7\" class=\"data row26 col7\" >0.059013</td>\n",
              "      <td id=\"T_38982_row26_col8\" class=\"data row26 col8\" >-0.039143</td>\n",
              "      <td id=\"T_38982_row26_col9\" class=\"data row26 col9\" >-0.036202</td>\n",
              "      <td id=\"T_38982_row26_col10\" class=\"data row26 col10\" >-0.069682</td>\n",
              "      <td id=\"T_38982_row26_col11\" class=\"data row26 col11\" >-0.084747</td>\n",
              "      <td id=\"T_38982_row26_col12\" class=\"data row26 col12\" >0.084747</td>\n",
              "      <td id=\"T_38982_row26_col13\" class=\"data row26 col13\" >-0.136703</td>\n",
              "      <td id=\"T_38982_row26_col14\" class=\"data row26 col14\" >-0.009080</td>\n",
              "      <td id=\"T_38982_row26_col15\" class=\"data row26 col15\" >0.009080</td>\n",
              "      <td id=\"T_38982_row26_col16\" class=\"data row26 col16\" >-0.020881</td>\n",
              "      <td id=\"T_38982_row26_col17\" class=\"data row26 col17\" >-0.019049</td>\n",
              "      <td id=\"T_38982_row26_col18\" class=\"data row26 col18\" >0.020588</td>\n",
              "      <td id=\"T_38982_row26_col19\" class=\"data row26 col19\" >-0.211109</td>\n",
              "      <td id=\"T_38982_row26_col20\" class=\"data row26 col20\" >-0.005667</td>\n",
              "      <td id=\"T_38982_row26_col21\" class=\"data row26 col21\" >-0.002594</td>\n",
              "      <td id=\"T_38982_row26_col22\" class=\"data row26 col22\" >-0.115150</td>\n",
              "      <td id=\"T_38982_row26_col23\" class=\"data row26 col23\" >0.132981</td>\n",
              "      <td id=\"T_38982_row26_col24\" class=\"data row26 col24\" >-0.607292</td>\n",
              "      <td id=\"T_38982_row26_col25\" class=\"data row26 col25\" >-0.824761</td>\n",
              "      <td id=\"T_38982_row26_col26\" class=\"data row26 col26\" >1.000000</td>\n",
              "      <td id=\"T_38982_row26_col27\" class=\"data row26 col27\" >0.076439</td>\n",
              "      <td id=\"T_38982_row26_col28\" class=\"data row26 col28\" >-0.155751</td>\n",
              "      <td id=\"T_38982_row26_col29\" class=\"data row26 col29\" >0.392455</td>\n",
              "      <td id=\"T_38982_row26_col30\" class=\"data row26 col30\" >0.021225</td>\n",
              "      <td id=\"T_38982_row26_col31\" class=\"data row26 col31\" >-0.054084</td>\n",
              "      <td id=\"T_38982_row26_col32\" class=\"data row26 col32\" >0.018739</td>\n",
              "      <td id=\"T_38982_row26_col33\" class=\"data row26 col33\" >-0.128782</td>\n",
              "      <td id=\"T_38982_row26_col34\" class=\"data row26 col34\" >0.006158</td>\n",
              "      <td id=\"T_38982_row26_col35\" class=\"data row26 col35\" >0.068910</td>\n",
              "    </tr>\n",
              "    <tr>\n",
              "      <th id=\"T_38982_level0_row27\" class=\"row_heading level0 row27\" >koi_slogg</th>\n",
              "      <td id=\"T_38982_row27_col0\" class=\"data row27 col0\" >0.150017</td>\n",
              "      <td id=\"T_38982_row27_col1\" class=\"data row27 col1\" >-0.120439</td>\n",
              "      <td id=\"T_38982_row27_col2\" class=\"data row27 col2\" >-0.049751</td>\n",
              "      <td id=\"T_38982_row27_col3\" class=\"data row27 col3\" >-0.010835</td>\n",
              "      <td id=\"T_38982_row27_col4\" class=\"data row27 col4\" >0.002190</td>\n",
              "      <td id=\"T_38982_row27_col5\" class=\"data row27 col5\" >0.001877</td>\n",
              "      <td id=\"T_38982_row27_col6\" class=\"data row27 col6\" >-0.006311</td>\n",
              "      <td id=\"T_38982_row27_col7\" class=\"data row27 col7\" >0.006311</td>\n",
              "      <td id=\"T_38982_row27_col8\" class=\"data row27 col8\" >-0.059275</td>\n",
              "      <td id=\"T_38982_row27_col9\" class=\"data row27 col9\" >0.006990</td>\n",
              "      <td id=\"T_38982_row27_col10\" class=\"data row27 col10\" >-0.122239</td>\n",
              "      <td id=\"T_38982_row27_col11\" class=\"data row27 col11\" >-0.045687</td>\n",
              "      <td id=\"T_38982_row27_col12\" class=\"data row27 col12\" >0.045687</td>\n",
              "      <td id=\"T_38982_row27_col13\" class=\"data row27 col13\" >-0.008365</td>\n",
              "      <td id=\"T_38982_row27_col14\" class=\"data row27 col14\" >0.008312</td>\n",
              "      <td id=\"T_38982_row27_col15\" class=\"data row27 col15\" >-0.008312</td>\n",
              "      <td id=\"T_38982_row27_col16\" class=\"data row27 col16\" >-0.097329</td>\n",
              "      <td id=\"T_38982_row27_col17\" class=\"data row27 col17\" >-0.095306</td>\n",
              "      <td id=\"T_38982_row27_col18\" class=\"data row27 col18\" >0.093778</td>\n",
              "      <td id=\"T_38982_row27_col19\" class=\"data row27 col19\" >-0.527374</td>\n",
              "      <td id=\"T_38982_row27_col20\" class=\"data row27 col20\" >-0.322647</td>\n",
              "      <td id=\"T_38982_row27_col21\" class=\"data row27 col21\" >0.265902</td>\n",
              "      <td id=\"T_38982_row27_col22\" class=\"data row27 col22\" >-0.045613</td>\n",
              "      <td id=\"T_38982_row27_col23\" class=\"data row27 col23\" >0.034286</td>\n",
              "      <td id=\"T_38982_row27_col24\" class=\"data row27 col24\" >-0.139534</td>\n",
              "      <td id=\"T_38982_row27_col25\" class=\"data row27 col25\" >0.065907</td>\n",
              "      <td id=\"T_38982_row27_col26\" class=\"data row27 col26\" >0.076439</td>\n",
              "      <td id=\"T_38982_row27_col27\" class=\"data row27 col27\" >1.000000</td>\n",
              "      <td id=\"T_38982_row27_col28\" class=\"data row27 col28\" >-0.480194</td>\n",
              "      <td id=\"T_38982_row27_col29\" class=\"data row27 col29\" >0.024889</td>\n",
              "      <td id=\"T_38982_row27_col30\" class=\"data row27 col30\" >-0.639253</td>\n",
              "      <td id=\"T_38982_row27_col31\" class=\"data row27 col31\" >-0.626469</td>\n",
              "      <td id=\"T_38982_row27_col32\" class=\"data row27 col32\" >0.537272</td>\n",
              "      <td id=\"T_38982_row27_col33\" class=\"data row27 col33\" >-0.081565</td>\n",
              "      <td id=\"T_38982_row27_col34\" class=\"data row27 col34\" >0.051178</td>\n",
              "      <td id=\"T_38982_row27_col35\" class=\"data row27 col35\" >0.474307</td>\n",
              "    </tr>\n",
              "    <tr>\n",
              "      <th id=\"T_38982_level0_row28\" class=\"row_heading level0 row28\" >koi_slogg_err1</th>\n",
              "      <td id=\"T_38982_row28_col0\" class=\"data row28 col0\" >-0.164267</td>\n",
              "      <td id=\"T_38982_row28_col1\" class=\"data row28 col1\" >0.063078</td>\n",
              "      <td id=\"T_38982_row28_col2\" class=\"data row28 col2\" >0.114855</td>\n",
              "      <td id=\"T_38982_row28_col3\" class=\"data row28 col3\" >-0.016324</td>\n",
              "      <td id=\"T_38982_row28_col4\" class=\"data row28 col4\" >-0.005519</td>\n",
              "      <td id=\"T_38982_row28_col5\" class=\"data row28 col5\" >-0.006466</td>\n",
              "      <td id=\"T_38982_row28_col6\" class=\"data row28 col6\" >0.005143</td>\n",
              "      <td id=\"T_38982_row28_col7\" class=\"data row28 col7\" >-0.005143</td>\n",
              "      <td id=\"T_38982_row28_col8\" class=\"data row28 col8\" >0.010622</td>\n",
              "      <td id=\"T_38982_row28_col9\" class=\"data row28 col9\" >0.007949</td>\n",
              "      <td id=\"T_38982_row28_col10\" class=\"data row28 col10\" >0.101232</td>\n",
              "      <td id=\"T_38982_row28_col11\" class=\"data row28 col11\" >0.024178</td>\n",
              "      <td id=\"T_38982_row28_col12\" class=\"data row28 col12\" >-0.024178</td>\n",
              "      <td id=\"T_38982_row28_col13\" class=\"data row28 col13\" >0.105977</td>\n",
              "      <td id=\"T_38982_row28_col14\" class=\"data row28 col14\" >-0.006439</td>\n",
              "      <td id=\"T_38982_row28_col15\" class=\"data row28 col15\" >0.006439</td>\n",
              "      <td id=\"T_38982_row28_col16\" class=\"data row28 col16\" >-0.002666</td>\n",
              "      <td id=\"T_38982_row28_col17\" class=\"data row28 col17\" >0.021109</td>\n",
              "      <td id=\"T_38982_row28_col18\" class=\"data row28 col18\" >-0.000419</td>\n",
              "      <td id=\"T_38982_row28_col19\" class=\"data row28 col19\" >0.260926</td>\n",
              "      <td id=\"T_38982_row28_col20\" class=\"data row28 col20\" >0.041467</td>\n",
              "      <td id=\"T_38982_row28_col21\" class=\"data row28 col21\" >-0.031848</td>\n",
              "      <td id=\"T_38982_row28_col22\" class=\"data row28 col22\" >0.118025</td>\n",
              "      <td id=\"T_38982_row28_col23\" class=\"data row28 col23\" >-0.036911</td>\n",
              "      <td id=\"T_38982_row28_col24\" class=\"data row28 col24\" >0.216320</td>\n",
              "      <td id=\"T_38982_row28_col25\" class=\"data row28 col25\" >0.206733</td>\n",
              "      <td id=\"T_38982_row28_col26\" class=\"data row28 col26\" >-0.155751</td>\n",
              "      <td id=\"T_38982_row28_col27\" class=\"data row28 col27\" >-0.480194</td>\n",
              "      <td id=\"T_38982_row28_col28\" class=\"data row28 col28\" >1.000000</td>\n",
              "      <td id=\"T_38982_row28_col29\" class=\"data row28 col29\" >-0.228115</td>\n",
              "      <td id=\"T_38982_row28_col30\" class=\"data row28 col30\" >0.079555</td>\n",
              "      <td id=\"T_38982_row28_col31\" class=\"data row28 col31\" >0.202477</td>\n",
              "      <td id=\"T_38982_row28_col32\" class=\"data row28 col32\" >-0.168746</td>\n",
              "      <td id=\"T_38982_row28_col33\" class=\"data row28 col33\" >0.085926</td>\n",
              "      <td id=\"T_38982_row28_col34\" class=\"data row28 col34\" >-0.028740</td>\n",
              "      <td id=\"T_38982_row28_col35\" class=\"data row28 col35\" >-0.335159</td>\n",
              "    </tr>\n",
              "    <tr>\n",
              "      <th id=\"T_38982_level0_row29\" class=\"row_heading level0 row29\" >koi_slogg_err2</th>\n",
              "      <td id=\"T_38982_row29_col0\" class=\"data row29 col0\" >0.228382</td>\n",
              "      <td id=\"T_38982_row29_col1\" class=\"data row29 col1\" >-0.171242</td>\n",
              "      <td id=\"T_38982_row29_col2\" class=\"data row29 col2\" >-0.044848</td>\n",
              "      <td id=\"T_38982_row29_col3\" class=\"data row29 col3\" >-0.046994</td>\n",
              "      <td id=\"T_38982_row29_col4\" class=\"data row29 col4\" >-0.036241</td>\n",
              "      <td id=\"T_38982_row29_col5\" class=\"data row29 col5\" >-0.003180</td>\n",
              "      <td id=\"T_38982_row29_col6\" class=\"data row29 col6\" >-0.186678</td>\n",
              "      <td id=\"T_38982_row29_col7\" class=\"data row29 col7\" >0.186678</td>\n",
              "      <td id=\"T_38982_row29_col8\" class=\"data row29 col8\" >0.000479</td>\n",
              "      <td id=\"T_38982_row29_col9\" class=\"data row29 col9\" >-0.008021</td>\n",
              "      <td id=\"T_38982_row29_col10\" class=\"data row29 col10\" >-0.090946</td>\n",
              "      <td id=\"T_38982_row29_col11\" class=\"data row29 col11\" >-0.160885</td>\n",
              "      <td id=\"T_38982_row29_col12\" class=\"data row29 col12\" >0.160885</td>\n",
              "      <td id=\"T_38982_row29_col13\" class=\"data row29 col13\" >-0.017885</td>\n",
              "      <td id=\"T_38982_row29_col14\" class=\"data row29 col14\" >0.014087</td>\n",
              "      <td id=\"T_38982_row29_col15\" class=\"data row29 col15\" >-0.014087</td>\n",
              "      <td id=\"T_38982_row29_col16\" class=\"data row29 col16\" >0.018033</td>\n",
              "      <td id=\"T_38982_row29_col17\" class=\"data row29 col17\" >-0.014101</td>\n",
              "      <td id=\"T_38982_row29_col18\" class=\"data row29 col18\" >-0.017066</td>\n",
              "      <td id=\"T_38982_row29_col19\" class=\"data row29 col19\" >0.000048</td>\n",
              "      <td id=\"T_38982_row29_col20\" class=\"data row29 col20\" >0.012328</td>\n",
              "      <td id=\"T_38982_row29_col21\" class=\"data row29 col21\" >-0.022637</td>\n",
              "      <td id=\"T_38982_row29_col22\" class=\"data row29 col22\" >-0.022571</td>\n",
              "      <td id=\"T_38982_row29_col23\" class=\"data row29 col23\" >0.115522</td>\n",
              "      <td id=\"T_38982_row29_col24\" class=\"data row29 col24\" >-0.381651</td>\n",
              "      <td id=\"T_38982_row29_col25\" class=\"data row29 col25\" >-0.448838</td>\n",
              "      <td id=\"T_38982_row29_col26\" class=\"data row29 col26\" >0.392455</td>\n",
              "      <td id=\"T_38982_row29_col27\" class=\"data row29 col27\" >0.024889</td>\n",
              "      <td id=\"T_38982_row29_col28\" class=\"data row29 col28\" >-0.228115</td>\n",
              "      <td id=\"T_38982_row29_col29\" class=\"data row29 col29\" >1.000000</td>\n",
              "      <td id=\"T_38982_row29_col30\" class=\"data row29 col30\" >0.047322</td>\n",
              "      <td id=\"T_38982_row29_col31\" class=\"data row29 col31\" >-0.155349</td>\n",
              "      <td id=\"T_38982_row29_col32\" class=\"data row29 col32\" >-0.007646</td>\n",
              "      <td id=\"T_38982_row29_col33\" class=\"data row29 col33\" >-0.067812</td>\n",
              "      <td id=\"T_38982_row29_col34\" class=\"data row29 col34\" >-0.020523</td>\n",
              "      <td id=\"T_38982_row29_col35\" class=\"data row29 col35\" >-0.015315</td>\n",
              "    </tr>\n",
              "    <tr>\n",
              "      <th id=\"T_38982_level0_row30\" class=\"row_heading level0 row30\" >koi_srad</th>\n",
              "      <td id=\"T_38982_row30_col0\" class=\"data row30 col0\" >-0.071767</td>\n",
              "      <td id=\"T_38982_row30_col1\" class=\"data row30 col1\" >0.034619</td>\n",
              "      <td id=\"T_38982_row30_col2\" class=\"data row30 col2\" >0.031932</td>\n",
              "      <td id=\"T_38982_row30_col3\" class=\"data row30 col3\" >0.036803</td>\n",
              "      <td id=\"T_38982_row30_col4\" class=\"data row30 col4\" >0.019274</td>\n",
              "      <td id=\"T_38982_row30_col5\" class=\"data row30 col5\" >-0.000993</td>\n",
              "      <td id=\"T_38982_row30_col6\" class=\"data row30 col6\" >0.005900</td>\n",
              "      <td id=\"T_38982_row30_col7\" class=\"data row30 col7\" >-0.005900</td>\n",
              "      <td id=\"T_38982_row30_col8\" class=\"data row30 col8\" >0.022645</td>\n",
              "      <td id=\"T_38982_row30_col9\" class=\"data row30 col9\" >0.005847</td>\n",
              "      <td id=\"T_38982_row30_col10\" class=\"data row30 col10\" >0.013675</td>\n",
              "      <td id=\"T_38982_row30_col11\" class=\"data row30 col11\" >0.025427</td>\n",
              "      <td id=\"T_38982_row30_col12\" class=\"data row30 col12\" >-0.025427</td>\n",
              "      <td id=\"T_38982_row30_col13\" class=\"data row30 col13\" >-0.016826</td>\n",
              "      <td id=\"T_38982_row30_col14\" class=\"data row30 col14\" >-0.002444</td>\n",
              "      <td id=\"T_38982_row30_col15\" class=\"data row30 col15\" >0.002444</td>\n",
              "      <td id=\"T_38982_row30_col16\" class=\"data row30 col16\" >0.056669</td>\n",
              "      <td id=\"T_38982_row30_col17\" class=\"data row30 col17\" >0.044957</td>\n",
              "      <td id=\"T_38982_row30_col18\" class=\"data row30 col18\" >-0.052330</td>\n",
              "      <td id=\"T_38982_row30_col19\" class=\"data row30 col19\" >0.439855</td>\n",
              "      <td id=\"T_38982_row30_col20\" class=\"data row30 col20\" >0.508532</td>\n",
              "      <td id=\"T_38982_row30_col21\" class=\"data row30 col21\" >-0.517583</td>\n",
              "      <td id=\"T_38982_row30_col22\" class=\"data row30 col22\" >-0.010111</td>\n",
              "      <td id=\"T_38982_row30_col23\" class=\"data row30 col23\" >0.003936</td>\n",
              "      <td id=\"T_38982_row30_col24\" class=\"data row30 col24\" >-0.117195</td>\n",
              "      <td id=\"T_38982_row30_col25\" class=\"data row30 col25\" >-0.090178</td>\n",
              "      <td id=\"T_38982_row30_col26\" class=\"data row30 col26\" >0.021225</td>\n",
              "      <td id=\"T_38982_row30_col27\" class=\"data row30 col27\" >-0.639253</td>\n",
              "      <td id=\"T_38982_row30_col28\" class=\"data row30 col28\" >0.079555</td>\n",
              "      <td id=\"T_38982_row30_col29\" class=\"data row30 col29\" >0.047322</td>\n",
              "      <td id=\"T_38982_row30_col30\" class=\"data row30 col30\" >1.000000</td>\n",
              "      <td id=\"T_38982_row30_col31\" class=\"data row30 col31\" >0.749843</td>\n",
              "      <td id=\"T_38982_row30_col32\" class=\"data row30 col32\" >-0.873577</td>\n",
              "      <td id=\"T_38982_row30_col33\" class=\"data row30 col33\" >0.046028</td>\n",
              "      <td id=\"T_38982_row30_col34\" class=\"data row30 col34\" >-0.028442</td>\n",
              "      <td id=\"T_38982_row30_col35\" class=\"data row30 col35\" >-0.171584</td>\n",
              "    </tr>\n",
              "    <tr>\n",
              "      <th id=\"T_38982_level0_row31\" class=\"row_heading level0 row31\" >koi_srad_err1</th>\n",
              "      <td id=\"T_38982_row31_col0\" class=\"data row31 col0\" >-0.117010</td>\n",
              "      <td id=\"T_38982_row31_col1\" class=\"data row31 col1\" >0.087934</td>\n",
              "      <td id=\"T_38982_row31_col2\" class=\"data row31 col2\" >0.036423</td>\n",
              "      <td id=\"T_38982_row31_col3\" class=\"data row31 col3\" >0.029254</td>\n",
              "      <td id=\"T_38982_row31_col4\" class=\"data row31 col4\" >0.026714</td>\n",
              "      <td id=\"T_38982_row31_col5\" class=\"data row31 col5\" >-0.000435</td>\n",
              "      <td id=\"T_38982_row31_col6\" class=\"data row31 col6\" >0.032554</td>\n",
              "      <td id=\"T_38982_row31_col7\" class=\"data row31 col7\" >-0.032554</td>\n",
              "      <td id=\"T_38982_row31_col8\" class=\"data row31 col8\" >0.021761</td>\n",
              "      <td id=\"T_38982_row31_col9\" class=\"data row31 col9\" >0.003378</td>\n",
              "      <td id=\"T_38982_row31_col10\" class=\"data row31 col10\" >0.049342</td>\n",
              "      <td id=\"T_38982_row31_col11\" class=\"data row31 col11\" >0.061000</td>\n",
              "      <td id=\"T_38982_row31_col12\" class=\"data row31 col12\" >-0.061000</td>\n",
              "      <td id=\"T_38982_row31_col13\" class=\"data row31 col13\" >-0.004059</td>\n",
              "      <td id=\"T_38982_row31_col14\" class=\"data row31 col14\" >0.000358</td>\n",
              "      <td id=\"T_38982_row31_col15\" class=\"data row31 col15\" >-0.000358</td>\n",
              "      <td id=\"T_38982_row31_col16\" class=\"data row31 col16\" >0.035655</td>\n",
              "      <td id=\"T_38982_row31_col17\" class=\"data row31 col17\" >0.060506</td>\n",
              "      <td id=\"T_38982_row31_col18\" class=\"data row31 col18\" >-0.031042</td>\n",
              "      <td id=\"T_38982_row31_col19\" class=\"data row31 col19\" >0.410367</td>\n",
              "      <td id=\"T_38982_row31_col20\" class=\"data row31 col20\" >0.478917</td>\n",
              "      <td id=\"T_38982_row31_col21\" class=\"data row31 col21\" >-0.332329</td>\n",
              "      <td id=\"T_38982_row31_col22\" class=\"data row31 col22\" >0.001225</td>\n",
              "      <td id=\"T_38982_row31_col23\" class=\"data row31 col23\" >-0.013439</td>\n",
              "      <td id=\"T_38982_row31_col24\" class=\"data row31 col24\" >-0.042409</td>\n",
              "      <td id=\"T_38982_row31_col25\" class=\"data row31 col25\" >0.011252</td>\n",
              "      <td id=\"T_38982_row31_col26\" class=\"data row31 col26\" >-0.054084</td>\n",
              "      <td id=\"T_38982_row31_col27\" class=\"data row31 col27\" >-0.626469</td>\n",
              "      <td id=\"T_38982_row31_col28\" class=\"data row31 col28\" >0.202477</td>\n",
              "      <td id=\"T_38982_row31_col29\" class=\"data row31 col29\" >-0.155349</td>\n",
              "      <td id=\"T_38982_row31_col30\" class=\"data row31 col30\" >0.749843</td>\n",
              "      <td id=\"T_38982_row31_col31\" class=\"data row31 col31\" >1.000000</td>\n",
              "      <td id=\"T_38982_row31_col32\" class=\"data row31 col32\" >-0.653038</td>\n",
              "      <td id=\"T_38982_row31_col33\" class=\"data row31 col33\" >0.058097</td>\n",
              "      <td id=\"T_38982_row31_col34\" class=\"data row31 col34\" >-0.029042</td>\n",
              "      <td id=\"T_38982_row31_col35\" class=\"data row31 col35\" >-0.203892</td>\n",
              "    </tr>\n",
              "    <tr>\n",
              "      <th id=\"T_38982_level0_row32\" class=\"row_heading level0 row32\" >koi_srad_err2</th>\n",
              "      <td id=\"T_38982_row32_col0\" class=\"data row32 col0\" >0.075529</td>\n",
              "      <td id=\"T_38982_row32_col1\" class=\"data row32 col1\" >-0.043843</td>\n",
              "      <td id=\"T_38982_row32_col2\" class=\"data row32 col2\" >-0.031198</td>\n",
              "      <td id=\"T_38982_row32_col3\" class=\"data row32 col3\" >-0.028215</td>\n",
              "      <td id=\"T_38982_row32_col4\" class=\"data row32 col4\" >-0.010055</td>\n",
              "      <td id=\"T_38982_row32_col5\" class=\"data row32 col5\" >0.001556</td>\n",
              "      <td id=\"T_38982_row32_col6\" class=\"data row32 col6\" >-0.002373</td>\n",
              "      <td id=\"T_38982_row32_col7\" class=\"data row32 col7\" >0.002373</td>\n",
              "      <td id=\"T_38982_row32_col8\" class=\"data row32 col8\" >-0.029131</td>\n",
              "      <td id=\"T_38982_row32_col9\" class=\"data row32 col9\" >-0.006546</td>\n",
              "      <td id=\"T_38982_row32_col10\" class=\"data row32 col10\" >-0.017941</td>\n",
              "      <td id=\"T_38982_row32_col11\" class=\"data row32 col11\" >-0.032211</td>\n",
              "      <td id=\"T_38982_row32_col12\" class=\"data row32 col12\" >0.032211</td>\n",
              "      <td id=\"T_38982_row32_col13\" class=\"data row32 col13\" >0.002431</td>\n",
              "      <td id=\"T_38982_row32_col14\" class=\"data row32 col14\" >0.001900</td>\n",
              "      <td id=\"T_38982_row32_col15\" class=\"data row32 col15\" >-0.001900</td>\n",
              "      <td id=\"T_38982_row32_col16\" class=\"data row32 col16\" >-0.060269</td>\n",
              "      <td id=\"T_38982_row32_col17\" class=\"data row32 col17\" >-0.046588</td>\n",
              "      <td id=\"T_38982_row32_col18\" class=\"data row32 col18\" >0.060403</td>\n",
              "      <td id=\"T_38982_row32_col19\" class=\"data row32 col19\" >-0.392145</td>\n",
              "      <td id=\"T_38982_row32_col20\" class=\"data row32 col20\" >-0.414967</td>\n",
              "      <td id=\"T_38982_row32_col21\" class=\"data row32 col21\" >0.513084</td>\n",
              "      <td id=\"T_38982_row32_col22\" class=\"data row32 col22\" >-0.002204</td>\n",
              "      <td id=\"T_38982_row32_col23\" class=\"data row32 col23\" >-0.022958</td>\n",
              "      <td id=\"T_38982_row32_col24\" class=\"data row32 col24\" >0.074115</td>\n",
              "      <td id=\"T_38982_row32_col25\" class=\"data row32 col25\" >0.046087</td>\n",
              "      <td id=\"T_38982_row32_col26\" class=\"data row32 col26\" >0.018739</td>\n",
              "      <td id=\"T_38982_row32_col27\" class=\"data row32 col27\" >0.537272</td>\n",
              "      <td id=\"T_38982_row32_col28\" class=\"data row32 col28\" >-0.168746</td>\n",
              "      <td id=\"T_38982_row32_col29\" class=\"data row32 col29\" >-0.007646</td>\n",
              "      <td id=\"T_38982_row32_col30\" class=\"data row32 col30\" >-0.873577</td>\n",
              "      <td id=\"T_38982_row32_col31\" class=\"data row32 col31\" >-0.653038</td>\n",
              "      <td id=\"T_38982_row32_col32\" class=\"data row32 col32\" >1.000000</td>\n",
              "      <td id=\"T_38982_row32_col33\" class=\"data row32 col33\" >-0.050524</td>\n",
              "      <td id=\"T_38982_row32_col34\" class=\"data row32 col34\" >0.025699</td>\n",
              "      <td id=\"T_38982_row32_col35\" class=\"data row32 col35\" >0.156820</td>\n",
              "    </tr>\n",
              "    <tr>\n",
              "      <th id=\"T_38982_level0_row33\" class=\"row_heading level0 row33\" >ra</th>\n",
              "      <td id=\"T_38982_row33_col0\" class=\"data row33 col0\" >-0.168666</td>\n",
              "      <td id=\"T_38982_row33_col1\" class=\"data row33 col1\" >0.006800</td>\n",
              "      <td id=\"T_38982_row33_col2\" class=\"data row33 col2\" >0.085946</td>\n",
              "      <td id=\"T_38982_row33_col3\" class=\"data row33 col3\" >0.156078</td>\n",
              "      <td id=\"T_38982_row33_col4\" class=\"data row33 col4\" >0.070002</td>\n",
              "      <td id=\"T_38982_row33_col5\" class=\"data row33 col5\" >0.005670</td>\n",
              "      <td id=\"T_38982_row33_col6\" class=\"data row33 col6\" >-0.032095</td>\n",
              "      <td id=\"T_38982_row33_col7\" class=\"data row33 col7\" >0.032095</td>\n",
              "      <td id=\"T_38982_row33_col8\" class=\"data row33 col8\" >0.022464</td>\n",
              "      <td id=\"T_38982_row33_col9\" class=\"data row33 col9\" >0.025825</td>\n",
              "      <td id=\"T_38982_row33_col10\" class=\"data row33 col10\" >0.030927</td>\n",
              "      <td id=\"T_38982_row33_col11\" class=\"data row33 col11\" >0.002820</td>\n",
              "      <td id=\"T_38982_row33_col12\" class=\"data row33 col12\" >-0.002820</td>\n",
              "      <td id=\"T_38982_row33_col13\" class=\"data row33 col13\" >0.028558</td>\n",
              "      <td id=\"T_38982_row33_col14\" class=\"data row33 col14\" >0.011381</td>\n",
              "      <td id=\"T_38982_row33_col15\" class=\"data row33 col15\" >-0.011381</td>\n",
              "      <td id=\"T_38982_row33_col16\" class=\"data row33 col16\" >0.008716</td>\n",
              "      <td id=\"T_38982_row33_col17\" class=\"data row33 col17\" >0.011929</td>\n",
              "      <td id=\"T_38982_row33_col18\" class=\"data row33 col18\" >-0.009293</td>\n",
              "      <td id=\"T_38982_row33_col19\" class=\"data row33 col19\" >0.119479</td>\n",
              "      <td id=\"T_38982_row33_col20\" class=\"data row33 col20\" >0.027288</td>\n",
              "      <td id=\"T_38982_row33_col21\" class=\"data row33 col21\" >-0.027574</td>\n",
              "      <td id=\"T_38982_row33_col22\" class=\"data row33 col22\" >0.038810</td>\n",
              "      <td id=\"T_38982_row33_col23\" class=\"data row33 col23\" >-0.039501</td>\n",
              "      <td id=\"T_38982_row33_col24\" class=\"data row33 col24\" >0.107079</td>\n",
              "      <td id=\"T_38982_row33_col25\" class=\"data row33 col25\" >0.139307</td>\n",
              "      <td id=\"T_38982_row33_col26\" class=\"data row33 col26\" >-0.128782</td>\n",
              "      <td id=\"T_38982_row33_col27\" class=\"data row33 col27\" >-0.081565</td>\n",
              "      <td id=\"T_38982_row33_col28\" class=\"data row33 col28\" >0.085926</td>\n",
              "      <td id=\"T_38982_row33_col29\" class=\"data row33 col29\" >-0.067812</td>\n",
              "      <td id=\"T_38982_row33_col30\" class=\"data row33 col30\" >0.046028</td>\n",
              "      <td id=\"T_38982_row33_col31\" class=\"data row33 col31\" >0.058097</td>\n",
              "      <td id=\"T_38982_row33_col32\" class=\"data row33 col32\" >-0.050524</td>\n",
              "      <td id=\"T_38982_row33_col33\" class=\"data row33 col33\" >1.000000</td>\n",
              "      <td id=\"T_38982_row33_col34\" class=\"data row33 col34\" >-0.014373</td>\n",
              "      <td id=\"T_38982_row33_col35\" class=\"data row33 col35\" >0.005597</td>\n",
              "    </tr>\n",
              "    <tr>\n",
              "      <th id=\"T_38982_level0_row34\" class=\"row_heading level0 row34\" >dec</th>\n",
              "      <td id=\"T_38982_row34_col0\" class=\"data row34 col0\" >0.094944</td>\n",
              "      <td id=\"T_38982_row34_col1\" class=\"data row34 col1\" >-0.038695</td>\n",
              "      <td id=\"T_38982_row34_col2\" class=\"data row34 col2\" >-0.047653</td>\n",
              "      <td id=\"T_38982_row34_col3\" class=\"data row34 col3\" >-0.098131</td>\n",
              "      <td id=\"T_38982_row34_col4\" class=\"data row34 col4\" >-0.045339</td>\n",
              "      <td id=\"T_38982_row34_col5\" class=\"data row34 col5\" >0.011479</td>\n",
              "      <td id=\"T_38982_row34_col6\" class=\"data row34 col6\" >0.009384</td>\n",
              "      <td id=\"T_38982_row34_col7\" class=\"data row34 col7\" >-0.009384</td>\n",
              "      <td id=\"T_38982_row34_col8\" class=\"data row34 col8\" >-0.001804</td>\n",
              "      <td id=\"T_38982_row34_col9\" class=\"data row34 col9\" >-0.032158</td>\n",
              "      <td id=\"T_38982_row34_col10\" class=\"data row34 col10\" >-0.028101</td>\n",
              "      <td id=\"T_38982_row34_col11\" class=\"data row34 col11\" >-0.016106</td>\n",
              "      <td id=\"T_38982_row34_col12\" class=\"data row34 col12\" >0.016106</td>\n",
              "      <td id=\"T_38982_row34_col13\" class=\"data row34 col13\" >-0.018076</td>\n",
              "      <td id=\"T_38982_row34_col14\" class=\"data row34 col14\" >-0.015923</td>\n",
              "      <td id=\"T_38982_row34_col15\" class=\"data row34 col15\" >0.015923</td>\n",
              "      <td id=\"T_38982_row34_col16\" class=\"data row34 col16\" >0.003037</td>\n",
              "      <td id=\"T_38982_row34_col17\" class=\"data row34 col17\" >0.004986</td>\n",
              "      <td id=\"T_38982_row34_col18\" class=\"data row34 col18\" >-0.003283</td>\n",
              "      <td id=\"T_38982_row34_col19\" class=\"data row34 col19\" >-0.059060</td>\n",
              "      <td id=\"T_38982_row34_col20\" class=\"data row34 col20\" >-0.012333</td>\n",
              "      <td id=\"T_38982_row34_col21\" class=\"data row34 col21\" >0.014541</td>\n",
              "      <td id=\"T_38982_row34_col22\" class=\"data row34 col22\" >-0.001677</td>\n",
              "      <td id=\"T_38982_row34_col23\" class=\"data row34 col23\" >0.022664</td>\n",
              "      <td id=\"T_38982_row34_col24\" class=\"data row34 col24\" >-0.025601</td>\n",
              "      <td id=\"T_38982_row34_col25\" class=\"data row34 col25\" >-0.009717</td>\n",
              "      <td id=\"T_38982_row34_col26\" class=\"data row34 col26\" >0.006158</td>\n",
              "      <td id=\"T_38982_row34_col27\" class=\"data row34 col27\" >0.051178</td>\n",
              "      <td id=\"T_38982_row34_col28\" class=\"data row34 col28\" >-0.028740</td>\n",
              "      <td id=\"T_38982_row34_col29\" class=\"data row34 col29\" >-0.020523</td>\n",
              "      <td id=\"T_38982_row34_col30\" class=\"data row34 col30\" >-0.028442</td>\n",
              "      <td id=\"T_38982_row34_col31\" class=\"data row34 col31\" >-0.029042</td>\n",
              "      <td id=\"T_38982_row34_col32\" class=\"data row34 col32\" >0.025699</td>\n",
              "      <td id=\"T_38982_row34_col33\" class=\"data row34 col33\" >-0.014373</td>\n",
              "      <td id=\"T_38982_row34_col34\" class=\"data row34 col34\" >1.000000</td>\n",
              "      <td id=\"T_38982_row34_col35\" class=\"data row34 col35\" >0.015997</td>\n",
              "    </tr>\n",
              "    <tr>\n",
              "      <th id=\"T_38982_level0_row35\" class=\"row_heading level0 row35\" >koi_kepmag</th>\n",
              "      <td id=\"T_38982_row35_col0\" class=\"data row35 col0\" >0.042112</td>\n",
              "      <td id=\"T_38982_row35_col1\" class=\"data row35 col1\" >-0.103803</td>\n",
              "      <td id=\"T_38982_row35_col2\" class=\"data row35 col2\" >0.020890</td>\n",
              "      <td id=\"T_38982_row35_col3\" class=\"data row35 col3\" >0.064337</td>\n",
              "      <td id=\"T_38982_row35_col4\" class=\"data row35 col4\" >0.038450</td>\n",
              "      <td id=\"T_38982_row35_col5\" class=\"data row35 col5\" >-0.009858</td>\n",
              "      <td id=\"T_38982_row35_col6\" class=\"data row35 col6\" >-0.025989</td>\n",
              "      <td id=\"T_38982_row35_col7\" class=\"data row35 col7\" >0.025989</td>\n",
              "      <td id=\"T_38982_row35_col8\" class=\"data row35 col8\" >-0.009796</td>\n",
              "      <td id=\"T_38982_row35_col9\" class=\"data row35 col9\" >0.050631</td>\n",
              "      <td id=\"T_38982_row35_col10\" class=\"data row35 col10\" >-0.098477</td>\n",
              "      <td id=\"T_38982_row35_col11\" class=\"data row35 col11\" >-0.061397</td>\n",
              "      <td id=\"T_38982_row35_col12\" class=\"data row35 col12\" >0.061397</td>\n",
              "      <td id=\"T_38982_row35_col13\" class=\"data row35 col13\" >0.042709</td>\n",
              "      <td id=\"T_38982_row35_col14\" class=\"data row35 col14\" >0.016817</td>\n",
              "      <td id=\"T_38982_row35_col15\" class=\"data row35 col15\" >-0.016817</td>\n",
              "      <td id=\"T_38982_row35_col16\" class=\"data row35 col16\" >-0.022565</td>\n",
              "      <td id=\"T_38982_row35_col17\" class=\"data row35 col17\" >-0.014800</td>\n",
              "      <td id=\"T_38982_row35_col18\" class=\"data row35 col18\" >0.022811</td>\n",
              "      <td id=\"T_38982_row35_col19\" class=\"data row35 col19\" >-0.257340</td>\n",
              "      <td id=\"T_38982_row35_col20\" class=\"data row35 col20\" >-0.092285</td>\n",
              "      <td id=\"T_38982_row35_col21\" class=\"data row35 col21\" >0.068695</td>\n",
              "      <td id=\"T_38982_row35_col22\" class=\"data row35 col22\" >-0.114525</td>\n",
              "      <td id=\"T_38982_row35_col23\" class=\"data row35 col23\" >-0.053189</td>\n",
              "      <td id=\"T_38982_row35_col24\" class=\"data row35 col24\" >-0.333394</td>\n",
              "      <td id=\"T_38982_row35_col25\" class=\"data row35 col25\" >0.061416</td>\n",
              "      <td id=\"T_38982_row35_col26\" class=\"data row35 col26\" >0.068910</td>\n",
              "      <td id=\"T_38982_row35_col27\" class=\"data row35 col27\" >0.474307</td>\n",
              "      <td id=\"T_38982_row35_col28\" class=\"data row35 col28\" >-0.335159</td>\n",
              "      <td id=\"T_38982_row35_col29\" class=\"data row35 col29\" >-0.015315</td>\n",
              "      <td id=\"T_38982_row35_col30\" class=\"data row35 col30\" >-0.171584</td>\n",
              "      <td id=\"T_38982_row35_col31\" class=\"data row35 col31\" >-0.203892</td>\n",
              "      <td id=\"T_38982_row35_col32\" class=\"data row35 col32\" >0.156820</td>\n",
              "      <td id=\"T_38982_row35_col33\" class=\"data row35 col33\" >0.005597</td>\n",
              "      <td id=\"T_38982_row35_col34\" class=\"data row35 col34\" >0.015997</td>\n",
              "      <td id=\"T_38982_row35_col35\" class=\"data row35 col35\" >1.000000</td>\n",
              "    </tr>\n",
              "  </tbody>\n",
              "</table>\n"
            ]
          },
          "metadata": {},
          "execution_count": 44
        }
      ]
    },
    {
      "cell_type": "markdown",
      "source": [
        "**Checking correlation analysis with the target**"
      ],
      "metadata": {
        "id": "TTF1n8pM7Sdc"
      }
    },
    {
      "cell_type": "code",
      "source": [
        "df_cumulative.corr()['koi_disposition']"
      ],
      "metadata": {
        "colab": {
          "base_uri": "https://localhost:8080/"
        },
        "id": "FvhHEDmx7RcU",
        "outputId": "2cc32968-a445-42b2-a31f-8668627522ff"
      },
      "execution_count": 49,
      "outputs": [
        {
          "output_type": "execute_result",
          "data": {
            "text/plain": [
              "koi_disposition      1.000000\n",
              "koi_pdisposition     0.905133\n",
              "koi_score           -0.845784\n",
              "koi_fpflag_nt        0.408856\n",
              "koi_fpflag_ss        0.446835\n",
              "koi_fpflag_co        0.422841\n",
              "koi_fpflag_ec        0.318463\n",
              "koi_period          -0.012878\n",
              "koi_period_err1      0.066239\n",
              "koi_period_err2     -0.066239\n",
              "koi_impact           0.062114\n",
              "koi_impact_err1      0.077778\n",
              "koi_duration         0.129332\n",
              "koi_duration_err1    0.040919\n",
              "koi_duration_err2   -0.040919\n",
              "koi_depth            0.237686\n",
              "koi_depth_err1       0.019395\n",
              "koi_depth_err2      -0.019395\n",
              "koi_prad             0.026194\n",
              "koi_prad_err1        0.031551\n",
              "koi_prad_err2       -0.022360\n",
              "koi_teq              0.224259\n",
              "koi_insol_err1       0.035096\n",
              "koi_insol_err2      -0.017622\n",
              "koi_model_snr        0.221245\n",
              "koi_tce_plnt_num    -0.138648\n",
              "koi_steff            0.135755\n",
              "koi_steff_err1       0.243708\n",
              "koi_steff_err2      -0.228649\n",
              "koi_slogg           -0.099025\n",
              "koi_slogg_err1       0.097563\n",
              "koi_slogg_err2      -0.122731\n",
              "koi_srad             0.048100\n",
              "koi_srad_err1        0.082802\n",
              "koi_srad_err2       -0.054151\n",
              "ra                   0.100989\n",
              "dec                 -0.067064\n",
              "koi_kepmag          -0.045602\n",
              "Name: koi_disposition, dtype: float64"
            ]
          },
          "metadata": {},
          "execution_count": 49
        }
      ]
    },
    {
      "cell_type": "markdown",
      "source": [
        "## Label Encoding done for koi_disposition and koi_pdisposition, changing strings into categorical data"
      ],
      "metadata": {
        "id": "SBbG2xqQ7qWg"
      }
    },
    {
      "cell_type": "code",
      "source": [
        "#label encoding koi disposition\n",
        "from sklearn import preprocessing\n",
        "le = preprocessing.LabelEncoder()\n",
        "df_cumulative['koi_disposition'] = le.fit_transform(df_cumulative['koi_disposition'])\n",
        "label_map = dict(zip(df_cumulative['koi_disposition'], le.fit_transform(df_cumulative['koi_disposition'])))\n",
        "print(label_map) # get the mapping between the original labels and encoded labels\n",
        "# df_cumulative"
      ],
      "metadata": {
        "id": "XFLmY2DGOwer",
        "colab": {
          "base_uri": "https://localhost:8080/"
        },
        "outputId": "8ce201be-d4ce-45ba-fa0a-f6725a226069"
      },
      "execution_count": 46,
      "outputs": [
        {
          "output_type": "stream",
          "name": "stdout",
          "text": [
            "{1: 1, 2: 2, 0: 0}\n"
          ]
        }
      ]
    },
    {
      "cell_type": "code",
      "source": [
        "import seaborn as sns\n",
        "sns.set(rc={'figure.figsize':(10,8)})\n",
        "sns.countplot(df_cumulative['koi_disposition'],palette='winter_r')"
      ],
      "metadata": {
        "colab": {
          "base_uri": "https://localhost:8080/",
          "height": 574
        },
        "id": "BJi3Emp24qPp",
        "outputId": "e0b06931-caea-4b68-9569-d8df6904d73f"
      },
      "execution_count": 47,
      "outputs": [
        {
          "output_type": "stream",
          "name": "stderr",
          "text": [
            "/usr/local/lib/python3.8/dist-packages/seaborn/_decorators.py:36: FutureWarning: Pass the following variable as a keyword arg: x. From version 0.12, the only valid positional argument will be `data`, and passing other arguments without an explicit keyword will result in an error or misinterpretation.\n",
            "  warnings.warn(\n"
          ]
        },
        {
          "output_type": "execute_result",
          "data": {
            "text/plain": [
              "<AxesSubplot:xlabel='koi_disposition', ylabel='count'>"
            ]
          },
          "metadata": {},
          "execution_count": 47
        },
        {
          "output_type": "display_data",
          "data": {
            "text/plain": [
              "<Figure size 720x576 with 1 Axes>"
            ],
            "image/png": "[encoded data removed]"
          },
          "metadata": {}
        }
      ]
    },
    {
      "cell_type": "code",
      "source": [
        "#label encoding koi pdisposition\n",
        "from sklearn import preprocessing\n",
        "le = preprocessing.LabelEncoder()\n",
        "df_cumulative['koi_pdisposition'] = le.fit_transform(df_cumulative[['koi_pdisposition']])\n",
        "label_map = dict(zip(df_cumulative['koi_pdisposition'], le.fit_transform(df_cumulative['koi_pdisposition']))) # get the mapping between the original labels and encoded labels\n",
        "# df_cumulative"
      ],
      "metadata": {
        "id": "2dgXAuZxZjPX",
        "colab": {
          "base_uri": "https://localhost:8080/"
        },
        "outputId": "0d7911d5-2172-4c3e-933c-9bb90bbfe6bb"
      },
      "execution_count": 48,
      "outputs": [
        {
          "output_type": "stream",
          "name": "stderr",
          "text": [
            "/usr/local/lib/python3.8/dist-packages/sklearn/preprocessing/_label.py:116: DataConversionWarning: A column-vector y was passed when a 1d array was expected. Please change the shape of y to (n_samples, ), for example using ravel().\n",
            "  y = column_or_1d(y, warn=True)\n"
          ]
        }
      ]
    },
    {
      "cell_type": "markdown",
      "source": [
        "## Feature Sets"
      ],
      "metadata": {
        "id": "-RIqavAS73oA"
      }
    },
    {
      "cell_type": "markdown",
      "source": [
        "Placing correlation analysis into a new data frame"
      ],
      "metadata": {
        "id": "Lauu7EVl8C5N"
      }
    },
    {
      "cell_type": "code",
      "source": [
        "df_new = df_cumulative.corr()['koi_disposition'] "
      ],
      "metadata": {
        "id": "nhsSbgMBkRLr"
      },
      "execution_count": 50,
      "outputs": []
    },
    {
      "cell_type": "code",
      "source": [
        "import seaborn as sns\n",
        "import matplotlib.pyplot as plt\n",
        "\n",
        "df_new = df_new.to_frame()\n"
      ],
      "metadata": {
        "id": "zJSE7gcFRx-r"
      },
      "execution_count": 51,
      "outputs": []
    },
    {
      "cell_type": "code",
      "source": [
        "df_new = df_new.abs()"
      ],
      "metadata": {
        "id": "FfaCcfErkrxB"
      },
      "execution_count": 52,
      "outputs": []
    },
    {
      "cell_type": "code",
      "source": [
        "df_new = df_new.drop(index=df_new.index[0], axis=0, errors='raise')"
      ],
      "metadata": {
        "id": "K3zMSgHgk6ze"
      },
      "execution_count": 53,
      "outputs": []
    },
    {
      "cell_type": "code",
      "source": [
        "df_cumulative['koi_score'].isna().sum()"
      ],
      "metadata": {
        "colab": {
          "base_uri": "https://localhost:8080/"
        },
        "id": "-ep1LVBHOoVJ",
        "outputId": "a77f5d2f-216a-4c4a-e572-018af6bf9374"
      },
      "execution_count": 54,
      "outputs": [
        {
          "output_type": "execute_result",
          "data": {
            "text/plain": [
              "1510"
            ]
          },
          "metadata": {},
          "execution_count": 54
        }
      ]
    },
    {
      "cell_type": "code",
      "source": [
        "df_new"
      ],
      "metadata": {
        "id": "FSJX2ZTnlr6H",
        "colab": {
          "base_uri": "https://localhost:8080/",
          "height": 1000
        },
        "outputId": "bd842fae-35cb-4866-dde1-35dea116349f"
      },
      "execution_count": 55,
      "outputs": [
        {
          "output_type": "execute_result",
          "data": {
            "text/plain": [
              "                   koi_disposition\n",
              "koi_pdisposition          0.905133\n",
              "koi_score                 0.845784\n",
              "koi_fpflag_nt             0.408856\n",
              "koi_fpflag_ss             0.446835\n",
              "koi_fpflag_co             0.422841\n",
              "koi_fpflag_ec             0.318463\n",
              "koi_period                0.012878\n",
              "koi_period_err1           0.066239\n",
              "koi_period_err2           0.066239\n",
              "koi_impact                0.062114\n",
              "koi_impact_err1           0.077778\n",
              "koi_duration              0.129332\n",
              "koi_duration_err1         0.040919\n",
              "koi_duration_err2         0.040919\n",
              "koi_depth                 0.237686\n",
              "koi_depth_err1            0.019395\n",
              "koi_depth_err2            0.019395\n",
              "koi_prad                  0.026194\n",
              "koi_prad_err1             0.031551\n",
              "koi_prad_err2             0.022360\n",
              "koi_teq                   0.224259\n",
              "koi_insol_err1            0.035096\n",
              "koi_insol_err2            0.017622\n",
              "koi_model_snr             0.221245\n",
              "koi_tce_plnt_num          0.138648\n",
              "koi_steff                 0.135755\n",
              "koi_steff_err1            0.243708\n",
              "koi_steff_err2            0.228649\n",
              "koi_slogg                 0.099025\n",
              "koi_slogg_err1            0.097563\n",
              "koi_slogg_err2            0.122731\n",
              "koi_srad                  0.048100\n",
              "koi_srad_err1             0.082802\n",
              "koi_srad_err2             0.054151\n",
              "ra                        0.100989\n",
              "dec                       0.067064\n",
              "koi_kepmag                0.045602"
            ],
            "text/html": [
              "\n",
              "  <div id=\"df-f4c462f9-800e-42a9-88b1-a8343f62bfc1\">\n",
              "    <div class=\"colab-df-container\">\n",
              "      <div>\n",
              "<style scoped>\n",
              "    .dataframe tbody tr th:only-of-type {\n",
              "        vertical-align: middle;\n",
              "    }\n",
              "\n",
              "    .dataframe tbody tr th {\n",
              "        vertical-align: top;\n",
              "    }\n",
              "\n",
              "    .dataframe thead th {\n",
              "        text-align: right;\n",
              "    }\n",
              "</style>\n",
              "<table border=\"1\" class=\"dataframe\">\n",
              "  <thead>\n",
              "    <tr style=\"text-align: right;\">\n",
              "      <th></th>\n",
              "      <th>koi_disposition</th>\n",
              "    </tr>\n",
              "  </thead>\n",
              "  <tbody>\n",
              "    <tr>\n",
              "      <th>koi_pdisposition</th>\n",
              "      <td>0.905133</td>\n",
              "    </tr>\n",
              "    <tr>\n",
              "      <th>koi_score</th>\n",
              "      <td>0.845784</td>\n",
              "    </tr>\n",
              "    <tr>\n",
              "      <th>koi_fpflag_nt</th>\n",
              "      <td>0.408856</td>\n",
              "    </tr>\n",
              "    <tr>\n",
              "      <th>koi_fpflag_ss</th>\n",
              "      <td>0.446835</td>\n",
              "    </tr>\n",
              "    <tr>\n",
              "      <th>koi_fpflag_co</th>\n",
              "      <td>0.422841</td>\n",
              "    </tr>\n",
              "    <tr>\n",
              "      <th>koi_fpflag_ec</th>\n",
              "      <td>0.318463</td>\n",
              "    </tr>\n",
              "    <tr>\n",
              "      <th>koi_period</th>\n",
              "      <td>0.012878</td>\n",
              "    </tr>\n",
              "    <tr>\n",
              "      <th>koi_period_err1</th>\n",
              "      <td>0.066239</td>\n",
              "    </tr>\n",
              "    <tr>\n",
              "      <th>koi_period_err2</th>\n",
              "      <td>0.066239</td>\n",
              "    </tr>\n",
              "    <tr>\n",
              "      <th>koi_impact</th>\n",
              "      <td>0.062114</td>\n",
              "    </tr>\n",
              "    <tr>\n",
              "      <th>koi_impact_err1</th>\n",
              "      <td>0.077778</td>\n",
              "    </tr>\n",
              "    <tr>\n",
              "      <th>koi_duration</th>\n",
              "      <td>0.129332</td>\n",
              "    </tr>\n",
              "    <tr>\n",
              "      <th>koi_duration_err1</th>\n",
              "      <td>0.040919</td>\n",
              "    </tr>\n",
              "    <tr>\n",
              "      <th>koi_duration_err2</th>\n",
              "      <td>0.040919</td>\n",
              "    </tr>\n",
              "    <tr>\n",
              "      <th>koi_depth</th>\n",
              "      <td>0.237686</td>\n",
              "    </tr>\n",
              "    <tr>\n",
              "      <th>koi_depth_err1</th>\n",
              "      <td>0.019395</td>\n",
              "    </tr>\n",
              "    <tr>\n",
              "      <th>koi_depth_err2</th>\n",
              "      <td>0.019395</td>\n",
              "    </tr>\n",
              "    <tr>\n",
              "      <th>koi_prad</th>\n",
              "      <td>0.026194</td>\n",
              "    </tr>\n",
              "    <tr>\n",
              "      <th>koi_prad_err1</th>\n",
              "      <td>0.031551</td>\n",
              "    </tr>\n",
              "    <tr>\n",
              "      <th>koi_prad_err2</th>\n",
              "      <td>0.022360</td>\n",
              "    </tr>\n",
              "    <tr>\n",
              "      <th>koi_teq</th>\n",
              "      <td>0.224259</td>\n",
              "    </tr>\n",
              "    <tr>\n",
              "      <th>koi_insol_err1</th>\n",
              "      <td>0.035096</td>\n",
              "    </tr>\n",
              "    <tr>\n",
              "      <th>koi_insol_err2</th>\n",
              "      <td>0.017622</td>\n",
              "    </tr>\n",
              "    <tr>\n",
              "      <th>koi_model_snr</th>\n",
              "      <td>0.221245</td>\n",
              "    </tr>\n",
              "    <tr>\n",
              "      <th>koi_tce_plnt_num</th>\n",
              "      <td>0.138648</td>\n",
              "    </tr>\n",
              "    <tr>\n",
              "      <th>koi_steff</th>\n",
              "      <td>0.135755</td>\n",
              "    </tr>\n",
              "    <tr>\n",
              "      <th>koi_steff_err1</th>\n",
              "      <td>0.243708</td>\n",
              "    </tr>\n",
              "    <tr>\n",
              "      <th>koi_steff_err2</th>\n",
              "      <td>0.228649</td>\n",
              "    </tr>\n",
              "    <tr>\n",
              "      <th>koi_slogg</th>\n",
              "      <td>0.099025</td>\n",
              "    </tr>\n",
              "    <tr>\n",
              "      <th>koi_slogg_err1</th>\n",
              "      <td>0.097563</td>\n",
              "    </tr>\n",
              "    <tr>\n",
              "      <th>koi_slogg_err2</th>\n",
              "      <td>0.122731</td>\n",
              "    </tr>\n",
              "    <tr>\n",
              "      <th>koi_srad</th>\n",
              "      <td>0.048100</td>\n",
              "    </tr>\n",
              "    <tr>\n",
              "      <th>koi_srad_err1</th>\n",
              "      <td>0.082802</td>\n",
              "    </tr>\n",
              "    <tr>\n",
              "      <th>koi_srad_err2</th>\n",
              "      <td>0.054151</td>\n",
              "    </tr>\n",
              "    <tr>\n",
              "      <th>ra</th>\n",
              "      <td>0.100989</td>\n",
              "    </tr>\n",
              "    <tr>\n",
              "      <th>dec</th>\n",
              "      <td>0.067064</td>\n",
              "    </tr>\n",
              "    <tr>\n",
              "      <th>koi_kepmag</th>\n",
              "      <td>0.045602</td>\n",
              "    </tr>\n",
              "  </tbody>\n",
              "</table>\n",
              "</div>\n",
              "      <button class=\"colab-df-convert\" onclick=\"convertToInteractive('df-f4c462f9-800e-42a9-88b1-a8343f62bfc1')\"\n",
              "              title=\"Convert this dataframe to an interactive table.\"\n",
              "              style=\"display:none;\">\n",
              "        \n",
              "  <svg xmlns=\"http://www.w3.org/2000/svg\" height=\"24px\"viewBox=\"0 0 24 24\"\n",
              "       width=\"24px\">\n",
              "    <path d=\"M0 0h24v24H0V0z\" fill=\"none\"/>\n",
              "    <path d=\"M18.56 5.44l.94 2.06.94-2.06 2.06-.94-2.06-.94-.94-2.06-.94 2.06-2.06.94zm-11 1L8.5 8.5l.94-2.06 2.06-.94-2.06-.94L8.5 2.5l-.94 2.06-2.06.94zm10 10l.94 2.06.94-2.06 2.06-.94-2.06-.94-.94-2.06-.94 2.06-2.06.94z\"/><path d=\"M17.41 7.96l-1.37-1.37c-.4-.4-.92-.59-1.43-.59-.52 0-1.04.2-1.43.59L10.3 9.45l-7.72 7.72c-.78.78-.78 2.05 0 2.83L4 21.41c.39.39.9.59 1.41.59.51 0 1.02-.2 1.41-.59l7.78-7.78 2.81-2.81c.8-.78.8-2.07 0-2.86zM5.41 20L4 18.59l7.72-7.72 1.47 1.35L5.41 20z\"/>\n",
              "  </svg>\n",
              "      </button>\n",
              "      \n",
              "  <style>\n",
              "    .colab-df-container {\n",
              "      display:flex;\n",
              "      flex-wrap:wrap;\n",
              "      gap: 12px;\n",
              "    }\n",
              "\n",
              "    .colab-df-convert {\n",
              "      background-color: #E8F0FE;\n",
              "      border: none;\n",
              "      border-radius: 50%;\n",
              "      cursor: pointer;\n",
              "      display: none;\n",
              "      fill: #1967D2;\n",
              "      height: 32px;\n",
              "      padding: 0 0 0 0;\n",
              "      width: 32px;\n",
              "    }\n",
              "\n",
              "    .colab-df-convert:hover {\n",
              "      background-color: #E2EBFA;\n",
              "      box-shadow: 0px 1px 2px rgba(60, 64, 67, 0.3), 0px 1px 3px 1px rgba(60, 64, 67, 0.15);\n",
              "      fill: #174EA6;\n",
              "    }\n",
              "\n",
              "    [theme=dark] .colab-df-convert {\n",
              "      background-color: #3B4455;\n",
              "      fill: #D2E3FC;\n",
              "    }\n",
              "\n",
              "    [theme=dark] .colab-df-convert:hover {\n",
              "      background-color: #434B5C;\n",
              "      box-shadow: 0px 1px 3px 1px rgba(0, 0, 0, 0.15);\n",
              "      filter: drop-shadow(0px 1px 2px rgba(0, 0, 0, 0.3));\n",
              "      fill: #FFFFFF;\n",
              "    }\n",
              "  </style>\n",
              "\n",
              "      <script>\n",
              "        const buttonEl =\n",
              "          document.querySelector('#df-f4c462f9-800e-42a9-88b1-a8343f62bfc1 button.colab-df-convert');\n",
              "        buttonEl.style.display =\n",
              "          google.colab.kernel.accessAllowed ? 'block' : 'none';\n",
              "\n",
              "        async function convertToInteractive(key) {\n",
              "          const element = document.querySelector('#df-f4c462f9-800e-42a9-88b1-a8343f62bfc1');\n",
              "          const dataTable =\n",
              "            await google.colab.kernel.invokeFunction('convertToInteractive',\n",
              "                                                     [key], {});\n",
              "          if (!dataTable) return;\n",
              "\n",
              "          const docLinkHtml = 'Like what you see? Visit the ' +\n",
              "            '<a target=\"_blank\" href=https://colab.research.google.com/notebooks/data_table.ipynb>data table notebook</a>'\n",
              "            + ' to learn more about interactive tables.';\n",
              "          element.innerHTML = '';\n",
              "          dataTable['output_type'] = 'display_data';\n",
              "          await google.colab.output.renderOutput(dataTable, element);\n",
              "          const docLink = document.createElement('div');\n",
              "          docLink.innerHTML = docLinkHtml;\n",
              "          element.appendChild(docLink);\n",
              "        }\n",
              "      </script>\n",
              "    </div>\n",
              "  </div>\n",
              "  "
            ]
          },
          "metadata": {},
          "execution_count": 55
        }
      ]
    },
    {
      "cell_type": "markdown",
      "source": [
        "## Scaling"
      ],
      "metadata": {
        "id": "HmllESlI8JVs"
      }
    },
    {
      "cell_type": "code",
      "source": [
        "#scaling\n",
        "from sklearn.preprocessing import MinMaxScaler\n",
        "scaler = MinMaxScaler()\n",
        "df_scaled = df_cumulative\n",
        "df_scaled = df_scaled.drop(['koi_disposition'], axis = 1)\n",
        "\n",
        "df_scaler = pd.DataFrame(scaler.fit_transform(df_scaled.values), columns=df_scaled.columns, index=df_scaled.index)\n",
        "df_scaler"
      ],
      "metadata": {
        "id": "CrhK1vFJrYYm",
        "colab": {
          "base_uri": "https://localhost:8080/",
          "height": 487
        },
        "outputId": "64f3c3bf-997f-4006-ea40-1fb4c39bd795"
      },
      "execution_count": 56,
      "outputs": [
        {
          "output_type": "execute_result",
          "data": {
            "text/plain": [
              "      koi_pdisposition  koi_score  koi_fpflag_nt  koi_fpflag_ss  \\\n",
              "0                  0.0      1.000            0.0            0.0   \n",
              "1                  0.0      0.969            0.0            0.0   \n",
              "2                  1.0      0.000            0.0            1.0   \n",
              "3                  1.0      0.000            0.0            1.0   \n",
              "4                  0.0      1.000            0.0            0.0   \n",
              "...                ...        ...            ...            ...   \n",
              "9559               1.0      0.000            0.0            0.0   \n",
              "9560               1.0      0.000            0.0            1.0   \n",
              "9561               0.0      0.497            0.0            0.0   \n",
              "9562               1.0      0.021            0.0            0.0   \n",
              "9563               1.0      0.000            0.0            0.0   \n",
              "\n",
              "      koi_fpflag_co  koi_fpflag_ec  koi_period  koi_period_err1  \\\n",
              "0               0.0            0.0    0.000071     1.608696e-04   \n",
              "1               0.0            0.0    0.000417     1.437101e-03   \n",
              "2               0.0            0.0    0.000151     8.660870e-05   \n",
              "3               0.0            0.0    0.000012     1.524638e-06   \n",
              "4               0.0            0.0    0.000018     2.180290e-05   \n",
              "...             ...            ...         ...              ...   \n",
              "9559            0.0            1.0    0.000064     1.070145e-03   \n",
              "9560            1.0            0.0    0.000002     6.724638e-07   \n",
              "9561            0.0            0.0    0.000012     1.031884e-04   \n",
              "9562            1.0            0.0    0.000003     1.411014e-05   \n",
              "9563            1.0            1.0    0.000035     3.684638e-04   \n",
              "\n",
              "      koi_period_err2  koi_impact  ...  koi_steff_err2  koi_slogg  \\\n",
              "0            0.999839    0.001448  ...        0.954030   0.831296   \n",
              "1            0.998563    0.005813  ...        0.954030   0.831296   \n",
              "2            0.999913    0.009613  ...        0.900114   0.845778   \n",
              "3            0.999998    0.012658  ...        0.901249   0.849539   \n",
              "4            0.999978    0.006954  ...        0.880250   0.825842   \n",
              "...               ...         ...  ...             ...        ...   \n",
              "9559         0.998930    0.007589  ...        0.913734   0.799135   \n",
              "9560         0.999999    0.012420  ...        0.905789   0.842957   \n",
              "9561         0.999897    0.000427  ...        0.875142   0.826970   \n",
              "9562         0.999986    0.001458  ...        0.866061   0.827534   \n",
              "9563         0.999632    0.001329  ...        0.872304   0.815874   \n",
              "\n",
              "      koi_slogg_err1  koi_slogg_err2  koi_srad  koi_srad_err1  koi_srad_err2  \\\n",
              "0           0.043478        0.920464  0.003560       0.003173       0.999475   \n",
              "1           0.043478        0.920464  0.003560       0.003173       0.999475   \n",
              "2           0.029891        0.854184  0.003303       0.007041       0.999328   \n",
              "3           0.036005        0.860812  0.002968       0.006074       0.999423   \n",
              "4           0.047554        0.826015  0.004077       0.010093       0.998855   \n",
              "...              ...             ...       ...            ...            ...   \n",
              "9559        0.156929        0.843413  0.004260       0.009459       0.998037   \n",
              "9560        0.023777        0.837614  0.003455       0.007162       0.999320   \n",
              "9561        0.038043        0.814416  0.004012       0.010305       0.999018   \n",
              "9562        0.038043        0.814416  0.004056       0.010305       0.999018   \n",
              "9563        0.036685        0.821044  0.004717       0.012390       0.998820   \n",
              "\n",
              "            ra       dec  koi_kepmag  \n",
              "0     0.552473  0.733837    0.642863  \n",
              "1     0.552473  0.733837    0.642863  \n",
              "2     0.784346  0.733360    0.649689  \n",
              "3     0.259826  0.742947    0.662039  \n",
              "4     0.407085  0.739203    0.655289  \n",
              "...        ...       ...         ...  \n",
              "9559  0.864114  0.659700    0.576206  \n",
              "9560  0.792756  0.667345    0.545831  \n",
              "9561  0.304401  0.671749    0.597607  \n",
              "9562  0.654479  0.672578    0.645777  \n",
              "9563  0.784572  0.669071    0.602899  \n",
              "\n",
              "[9564 rows x 37 columns]"
            ],
            "text/html": [
              "\n",
              "  <div id=\"df-73c603f5-e4f9-46bf-b74b-10b836e34984\">\n",
              "    <div class=\"colab-df-container\">\n",
              "      <div>\n",
              "<style scoped>\n",
              "    .dataframe tbody tr th:only-of-type {\n",
              "        vertical-align: middle;\n",
              "    }\n",
              "\n",
              "    .dataframe tbody tr th {\n",
              "        vertical-align: top;\n",
              "    }\n",
              "\n",
              "    .dataframe thead th {\n",
              "        text-align: right;\n",
              "    }\n",
              "</style>\n",
              "<table border=\"1\" class=\"dataframe\">\n",
              "  <thead>\n",
              "    <tr style=\"text-align: right;\">\n",
              "      <th></th>\n",
              "      <th>koi_pdisposition</th>\n",
              "      <th>koi_score</th>\n",
              "      <th>koi_fpflag_nt</th>\n",
              "      <th>koi_fpflag_ss</th>\n",
              "      <th>koi_fpflag_co</th>\n",
              "      <th>koi_fpflag_ec</th>\n",
              "      <th>koi_period</th>\n",
              "      <th>koi_period_err1</th>\n",
              "      <th>koi_period_err2</th>\n",
              "      <th>koi_impact</th>\n",
              "      <th>...</th>\n",
              "      <th>koi_steff_err2</th>\n",
              "      <th>koi_slogg</th>\n",
              "      <th>koi_slogg_err1</th>\n",
              "      <th>koi_slogg_err2</th>\n",
              "      <th>koi_srad</th>\n",
              "      <th>koi_srad_err1</th>\n",
              "      <th>koi_srad_err2</th>\n",
              "      <th>ra</th>\n",
              "      <th>dec</th>\n",
              "      <th>koi_kepmag</th>\n",
              "    </tr>\n",
              "  </thead>\n",
              "  <tbody>\n",
              "    <tr>\n",
              "      <th>0</th>\n",
              "      <td>0.0</td>\n",
              "      <td>1.000</td>\n",
              "      <td>0.0</td>\n",
              "      <td>0.0</td>\n",
              "      <td>0.0</td>\n",
              "      <td>0.0</td>\n",
              "      <td>0.000071</td>\n",
              "      <td>1.608696e-04</td>\n",
              "      <td>0.999839</td>\n",
              "      <td>0.001448</td>\n",
              "      <td>...</td>\n",
              "      <td>0.954030</td>\n",
              "      <td>0.831296</td>\n",
              "      <td>0.043478</td>\n",
              "      <td>0.920464</td>\n",
              "      <td>0.003560</td>\n",
              "      <td>0.003173</td>\n",
              "      <td>0.999475</td>\n",
              "      <td>0.552473</td>\n",
              "      <td>0.733837</td>\n",
              "      <td>0.642863</td>\n",
              "    </tr>\n",
              "    <tr>\n",
              "      <th>1</th>\n",
              "      <td>0.0</td>\n",
              "      <td>0.969</td>\n",
              "      <td>0.0</td>\n",
              "      <td>0.0</td>\n",
              "      <td>0.0</td>\n",
              "      <td>0.0</td>\n",
              "      <td>0.000417</td>\n",
              "      <td>1.437101e-03</td>\n",
              "      <td>0.998563</td>\n",
              "      <td>0.005813</td>\n",
              "      <td>...</td>\n",
              "      <td>0.954030</td>\n",
              "      <td>0.831296</td>\n",
              "      <td>0.043478</td>\n",
              "      <td>0.920464</td>\n",
              "      <td>0.003560</td>\n",
              "      <td>0.003173</td>\n",
              "      <td>0.999475</td>\n",
              "      <td>0.552473</td>\n",
              "      <td>0.733837</td>\n",
              "      <td>0.642863</td>\n",
              "    </tr>\n",
              "    <tr>\n",
              "      <th>2</th>\n",
              "      <td>1.0</td>\n",
              "      <td>0.000</td>\n",
              "      <td>0.0</td>\n",
              "      <td>1.0</td>\n",
              "      <td>0.0</td>\n",
              "      <td>0.0</td>\n",
              "      <td>0.000151</td>\n",
              "      <td>8.660870e-05</td>\n",
              "      <td>0.999913</td>\n",
              "      <td>0.009613</td>\n",
              "      <td>...</td>\n",
              "      <td>0.900114</td>\n",
              "      <td>0.845778</td>\n",
              "      <td>0.029891</td>\n",
              "      <td>0.854184</td>\n",
              "      <td>0.003303</td>\n",
              "      <td>0.007041</td>\n",
              "      <td>0.999328</td>\n",
              "      <td>0.784346</td>\n",
              "      <td>0.733360</td>\n",
              "      <td>0.649689</td>\n",
              "    </tr>\n",
              "    <tr>\n",
              "      <th>3</th>\n",
              "      <td>1.0</td>\n",
              "      <td>0.000</td>\n",
              "      <td>0.0</td>\n",
              "      <td>1.0</td>\n",
              "      <td>0.0</td>\n",
              "      <td>0.0</td>\n",
              "      <td>0.000012</td>\n",
              "      <td>1.524638e-06</td>\n",
              "      <td>0.999998</td>\n",
              "      <td>0.012658</td>\n",
              "      <td>...</td>\n",
              "      <td>0.901249</td>\n",
              "      <td>0.849539</td>\n",
              "      <td>0.036005</td>\n",
              "      <td>0.860812</td>\n",
              "      <td>0.002968</td>\n",
              "      <td>0.006074</td>\n",
              "      <td>0.999423</td>\n",
              "      <td>0.259826</td>\n",
              "      <td>0.742947</td>\n",
              "      <td>0.662039</td>\n",
              "    </tr>\n",
              "    <tr>\n",
              "      <th>4</th>\n",
              "      <td>0.0</td>\n",
              "      <td>1.000</td>\n",
              "      <td>0.0</td>\n",
              "      <td>0.0</td>\n",
              "      <td>0.0</td>\n",
              "      <td>0.0</td>\n",
              "      <td>0.000018</td>\n",
              "      <td>2.180290e-05</td>\n",
              "      <td>0.999978</td>\n",
              "      <td>0.006954</td>\n",
              "      <td>...</td>\n",
              "      <td>0.880250</td>\n",
              "      <td>0.825842</td>\n",
              "      <td>0.047554</td>\n",
              "      <td>0.826015</td>\n",
              "      <td>0.004077</td>\n",
              "      <td>0.010093</td>\n",
              "      <td>0.998855</td>\n",
              "      <td>0.407085</td>\n",
              "      <td>0.739203</td>\n",
              "      <td>0.655289</td>\n",
              "    </tr>\n",
              "    <tr>\n",
              "      <th>...</th>\n",
              "      <td>...</td>\n",
              "      <td>...</td>\n",
              "      <td>...</td>\n",
              "      <td>...</td>\n",
              "      <td>...</td>\n",
              "      <td>...</td>\n",
              "      <td>...</td>\n",
              "      <td>...</td>\n",
              "      <td>...</td>\n",
              "      <td>...</td>\n",
              "      <td>...</td>\n",
              "      <td>...</td>\n",
              "      <td>...</td>\n",
              "      <td>...</td>\n",
              "      <td>...</td>\n",
              "      <td>...</td>\n",
              "      <td>...</td>\n",
              "      <td>...</td>\n",
              "      <td>...</td>\n",
              "      <td>...</td>\n",
              "      <td>...</td>\n",
              "    </tr>\n",
              "    <tr>\n",
              "      <th>9559</th>\n",
              "      <td>1.0</td>\n",
              "      <td>0.000</td>\n",
              "      <td>0.0</td>\n",
              "      <td>0.0</td>\n",
              "      <td>0.0</td>\n",
              "      <td>1.0</td>\n",
              "      <td>0.000064</td>\n",
              "      <td>1.070145e-03</td>\n",
              "      <td>0.998930</td>\n",
              "      <td>0.007589</td>\n",
              "      <td>...</td>\n",
              "      <td>0.913734</td>\n",
              "      <td>0.799135</td>\n",
              "      <td>0.156929</td>\n",
              "      <td>0.843413</td>\n",
              "      <td>0.004260</td>\n",
              "      <td>0.009459</td>\n",
              "      <td>0.998037</td>\n",
              "      <td>0.864114</td>\n",
              "      <td>0.659700</td>\n",
              "      <td>0.576206</td>\n",
              "    </tr>\n",
              "    <tr>\n",
              "      <th>9560</th>\n",
              "      <td>1.0</td>\n",
              "      <td>0.000</td>\n",
              "      <td>0.0</td>\n",
              "      <td>1.0</td>\n",
              "      <td>1.0</td>\n",
              "      <td>0.0</td>\n",
              "      <td>0.000002</td>\n",
              "      <td>6.724638e-07</td>\n",
              "      <td>0.999999</td>\n",
              "      <td>0.012420</td>\n",
              "      <td>...</td>\n",
              "      <td>0.905789</td>\n",
              "      <td>0.842957</td>\n",
              "      <td>0.023777</td>\n",
              "      <td>0.837614</td>\n",
              "      <td>0.003455</td>\n",
              "      <td>0.007162</td>\n",
              "      <td>0.999320</td>\n",
              "      <td>0.792756</td>\n",
              "      <td>0.667345</td>\n",
              "      <td>0.545831</td>\n",
              "    </tr>\n",
              "    <tr>\n",
              "      <th>9561</th>\n",
              "      <td>0.0</td>\n",
              "      <td>0.497</td>\n",
              "      <td>0.0</td>\n",
              "      <td>0.0</td>\n",
              "      <td>0.0</td>\n",
              "      <td>0.0</td>\n",
              "      <td>0.000012</td>\n",
              "      <td>1.031884e-04</td>\n",
              "      <td>0.999897</td>\n",
              "      <td>0.000427</td>\n",
              "      <td>...</td>\n",
              "      <td>0.875142</td>\n",
              "      <td>0.826970</td>\n",
              "      <td>0.038043</td>\n",
              "      <td>0.814416</td>\n",
              "      <td>0.004012</td>\n",
              "      <td>0.010305</td>\n",
              "      <td>0.999018</td>\n",
              "      <td>0.304401</td>\n",
              "      <td>0.671749</td>\n",
              "      <td>0.597607</td>\n",
              "    </tr>\n",
              "    <tr>\n",
              "      <th>9562</th>\n",
              "      <td>1.0</td>\n",
              "      <td>0.021</td>\n",
              "      <td>0.0</td>\n",
              "      <td>0.0</td>\n",
              "      <td>1.0</td>\n",
              "      <td>0.0</td>\n",
              "      <td>0.000003</td>\n",
              "      <td>1.411014e-05</td>\n",
              "      <td>0.999986</td>\n",
              "      <td>0.001458</td>\n",
              "      <td>...</td>\n",
              "      <td>0.866061</td>\n",
              "      <td>0.827534</td>\n",
              "      <td>0.038043</td>\n",
              "      <td>0.814416</td>\n",
              "      <td>0.004056</td>\n",
              "      <td>0.010305</td>\n",
              "      <td>0.999018</td>\n",
              "      <td>0.654479</td>\n",
              "      <td>0.672578</td>\n",
              "      <td>0.645777</td>\n",
              "    </tr>\n",
              "    <tr>\n",
              "      <th>9563</th>\n",
              "      <td>1.0</td>\n",
              "      <td>0.000</td>\n",
              "      <td>0.0</td>\n",
              "      <td>0.0</td>\n",
              "      <td>1.0</td>\n",
              "      <td>1.0</td>\n",
              "      <td>0.000035</td>\n",
              "      <td>3.684638e-04</td>\n",
              "      <td>0.999632</td>\n",
              "      <td>0.001329</td>\n",
              "      <td>...</td>\n",
              "      <td>0.872304</td>\n",
              "      <td>0.815874</td>\n",
              "      <td>0.036685</td>\n",
              "      <td>0.821044</td>\n",
              "      <td>0.004717</td>\n",
              "      <td>0.012390</td>\n",
              "      <td>0.998820</td>\n",
              "      <td>0.784572</td>\n",
              "      <td>0.669071</td>\n",
              "      <td>0.602899</td>\n",
              "    </tr>\n",
              "  </tbody>\n",
              "</table>\n",
              "<p>9564 rows × 37 columns</p>\n",
              "</div>\n",
              "      <button class=\"colab-df-convert\" onclick=\"convertToInteractive('df-73c603f5-e4f9-46bf-b74b-10b836e34984')\"\n",
              "              title=\"Convert this dataframe to an interactive table.\"\n",
              "              style=\"display:none;\">\n",
              "        \n",
              "  <svg xmlns=\"http://www.w3.org/2000/svg\" height=\"24px\"viewBox=\"0 0 24 24\"\n",
              "       width=\"24px\">\n",
              "    <path d=\"M0 0h24v24H0V0z\" fill=\"none\"/>\n",
              "    <path d=\"M18.56 5.44l.94 2.06.94-2.06 2.06-.94-2.06-.94-.94-2.06-.94 2.06-2.06.94zm-11 1L8.5 8.5l.94-2.06 2.06-.94-2.06-.94L8.5 2.5l-.94 2.06-2.06.94zm10 10l.94 2.06.94-2.06 2.06-.94-2.06-.94-.94-2.06-.94 2.06-2.06.94z\"/><path d=\"M17.41 7.96l-1.37-1.37c-.4-.4-.92-.59-1.43-.59-.52 0-1.04.2-1.43.59L10.3 9.45l-7.72 7.72c-.78.78-.78 2.05 0 2.83L4 21.41c.39.39.9.59 1.41.59.51 0 1.02-.2 1.41-.59l7.78-7.78 2.81-2.81c.8-.78.8-2.07 0-2.86zM5.41 20L4 18.59l7.72-7.72 1.47 1.35L5.41 20z\"/>\n",
              "  </svg>\n",
              "      </button>\n",
              "      \n",
              "  <style>\n",
              "    .colab-df-container {\n",
              "      display:flex;\n",
              "      flex-wrap:wrap;\n",
              "      gap: 12px;\n",
              "    }\n",
              "\n",
              "    .colab-df-convert {\n",
              "      background-color: #E8F0FE;\n",
              "      border: none;\n",
              "      border-radius: 50%;\n",
              "      cursor: pointer;\n",
              "      display: none;\n",
              "      fill: #1967D2;\n",
              "      height: 32px;\n",
              "      padding: 0 0 0 0;\n",
              "      width: 32px;\n",
              "    }\n",
              "\n",
              "    .colab-df-convert:hover {\n",
              "      background-color: #E2EBFA;\n",
              "      box-shadow: 0px 1px 2px rgba(60, 64, 67, 0.3), 0px 1px 3px 1px rgba(60, 64, 67, 0.15);\n",
              "      fill: #174EA6;\n",
              "    }\n",
              "\n",
              "    [theme=dark] .colab-df-convert {\n",
              "      background-color: #3B4455;\n",
              "      fill: #D2E3FC;\n",
              "    }\n",
              "\n",
              "    [theme=dark] .colab-df-convert:hover {\n",
              "      background-color: #434B5C;\n",
              "      box-shadow: 0px 1px 3px 1px rgba(0, 0, 0, 0.15);\n",
              "      filter: drop-shadow(0px 1px 2px rgba(0, 0, 0, 0.3));\n",
              "      fill: #FFFFFF;\n",
              "    }\n",
              "  </style>\n",
              "\n",
              "      <script>\n",
              "        const buttonEl =\n",
              "          document.querySelector('#df-73c603f5-e4f9-46bf-b74b-10b836e34984 button.colab-df-convert');\n",
              "        buttonEl.style.display =\n",
              "          google.colab.kernel.accessAllowed ? 'block' : 'none';\n",
              "\n",
              "        async function convertToInteractive(key) {\n",
              "          const element = document.querySelector('#df-73c603f5-e4f9-46bf-b74b-10b836e34984');\n",
              "          const dataTable =\n",
              "            await google.colab.kernel.invokeFunction('convertToInteractive',\n",
              "                                                     [key], {});\n",
              "          if (!dataTable) return;\n",
              "\n",
              "          const docLinkHtml = 'Like what you see? Visit the ' +\n",
              "            '<a target=\"_blank\" href=https://colab.research.google.com/notebooks/data_table.ipynb>data table notebook</a>'\n",
              "            + ' to learn more about interactive tables.';\n",
              "          element.innerHTML = '';\n",
              "          dataTable['output_type'] = 'display_data';\n",
              "          await google.colab.output.renderOutput(dataTable, element);\n",
              "          const docLink = document.createElement('div');\n",
              "          docLink.innerHTML = docLinkHtml;\n",
              "          element.appendChild(docLink);\n",
              "        }\n",
              "      </script>\n",
              "    </div>\n",
              "  </div>\n",
              "  "
            ]
          },
          "metadata": {},
          "execution_count": 56
        }
      ]
    },
    {
      "cell_type": "code",
      "source": [
        "df_new.sort_values(by=['koi_disposition'],  ascending=False, inplace=True)"
      ],
      "metadata": {
        "id": "6POLYNgPTnwR"
      },
      "execution_count": 57,
      "outputs": []
    },
    {
      "cell_type": "markdown",
      "source": [
        "## Filling up empty values with mean value for column 'koi_score'"
      ],
      "metadata": {
        "id": "z39YqwCF8Ogp"
      }
    },
    {
      "cell_type": "code",
      "source": [
        "df_scaler['koi_score'].isna().sum()"
      ],
      "metadata": {
        "colab": {
          "base_uri": "https://localhost:8080/"
        },
        "id": "Csa8RCh2PMJp",
        "outputId": "a7df3c8d-885b-4cee-b258-658e25c9cd97"
      },
      "execution_count": 58,
      "outputs": [
        {
          "output_type": "execute_result",
          "data": {
            "text/plain": [
              "1510"
            ]
          },
          "metadata": {},
          "execution_count": 58
        }
      ]
    },
    {
      "cell_type": "code",
      "source": [
        "mean_value = df_scaler['koi_score'].mean()\n",
        "mean_value"
      ],
      "metadata": {
        "id": "HCrvd_jBO5xT",
        "colab": {
          "base_uri": "https://localhost:8080/"
        },
        "outputId": "2ab0161f-1f64-435e-a7cb-306ad12dcbff"
      },
      "execution_count": 59,
      "outputs": [
        {
          "output_type": "execute_result",
          "data": {
            "text/plain": [
              "0.4808294015396076"
            ]
          },
          "metadata": {},
          "execution_count": 59
        }
      ]
    },
    {
      "cell_type": "code",
      "source": [
        "df_cumulative['koi_score'].fillna(value=mean_value, inplace=True)"
      ],
      "metadata": {
        "id": "4SJLHcYKWsXr"
      },
      "execution_count": 60,
      "outputs": []
    },
    {
      "cell_type": "code",
      "source": [
        "#koi score null values is filled with mean value of koi_score in the data frame\n",
        "df_scaler['koi_score'].fillna(value=mean_value, inplace=True)"
      ],
      "metadata": {
        "id": "itf8vQ8zBUjD"
      },
      "execution_count": 61,
      "outputs": []
    },
    {
      "cell_type": "code",
      "source": [
        "df_scaler.dropna(inplace=True)"
      ],
      "metadata": {
        "id": "jS-HD8ZzEoFr"
      },
      "execution_count": 62,
      "outputs": []
    },
    {
      "cell_type": "code",
      "source": [
        "df_cumulative.dropna(inplace = True)"
      ],
      "metadata": {
        "id": "CyVDBNltV15d"
      },
      "execution_count": 63,
      "outputs": []
    },
    {
      "cell_type": "code",
      "source": [
        "from sklearn.model_selection import train_test_split"
      ],
      "metadata": {
        "id": "dhYloAzcscAq"
      },
      "execution_count": 64,
      "outputs": []
    },
    {
      "cell_type": "markdown",
      "source": [
        "## Feature sets based on value from correlation analysis:"
      ],
      "metadata": {
        "id": "37XOsJgo8uyB"
      }
    },
    {
      "cell_type": "code",
      "source": [
        "#top 10 feature sets, index indicates the index value ie the name of the column \n",
        "feature_set_best = list(df_new.head(10).index)"
      ],
      "metadata": {
        "id": "Rgzm6iHWWHO5"
      },
      "execution_count": 65,
      "outputs": []
    },
    {
      "cell_type": "code",
      "source": [
        "#top 20 feature sets\n",
        "feature_set_best_20 = list(df_new.head(20).index)"
      ],
      "metadata": {
        "id": "yRTD6Rc5WYoy"
      },
      "execution_count": 66,
      "outputs": []
    },
    {
      "cell_type": "code",
      "source": [
        "#worst 5 features\n",
        "feature_worst = list(df_new.tail(5).index)"
      ],
      "metadata": {
        "id": "kY8COrZrXJ9v"
      },
      "execution_count": 67,
      "outputs": []
    },
    {
      "cell_type": "code",
      "source": [
        "\n",
        "#all features\n",
        "features_all = list(df_new.index)"
      ],
      "metadata": {
        "id": "34OWmqxYmvDN"
      },
      "execution_count": 68,
      "outputs": []
    },
    {
      "cell_type": "code",
      "source": [
        "print(\"Feature set best:\", feature_set_best)\n",
        "print(\"Feature set top 20:\", feature_set_best_20)\n",
        "print(\"Feature set worst 5:\", feature_worst)\n",
        "print(\"Feature set all:\", features_all)"
      ],
      "metadata": {
        "id": "vVKK3kz9XQv4",
        "colab": {
          "base_uri": "https://localhost:8080/"
        },
        "outputId": "ec87eacc-d44f-46cc-f26d-96b8aae2facb"
      },
      "execution_count": 69,
      "outputs": [
        {
          "output_type": "stream",
          "name": "stdout",
          "text": [
            "Feature set best: ['koi_pdisposition', 'koi_score', 'koi_fpflag_ss', 'koi_fpflag_co', 'koi_fpflag_nt', 'koi_fpflag_ec', 'koi_steff_err1', 'koi_depth', 'koi_steff_err2', 'koi_teq']\n",
            "Feature set top 20: ['koi_pdisposition', 'koi_score', 'koi_fpflag_ss', 'koi_fpflag_co', 'koi_fpflag_nt', 'koi_fpflag_ec', 'koi_steff_err1', 'koi_depth', 'koi_steff_err2', 'koi_teq', 'koi_model_snr', 'koi_tce_plnt_num', 'koi_steff', 'koi_duration', 'koi_slogg_err2', 'ra', 'koi_slogg', 'koi_slogg_err1', 'koi_srad_err1', 'koi_impact_err1']\n",
            "Feature set worst 5: ['koi_prad_err2', 'koi_depth_err2', 'koi_depth_err1', 'koi_insol_err2', 'koi_period']\n",
            "Feature set all: ['koi_pdisposition', 'koi_score', 'koi_fpflag_ss', 'koi_fpflag_co', 'koi_fpflag_nt', 'koi_fpflag_ec', 'koi_steff_err1', 'koi_depth', 'koi_steff_err2', 'koi_teq', 'koi_model_snr', 'koi_tce_plnt_num', 'koi_steff', 'koi_duration', 'koi_slogg_err2', 'ra', 'koi_slogg', 'koi_slogg_err1', 'koi_srad_err1', 'koi_impact_err1', 'dec', 'koi_period_err2', 'koi_period_err1', 'koi_impact', 'koi_srad_err2', 'koi_srad', 'koi_kepmag', 'koi_duration_err2', 'koi_duration_err1', 'koi_insol_err1', 'koi_prad_err1', 'koi_prad', 'koi_prad_err2', 'koi_depth_err2', 'koi_depth_err1', 'koi_insol_err2', 'koi_period']\n"
          ]
        }
      ]
    },
    {
      "cell_type": "code",
      "source": [
        "df_best_10 = df_scaler[feature_set_best]\n",
        "df_best_20 = df_scaler[feature_set_best_20]\n",
        "df_all = df_scaler[features_all]\n",
        "df_worst = df_scaler[feature_worst]\n"
      ],
      "metadata": {
        "id": "9I0UpI-9wSym"
      },
      "execution_count": 70,
      "outputs": []
    },
    {
      "cell_type": "markdown",
      "source": [
        "## Task 2 - Train set of classifiers\n"
      ],
      "metadata": {
        "id": "Luv44OXOp4Av"
      }
    },
    {
      "cell_type": "markdown",
      "source": [
        "Random Sampling i.e. increasing the no.of rows"
      ],
      "metadata": {
        "id": "ITdyP1YYmZ_P"
      }
    },
    {
      "cell_type": "code",
      "source": [
        "from collections import Counter\n",
        "from sklearn.datasets import make_classification\n",
        "from imblearn.over_sampling import RandomOverSampler\n",
        "# define dataset\n",
        "\n",
        "X1 = df_best_10\n",
        "X2 = df_best_20\n",
        "X3 = df_all\n",
        "X4 = df_worst\n",
        "y = df_cumulative['koi_disposition']\n",
        "# summarize class distribution\n",
        "# define oversampling strategy\n",
        "oversample = RandomOverSampler(sampling_strategy={0: 4358 , 1: 4358 , 2: 4358 })\n",
        "# fit and apply the transform\n",
        "X_over, y_over = oversample.fit_resample(X1, y)\n",
        "# summarize class distribution\n"
      ],
      "metadata": {
        "id": "_Ad8cXK1Y3OP"
      },
      "execution_count": 71,
      "outputs": []
    },
    {
      "cell_type": "markdown",
      "source": [
        "Trying smote way of oversampling"
      ],
      "metadata": {
        "id": "F_cPSJyBmXmG"
      }
    },
    {
      "cell_type": "code",
      "source": [
        "from imblearn.over_sampling import SMOTE\n",
        "sm = SMOTE(random_state=0)\n",
        "X_resampled, y_resampled = sm.fit_resample(X1, y)\n",
        "X_resampled_20, y_resampled_20 = sm.fit_resample(X2, y)\n",
        "X_resampled_all, y_resampled_all = sm.fit_resample(X3, y)\n",
        "X_resampled_worst, y_resampled_worst = sm.fit_resample(X4, y)"
      ],
      "metadata": {
        "id": "zgbdjq18mWk1"
      },
      "execution_count": 72,
      "outputs": []
    },
    {
      "cell_type": "code",
      "source": [
        "from sklearn.model_selection import train_test_split\n",
        "\n",
        "X_train_SMOTE, X_test_SMOTE, Y_train_SMOTE, Y_test_SMOTE = train_test_split(X_resampled, y_resampled,test_size=0.30)\n",
        "X_train_SMOTE1, X_test_SMOTE1, Y_train_SMOTE1, Y_test_SMOTE1 = train_test_split(X_resampled_20, y_resampled_20,test_size=0.30)\n",
        "X_train_SMOTE2, X_test_SMOTE2, Y_train_SMOTE2, Y_test_SMOTE2 = train_test_split(X_resampled_all, y_resampled_all,test_size=0.30)\n",
        "X_train_SMOTE3, X_test_SMOTE3, Y_train_SMOTE3, Y_test_SMOTE3 = train_test_split(X_resampled_worst, y_resampled_worst,test_size=0.30)\n"
      ],
      "metadata": {
        "id": "RHIR4Q5iwhJ5"
      },
      "execution_count": 73,
      "outputs": []
    },
    {
      "cell_type": "markdown",
      "source": [
        "From the above value counts performed on the the Y training data set we notice that there is an imbalance in the data, hence we need to balance our data before proceeding forth with the classifiers.\n"
      ],
      "metadata": {
        "id": "xRhSFFy40ttf"
      }
    },
    {
      "cell_type": "code",
      "source": [
        "Y_train_SMOTE.value_counts()"
      ],
      "metadata": {
        "id": "CDrDowAmFxAU",
        "colab": {
          "base_uri": "https://localhost:8080/"
        },
        "outputId": "dc6e42fe-84b9-4a39-b99e-312e757063de"
      },
      "execution_count": 74,
      "outputs": [
        {
          "output_type": "execute_result",
          "data": {
            "text/plain": [
              "2    3059\n",
              "0    3049\n",
              "1    3043\n",
              "Name: koi_disposition, dtype: int64"
            ]
          },
          "metadata": {},
          "execution_count": 74
        }
      ]
    },
    {
      "cell_type": "markdown",
      "source": [
        "SVM after oversampling the the target variable using SMOTE Sampler"
      ],
      "metadata": {
        "id": "rUQtFENkiifq"
      }
    },
    {
      "cell_type": "code",
      "source": [
        "#SVM - classfier\n",
        "from sklearn.svm import SVC\n",
        "from sklearn import metrics\n",
        "from sklearn.metrics import confusion_matrix, ConfusionMatrixDisplay, classification_report\n",
        "\n",
        "\n",
        "df_modelSVM=pd.DataFrame()\n",
        "df_SVM=pd.DataFrame()\n",
        "\n",
        "def SVM(SetName, X_train, Y_train, X_test, Y_test):\n",
        "  classifier = SVC(kernel='rbf', random_state = 1)\n",
        "  classifier.fit(X_train,Y_train)\n",
        "  y_pred = classifier.predict(X_test)\n",
        "  accuracy = metrics.accuracy_score(Y_test, y_pred)\n",
        "  #class_report = classification_report(Y_test, y_pred, digits=5, output_dict=True )\n",
        "  print(classification_report(Y_test, y_pred))\n",
        "  print(confusion_matrix(Y_test, y_pred))\n",
        " \n",
        "  \n",
        "\n",
        "# df_SVM=df_SVM.append(SVM('features_best',X_train_new,Y_train_new, X_test, Y_test), ignore_index=True),,     WRONG Naming  \n",
        "print(\"TOP 10 FEATURES\")\n",
        "df_SVM = df_SVM.append(SVM('features_top_10',X_train_SMOTE,Y_train_SMOTE, X_test_SMOTE, Y_test_SMOTE), ignore_index=True) #features_top_10\n",
        "\n",
        "print(\"------------------------------------------------------------------------------------------\")\n",
        "print(\"TOP 20 FEATURES\")\n",
        "df_SVM = df_SVM.append(SVM('features_top_20',X_train_SMOTE1,Y_train_SMOTE1, X_test_SMOTE1, Y_test_SMOTE1), ignore_index=True) #features_top_20\n",
        "\n",
        "print(\"------------------------------------------------------------------------------------------\")\n",
        "print(\"ALL FEATURES\")\n",
        "df_SVM = df_SVM.append(SVM('features_all',X_train_SMOTE2,Y_train_SMOTE2, X_test_SMOTE2, Y_test_SMOTE2), ignore_index=True) #features_all\n",
        "\n",
        "print(\"------------------------------------------------------------------------------------------\")\n",
        "print(\"WORST 5 FEATURES\")\n",
        "df_SVM = df_SVM.append(SVM('features_worst',X_train_SMOTE3,Y_train_SMOTE3, X_test_SMOTE3, Y_test_SMOTE3), ignore_index=True) #features_worst\n",
        "\n",
        "df_SVM"
      ],
      "metadata": {
        "id": "gSVZRnO-nInJ",
        "colab": {
          "base_uri": "https://localhost:8080/",
          "height": 1000
        },
        "outputId": "6a62e52b-df08-4d9c-f326-fdf12d865a99"
      },
      "execution_count": 75,
      "outputs": [
        {
          "output_type": "stream",
          "name": "stdout",
          "text": [
            "TOP 10 FEATURES\n",
            "              precision    recall  f1-score   support\n",
            "\n",
            "           0       0.86      0.45      0.59      1309\n",
            "           1       0.62      0.91      0.74      1315\n",
            "           2       0.98      1.00      0.99      1299\n",
            "\n",
            "    accuracy                           0.79      3923\n",
            "   macro avg       0.82      0.79      0.78      3923\n",
            "weighted avg       0.82      0.79      0.77      3923\n",
            "\n",
            "[[ 589  720    0]\n",
            " [  92 1200   23]\n",
            " [   0    0 1299]]\n",
            "------------------------------------------------------------------------------------------\n",
            "TOP 20 FEATURES\n",
            "              precision    recall  f1-score   support\n",
            "\n",
            "           0       0.87      0.44      0.58      1313\n",
            "           1       0.61      0.92      0.73      1275\n",
            "           2       0.98      1.00      0.99      1335\n",
            "\n",
            "    accuracy                           0.78      3923\n",
            "   macro avg       0.82      0.78      0.77      3923\n",
            "weighted avg       0.83      0.78      0.77      3923\n",
            "\n",
            "[[ 572  741    0]\n",
            " [  82 1168   25]\n",
            " [   0    0 1335]]\n",
            "------------------------------------------------------------------------------------------\n",
            "ALL FEATURES\n",
            "              precision    recall  f1-score   support\n",
            "\n",
            "           0       0.87      0.49      0.63      1316\n",
            "           1       0.63      0.90      0.74      1266\n",
            "           2       0.98      1.00      0.99      1341\n",
            "\n",
            "    accuracy                           0.80      3923\n",
            "   macro avg       0.83      0.80      0.79      3923\n",
            "weighted avg       0.83      0.80      0.79      3923\n",
            "\n",
            "[[ 651  665    0]\n",
            " [  97 1145   24]\n",
            " [   0    0 1341]]\n",
            "------------------------------------------------------------------------------------------\n",
            "WORST 5 FEATURES\n",
            "              precision    recall  f1-score   support\n",
            "\n",
            "           0       0.00      0.00      0.00      1314\n",
            "           1       0.33      1.00      0.49      1286\n",
            "           2       0.50      0.00      0.00      1323\n",
            "\n",
            "    accuracy                           0.33      3923\n",
            "   macro avg       0.28      0.33      0.17      3923\n",
            "weighted avg       0.28      0.33      0.16      3923\n",
            "\n",
            "[[   0 1313    1]\n",
            " [   0 1286    0]\n",
            " [   0 1322    1]]\n"
          ]
        },
        {
          "output_type": "stream",
          "name": "stderr",
          "text": [
            "/usr/local/lib/python3.8/dist-packages/sklearn/metrics/_classification.py:1344: UndefinedMetricWarning: Precision and F-score are ill-defined and being set to 0.0 in labels with no predicted samples. Use `zero_division` parameter to control this behavior.\n",
            "  _warn_prf(average, modifier, msg_start, len(result))\n",
            "/usr/local/lib/python3.8/dist-packages/sklearn/metrics/_classification.py:1344: UndefinedMetricWarning: Precision and F-score are ill-defined and being set to 0.0 in labels with no predicted samples. Use `zero_division` parameter to control this behavior.\n",
            "  _warn_prf(average, modifier, msg_start, len(result))\n",
            "/usr/local/lib/python3.8/dist-packages/sklearn/metrics/_classification.py:1344: UndefinedMetricWarning: Precision and F-score are ill-defined and being set to 0.0 in labels with no predicted samples. Use `zero_division` parameter to control this behavior.\n",
            "  _warn_prf(average, modifier, msg_start, len(result))\n"
          ]
        },
        {
          "output_type": "execute_result",
          "data": {
            "text/plain": [
              "Empty DataFrame\n",
              "Columns: []\n",
              "Index: []"
            ],
            "text/html": [
              "\n",
              "  <div id=\"df-89adeb57-20f7-4318-94f9-e35aae6ca182\">\n",
              "    <div class=\"colab-df-container\">\n",
              "      <div>\n",
              "<style scoped>\n",
              "    .dataframe tbody tr th:only-of-type {\n",
              "        vertical-align: middle;\n",
              "    }\n",
              "\n",
              "    .dataframe tbody tr th {\n",
              "        vertical-align: top;\n",
              "    }\n",
              "\n",
              "    .dataframe thead th {\n",
              "        text-align: right;\n",
              "    }\n",
              "</style>\n",
              "<table border=\"1\" class=\"dataframe\">\n",
              "  <thead>\n",
              "    <tr style=\"text-align: right;\">\n",
              "      <th></th>\n",
              "    </tr>\n",
              "  </thead>\n",
              "  <tbody>\n",
              "  </tbody>\n",
              "</table>\n",
              "</div>\n",
              "      <button class=\"colab-df-convert\" onclick=\"convertToInteractive('df-89adeb57-20f7-4318-94f9-e35aae6ca182')\"\n",
              "              title=\"Convert this dataframe to an interactive table.\"\n",
              "              style=\"display:none;\">\n",
              "        \n",
              "  <svg xmlns=\"http://www.w3.org/2000/svg\" height=\"24px\"viewBox=\"0 0 24 24\"\n",
              "       width=\"24px\">\n",
              "    <path d=\"M0 0h24v24H0V0z\" fill=\"none\"/>\n",
              "    <path d=\"M18.56 5.44l.94 2.06.94-2.06 2.06-.94-2.06-.94-.94-2.06-.94 2.06-2.06.94zm-11 1L8.5 8.5l.94-2.06 2.06-.94-2.06-.94L8.5 2.5l-.94 2.06-2.06.94zm10 10l.94 2.06.94-2.06 2.06-.94-2.06-.94-.94-2.06-.94 2.06-2.06.94z\"/><path d=\"M17.41 7.96l-1.37-1.37c-.4-.4-.92-.59-1.43-.59-.52 0-1.04.2-1.43.59L10.3 9.45l-7.72 7.72c-.78.78-.78 2.05 0 2.83L4 21.41c.39.39.9.59 1.41.59.51 0 1.02-.2 1.41-.59l7.78-7.78 2.81-2.81c.8-.78.8-2.07 0-2.86zM5.41 20L4 18.59l7.72-7.72 1.47 1.35L5.41 20z\"/>\n",
              "  </svg>\n",
              "      </button>\n",
              "      \n",
              "  <style>\n",
              "    .colab-df-container {\n",
              "      display:flex;\n",
              "      flex-wrap:wrap;\n",
              "      gap: 12px;\n",
              "    }\n",
              "\n",
              "    .colab-df-convert {\n",
              "      background-color: #E8F0FE;\n",
              "      border: none;\n",
              "      border-radius: 50%;\n",
              "      cursor: pointer;\n",
              "      display: none;\n",
              "      fill: #1967D2;\n",
              "      height: 32px;\n",
              "      padding: 0 0 0 0;\n",
              "      width: 32px;\n",
              "    }\n",
              "\n",
              "    .colab-df-convert:hover {\n",
              "      background-color: #E2EBFA;\n",
              "      box-shadow: 0px 1px 2px rgba(60, 64, 67, 0.3), 0px 1px 3px 1px rgba(60, 64, 67, 0.15);\n",
              "      fill: #174EA6;\n",
              "    }\n",
              "\n",
              "    [theme=dark] .colab-df-convert {\n",
              "      background-color: #3B4455;\n",
              "      fill: #D2E3FC;\n",
              "    }\n",
              "\n",
              "    [theme=dark] .colab-df-convert:hover {\n",
              "      background-color: #434B5C;\n",
              "      box-shadow: 0px 1px 3px 1px rgba(0, 0, 0, 0.15);\n",
              "      filter: drop-shadow(0px 1px 2px rgba(0, 0, 0, 0.3));\n",
              "      fill: #FFFFFF;\n",
              "    }\n",
              "  </style>\n",
              "\n",
              "      <script>\n",
              "        const buttonEl =\n",
              "          document.querySelector('#df-89adeb57-20f7-4318-94f9-e35aae6ca182 button.colab-df-convert');\n",
              "        buttonEl.style.display =\n",
              "          google.colab.kernel.accessAllowed ? 'block' : 'none';\n",
              "\n",
              "        async function convertToInteractive(key) {\n",
              "          const element = document.querySelector('#df-89adeb57-20f7-4318-94f9-e35aae6ca182');\n",
              "          const dataTable =\n",
              "            await google.colab.kernel.invokeFunction('convertToInteractive',\n",
              "                                                     [key], {});\n",
              "          if (!dataTable) return;\n",
              "\n",
              "          const docLinkHtml = 'Like what you see? Visit the ' +\n",
              "            '<a target=\"_blank\" href=https://colab.research.google.com/notebooks/data_table.ipynb>data table notebook</a>'\n",
              "            + ' to learn more about interactive tables.';\n",
              "          element.innerHTML = '';\n",
              "          dataTable['output_type'] = 'display_data';\n",
              "          await google.colab.output.renderOutput(dataTable, element);\n",
              "          const docLink = document.createElement('div');\n",
              "          docLink.innerHTML = docLinkHtml;\n",
              "          element.appendChild(docLink);\n",
              "        }\n",
              "      </script>\n",
              "    </div>\n",
              "  </div>\n",
              "  "
            ]
          },
          "metadata": {},
          "execution_count": 75
        }
      ]
    },
    {
      "cell_type": "markdown",
      "source": [
        "## Random Forest Classifier:"
      ],
      "metadata": {
        "id": "sO_rEen99Zrc"
      }
    },
    {
      "cell_type": "code",
      "source": [
        "#Random Forest\n",
        "import pandas as pd\n",
        "from sklearn.ensemble import RandomForestClassifier\n",
        "\n",
        "df_modelRF=pd.DataFrame()\n",
        "df_RF=pd.DataFrame()\n",
        "\n",
        "\n",
        "def RF(SetName, X_train, Y_train, X_test, Y_test):\n",
        "\n",
        "  rf=RandomForestClassifier(n_estimators=10)\n",
        "  rf.fit(X_train,Y_train)\n",
        "  y_pred=rf.predict(X_test)\n",
        "  accuracy = metrics.accuracy_score(Y_test, y_pred)\n",
        "  class_report = classification_report(Y_test, y_pred, digits=5, output_dict=True )\n",
        "  print(classification_report(Y_test, y_pred))\n",
        "  print(confusion_matrix(Y_test, y_pred))"
      ],
      "metadata": {
        "id": "RMCsqECojFzy"
      },
      "execution_count": 76,
      "outputs": []
    },
    {
      "cell_type": "code",
      "source": [
        "#Random Forest\n",
        "import pandas as pd\n",
        "from sklearn.ensemble import RandomForestClassifier\n",
        "\n",
        "df_modelRF=pd.DataFrame()\n",
        "df_RF=pd.DataFrame()\n",
        "\n",
        "print(\"TOP 10 FEATURES\")\n",
        "df_RF = df_RF.append(RF('features_top_10',X_train_SMOTE,Y_train_SMOTE, X_test_SMOTE, Y_test_SMOTE), ignore_index=True) #features_top_10\n",
        "print(\"------------------------------------------------------------------------------------------\")\n",
        "print(\"TOP 20 FEATURES\")\n",
        "df_RF = df_RF.append(RF('features_top_20',X_train_SMOTE1,Y_train_SMOTE1, X_test_SMOTE1, Y_test_SMOTE1), ignore_index=True) #features_top_20\n",
        "print(\"------------------------------------------------------------------------------------------\")\n",
        "print(\"ALL FEATURES\")\n",
        "df_RF = df_RF.append(RF('features_all',X_train_SMOTE2,Y_train_SMOTE2, X_test_SMOTE2, Y_test_SMOTE2), ignore_index=True) #features_all\n",
        "print(\"------------------------------------------------------------------------------------------\")\n",
        "print(\"WORST 5 FEATURES\")\n",
        "df_RF = df_RF.append(RF('features_worst',X_train_SMOTE3,Y_train_SMOTE3, X_test_SMOTE3, Y_test_SMOTE3), ignore_index=True) #features_worst\n",
        "\n",
        "\n",
        "df_RF"
      ],
      "metadata": {
        "id": "EbwgweuJp-LK",
        "colab": {
          "base_uri": "https://localhost:8080/",
          "height": 1000
        },
        "outputId": "c0feee0d-8320-4e25-d896-e45ceba5c331"
      },
      "execution_count": 77,
      "outputs": [
        {
          "output_type": "stream",
          "name": "stdout",
          "text": [
            "TOP 10 FEATURES\n",
            "              precision    recall  f1-score   support\n",
            "\n",
            "           0       0.80      0.84      0.82      1309\n",
            "           1       0.83      0.78      0.80      1315\n",
            "           2       0.99      1.00      0.99      1299\n",
            "\n",
            "    accuracy                           0.87      3923\n",
            "   macro avg       0.87      0.87      0.87      3923\n",
            "weighted avg       0.87      0.87      0.87      3923\n",
            "\n",
            "[[1100  209    0]\n",
            " [ 277 1024   14]\n",
            " [   0    5 1294]]\n",
            "------------------------------------------------------------------------------------------\n",
            "TOP 20 FEATURES\n",
            "              precision    recall  f1-score   support\n",
            "\n",
            "           0       0.86      0.87      0.87      1313\n",
            "           1       0.87      0.85      0.86      1275\n",
            "           2       0.99      1.00      0.99      1335\n",
            "\n",
            "    accuracy                           0.91      3923\n",
            "   macro avg       0.91      0.91      0.91      3923\n",
            "weighted avg       0.91      0.91      0.91      3923\n",
            "\n",
            "[[1148  165    0]\n",
            " [ 180 1079   16]\n",
            " [   0    1 1334]]\n",
            "------------------------------------------------------------------------------------------\n",
            "ALL FEATURES\n",
            "              precision    recall  f1-score   support\n",
            "\n",
            "           0       0.86      0.88      0.87      1316\n",
            "           1       0.87      0.84      0.86      1266\n",
            "           2       0.99      1.00      0.99      1341\n",
            "\n",
            "    accuracy                           0.91      3923\n",
            "   macro avg       0.91      0.91      0.91      3923\n",
            "weighted avg       0.91      0.91      0.91      3923\n",
            "\n",
            "[[1158  158    0]\n",
            " [ 188 1067   11]\n",
            " [   0    3 1338]]\n",
            "------------------------------------------------------------------------------------------\n",
            "WORST 5 FEATURES\n",
            "              precision    recall  f1-score   support\n",
            "\n",
            "           0       0.63      0.64      0.63      1314\n",
            "           1       0.71      0.76      0.73      1286\n",
            "           2       0.76      0.69      0.72      1323\n",
            "\n",
            "    accuracy                           0.70      3923\n",
            "   macro avg       0.70      0.70      0.70      3923\n",
            "weighted avg       0.70      0.70      0.70      3923\n",
            "\n",
            "[[843 266 205]\n",
            " [229 978  79]\n",
            " [272 143 908]]\n"
          ]
        },
        {
          "output_type": "execute_result",
          "data": {
            "text/plain": [
              "Empty DataFrame\n",
              "Columns: []\n",
              "Index: []"
            ],
            "text/html": [
              "\n",
              "  <div id=\"df-6f286a08-c661-4b8c-80a6-d18a540eaeb5\">\n",
              "    <div class=\"colab-df-container\">\n",
              "      <div>\n",
              "<style scoped>\n",
              "    .dataframe tbody tr th:only-of-type {\n",
              "        vertical-align: middle;\n",
              "    }\n",
              "\n",
              "    .dataframe tbody tr th {\n",
              "        vertical-align: top;\n",
              "    }\n",
              "\n",
              "    .dataframe thead th {\n",
              "        text-align: right;\n",
              "    }\n",
              "</style>\n",
              "<table border=\"1\" class=\"dataframe\">\n",
              "  <thead>\n",
              "    <tr style=\"text-align: right;\">\n",
              "      <th></th>\n",
              "    </tr>\n",
              "  </thead>\n",
              "  <tbody>\n",
              "  </tbody>\n",
              "</table>\n",
              "</div>\n",
              "      <button class=\"colab-df-convert\" onclick=\"convertToInteractive('df-6f286a08-c661-4b8c-80a6-d18a540eaeb5')\"\n",
              "              title=\"Convert this dataframe to an interactive table.\"\n",
              "              style=\"display:none;\">\n",
              "        \n",
              "  <svg xmlns=\"http://www.w3.org/2000/svg\" height=\"24px\"viewBox=\"0 0 24 24\"\n",
              "       width=\"24px\">\n",
              "    <path d=\"M0 0h24v24H0V0z\" fill=\"none\"/>\n",
              "    <path d=\"M18.56 5.44l.94 2.06.94-2.06 2.06-.94-2.06-.94-.94-2.06-.94 2.06-2.06.94zm-11 1L8.5 8.5l.94-2.06 2.06-.94-2.06-.94L8.5 2.5l-.94 2.06-2.06.94zm10 10l.94 2.06.94-2.06 2.06-.94-2.06-.94-.94-2.06-.94 2.06-2.06.94z\"/><path d=\"M17.41 7.96l-1.37-1.37c-.4-.4-.92-.59-1.43-.59-.52 0-1.04.2-1.43.59L10.3 9.45l-7.72 7.72c-.78.78-.78 2.05 0 2.83L4 21.41c.39.39.9.59 1.41.59.51 0 1.02-.2 1.41-.59l7.78-7.78 2.81-2.81c.8-.78.8-2.07 0-2.86zM5.41 20L4 18.59l7.72-7.72 1.47 1.35L5.41 20z\"/>\n",
              "  </svg>\n",
              "      </button>\n",
              "      \n",
              "  <style>\n",
              "    .colab-df-container {\n",
              "      display:flex;\n",
              "      flex-wrap:wrap;\n",
              "      gap: 12px;\n",
              "    }\n",
              "\n",
              "    .colab-df-convert {\n",
              "      background-color: #E8F0FE;\n",
              "      border: none;\n",
              "      border-radius: 50%;\n",
              "      cursor: pointer;\n",
              "      display: none;\n",
              "      fill: #1967D2;\n",
              "      height: 32px;\n",
              "      padding: 0 0 0 0;\n",
              "      width: 32px;\n",
              "    }\n",
              "\n",
              "    .colab-df-convert:hover {\n",
              "      background-color: #E2EBFA;\n",
              "      box-shadow: 0px 1px 2px rgba(60, 64, 67, 0.3), 0px 1px 3px 1px rgba(60, 64, 67, 0.15);\n",
              "      fill: #174EA6;\n",
              "    }\n",
              "\n",
              "    [theme=dark] .colab-df-convert {\n",
              "      background-color: #3B4455;\n",
              "      fill: #D2E3FC;\n",
              "    }\n",
              "\n",
              "    [theme=dark] .colab-df-convert:hover {\n",
              "      background-color: #434B5C;\n",
              "      box-shadow: 0px 1px 3px 1px rgba(0, 0, 0, 0.15);\n",
              "      filter: drop-shadow(0px 1px 2px rgba(0, 0, 0, 0.3));\n",
              "      fill: #FFFFFF;\n",
              "    }\n",
              "  </style>\n",
              "\n",
              "      <script>\n",
              "        const buttonEl =\n",
              "          document.querySelector('#df-6f286a08-c661-4b8c-80a6-d18a540eaeb5 button.colab-df-convert');\n",
              "        buttonEl.style.display =\n",
              "          google.colab.kernel.accessAllowed ? 'block' : 'none';\n",
              "\n",
              "        async function convertToInteractive(key) {\n",
              "          const element = document.querySelector('#df-6f286a08-c661-4b8c-80a6-d18a540eaeb5');\n",
              "          const dataTable =\n",
              "            await google.colab.kernel.invokeFunction('convertToInteractive',\n",
              "                                                     [key], {});\n",
              "          if (!dataTable) return;\n",
              "\n",
              "          const docLinkHtml = 'Like what you see? Visit the ' +\n",
              "            '<a target=\"_blank\" href=https://colab.research.google.com/notebooks/data_table.ipynb>data table notebook</a>'\n",
              "            + ' to learn more about interactive tables.';\n",
              "          element.innerHTML = '';\n",
              "          dataTable['output_type'] = 'display_data';\n",
              "          await google.colab.output.renderOutput(dataTable, element);\n",
              "          const docLink = document.createElement('div');\n",
              "          docLink.innerHTML = docLinkHtml;\n",
              "          element.appendChild(docLink);\n",
              "        }\n",
              "      </script>\n",
              "    </div>\n",
              "  </div>\n",
              "  "
            ]
          },
          "metadata": {},
          "execution_count": 77
        }
      ]
    },
    {
      "cell_type": "markdown",
      "source": [
        "## KNN Classifer"
      ],
      "metadata": {
        "id": "X5Sb3lsr9ebk"
      }
    },
    {
      "cell_type": "code",
      "source": [
        "from sklearn.neighbors import KNeighborsClassifier\n",
        "def fitKNN(neighbours,SetName,X_train, Y_train, X_test, Y_test):\n",
        "    knn= KNeighborsClassifier(neighbours)\n",
        "    knn.fit(X_train,Y_train)\n",
        "    pred=knn.predict(X_test)\n",
        "    confuReport=confusion_matrix(Y_test,pred)\n",
        "    # print(confuReport)\n",
        "    classReport=classification_report(Y_test,pred,digits=5)\n",
        "    print(classReport)\n"
      ],
      "metadata": {
        "id": "4ItKIM7BHdXN"
      },
      "execution_count": 78,
      "outputs": []
    },
    {
      "cell_type": "code",
      "source": [
        "df_KNN = pd.DataFrame()\n",
        "\n",
        "print(\"TOP 10 FEATURES\")\n",
        "df_KNN = df_KNN.append(fitKNN(10,'features_top_10',X_train_SMOTE,Y_train_SMOTE, X_test_SMOTE, Y_test_SMOTE), ignore_index=True) #features_top_10\n",
        "print(\"------------------------------------------------------------------------------------------\")\n",
        "print(\"TOP 20 FEATURES\")\n",
        "df_KNN = df_KNN.append(fitKNN(10,'features_top_20',X_train_SMOTE1,Y_train_SMOTE1, X_test_SMOTE1, Y_test_SMOTE1), ignore_index=True) #features_top_20\n",
        "print(\"------------------------------------------------------------------------------------------\")\n",
        "print(\"ALL FEATURES\")\n",
        "df_KNN = df_KNN.append(fitKNN(10,'features_all',X_train_SMOTE2,Y_train_SMOTE2, X_test_SMOTE2, Y_test_SMOTE2), ignore_index=True) #features_all\n",
        "print(\"------------------------------------------------------------------------------------------\")\n",
        "print(\"WORST 5 FEATURES\")\n",
        "df_KNN = df_KNN.append(fitKNN(10,'features_worst',X_train_SMOTE3,Y_train_SMOTE3, X_test_SMOTE3, Y_test_SMOTE3), ignore_index=True) #features_worst\n",
        "\n"
      ],
      "metadata": {
        "id": "zCM2hdtlHwz9",
        "colab": {
          "base_uri": "https://localhost:8080/"
        },
        "outputId": "23724f34-d19e-41f4-ad70-31cfa3855415"
      },
      "execution_count": 79,
      "outputs": [
        {
          "output_type": "stream",
          "name": "stdout",
          "text": [
            "TOP 10 FEATURES\n",
            "              precision    recall  f1-score   support\n",
            "\n",
            "           0    0.75019   0.77311   0.76147      1309\n",
            "           1    0.75767   0.73232   0.74478      1315\n",
            "           2    0.98772   0.99076   0.98924      1299\n",
            "\n",
            "    accuracy                        0.83151      3923\n",
            "   macro avg    0.83186   0.83206   0.83183      3923\n",
            "weighted avg    0.83135   0.83151   0.83130      3923\n",
            "\n",
            "------------------------------------------------------------------------------------------\n",
            "TOP 20 FEATURES\n",
            "              precision    recall  f1-score   support\n",
            "\n",
            "           0    0.78862   0.73877   0.76288      1313\n",
            "           1    0.74271   0.77882   0.76034      1275\n",
            "           2    0.98304   0.99850   0.99071      1335\n",
            "\n",
            "    accuracy                        0.84017      3923\n",
            "   macro avg    0.83812   0.83870   0.83798      3923\n",
            "weighted avg    0.83986   0.84017   0.83958      3923\n",
            "\n",
            "------------------------------------------------------------------------------------------\n",
            "ALL FEATURES\n",
            "              precision    recall  f1-score   support\n",
            "\n",
            "           0    0.76279   0.74772   0.75518      1316\n",
            "           1    0.73920   0.74329   0.74124      1266\n",
            "           2    0.98456   0.99851   0.99148      1341\n",
            "\n",
            "    accuracy                        0.83202      3923\n",
            "   macro avg    0.82885   0.82984   0.82930      3923\n",
            "weighted avg    0.83098   0.83202   0.83146      3923\n",
            "\n",
            "------------------------------------------------------------------------------------------\n",
            "WORST 5 FEATURES\n",
            "              precision    recall  f1-score   support\n",
            "\n",
            "           0    0.55287   0.59285   0.57216      1314\n",
            "           1    0.62706   0.68118   0.65300      1286\n",
            "           2    0.76902   0.64928   0.70410      1323\n",
            "\n",
            "    accuracy                        0.64084      3923\n",
            "   macro avg    0.64965   0.64110   0.64309      3923\n",
            "weighted avg    0.65009   0.64084   0.64316      3923\n",
            "\n"
          ]
        }
      ]
    },
    {
      "cell_type": "markdown",
      "source": [
        "## Ensemble Model based on Boosting "
      ],
      "metadata": {
        "id": "KAu49AvxrZjO"
      }
    },
    {
      "cell_type": "markdown",
      "source": [
        "Boosting using OOP"
      ],
      "metadata": {
        "id": "hET-lTLmXFDy"
      }
    },
    {
      "cell_type": "code",
      "source": [
        "import numpy as np\n",
        "\n",
        "class BoostingClassifier:\n",
        "    def __init__(self, n_learners=50, learning_rate=1.0):\n",
        "        self.n_learners = n_learners   #Number of learners, i.e. the number of weak models to be trained\n",
        "        self.learning_rate = learning_rate    #Contribution of each learner to the final prediction\n",
        "        self.learners = []  #Contains Models i.e weak learners and alpha\n",
        "        self.classes = None  #Multi-class\n",
        "        \n",
        "    def fit(self, X, y):\n",
        "        self.classes = np.unique(y)   # As opposed to binary classification, our target variable contains values 0-2\n",
        "        self.learners = []\n",
        "        n_samples, n_features = X.shape\n",
        "        weights = np.full(n_samples, 1 / n_samples)\n",
        "        \n",
        "        for i in range(self.n_learners): #training a model  and computing the weight of its contribution to the final prediction.\n",
        "            learner = DecisionTreeClassifier(max_depth=1)\n",
        "            learner.fit(X, y, sample_weight=weights)\n",
        "            y_pred = learner.predict(X)\n",
        "            errors = weights * (y_pred != y)\n",
        "            alpha = self.learning_rate * (np.log((1 - errors).sum() / errors.sum()) + np.log(len(self.classes) - 1))\n",
        "            weights *= np.exp(alpha * (y_pred != y))\n",
        "            self.learners.append((alpha, learner)) # appending model and contribution\n",
        "        \n",
        "    def predict(self, X): #provide testing data\n",
        "        n_samples = X.shape[0] \n",
        "        votes = np.zeros((n_samples, len(self.classes)))\n",
        "        for alpha, learner in self.learners: #Get the contribution to final prediction and model(learner)\n",
        "            y_pred = learner.predict(X)\n",
        "            for j, c in enumerate(self.classes):\n",
        "                votes[y_pred == c, j] += alpha\n",
        "        return self.classes[np.argmax(votes, axis=1)]\n"
      ],
      "metadata": {
        "id": "ha0DP8G82rMl"
      },
      "execution_count": 80,
      "outputs": []
    },
    {
      "cell_type": "markdown",
      "source": [
        "Top 10 features:"
      ],
      "metadata": {
        "id": "FnqRvwZT28P9"
      }
    },
    {
      "cell_type": "code",
      "source": [
        "\n",
        "from sklearn.metrics import accuracy_score\n",
        "\n",
        "\n",
        "clf = BoostingClassifier(n_learners=200, learning_rate=0.5)\n",
        "clf.fit(X_train_SMOTE, Y_train_SMOTE)\n",
        "y_pred = clf.predict(X_test_SMOTE)\n",
        "\n",
        "accuracy = accuracy_score(Y_test_SMOTE, y_pred)\n",
        "print(\"Accuracy:\", accuracy)\n"
      ],
      "metadata": {
        "id": "ssR9ehW52tzM",
        "colab": {
          "base_uri": "https://localhost:8080/"
        },
        "outputId": "5867986b-094e-4bdb-ae5e-8db4d4f78792"
      },
      "execution_count": 81,
      "outputs": [
        {
          "output_type": "stream",
          "name": "stdout",
          "text": [
            "Accuracy: 0.763446342085139\n"
          ]
        }
      ]
    },
    {
      "cell_type": "markdown",
      "source": [
        "Top 20 Feature:"
      ],
      "metadata": {
        "id": "C89cIPgL2_q5"
      }
    },
    {
      "cell_type": "code",
      "source": [
        "\n",
        "from sklearn.metrics import accuracy_score\n",
        "\n",
        "\n",
        "clf = BoostingClassifier(n_learners=200, learning_rate=0.5)\n",
        "clf.fit(X_train_SMOTE1, Y_train_SMOTE1)\n",
        "y_pred = clf.predict(X_test_SMOTE1)\n",
        "\n",
        "accuracy = accuracy_score(Y_test_SMOTE1, y_pred)\n",
        "print(\"Accuracy:\", accuracy)\n"
      ],
      "metadata": {
        "id": "07iLp9uj2vtw",
        "colab": {
          "base_uri": "https://localhost:8080/"
        },
        "outputId": "f925300e-58c9-4646-bfa6-38dbe1a35c5c"
      },
      "execution_count": 82,
      "outputs": [
        {
          "output_type": "stream",
          "name": "stdout",
          "text": [
            "Accuracy: 0.8264083609482539\n"
          ]
        }
      ]
    },
    {
      "cell_type": "markdown",
      "source": [
        "All Feature sets"
      ],
      "metadata": {
        "id": "Vd_r_Vm_3Dlq"
      }
    },
    {
      "cell_type": "code",
      "source": [
        "\n",
        "from sklearn.metrics import accuracy_score\n",
        "\n",
        "\n",
        "clf = BoostingClassifier(n_learners=200, learning_rate=0.5)\n",
        "clf.fit(X_train_SMOTE2, Y_train_SMOTE2)\n",
        "y_pred = clf.predict(X_test_SMOTE2)\n",
        "\n",
        "accuracy = accuracy_score(Y_test_SMOTE2, y_pred)\n",
        "print(\"Accuracy:\", accuracy)\n"
      ],
      "metadata": {
        "id": "jNxoIBP42yPS",
        "colab": {
          "base_uri": "https://localhost:8080/"
        },
        "outputId": "73273bdd-95d2-4b33-fcd0-16ddad4dec84"
      },
      "execution_count": 83,
      "outputs": [
        {
          "output_type": "stream",
          "name": "stdout",
          "text": [
            "Accuracy: 0.8289574305378536\n"
          ]
        }
      ]
    },
    {
      "cell_type": "markdown",
      "source": [
        "Worst Feature sets"
      ],
      "metadata": {
        "id": "Rk6wLWnK3Fms"
      }
    },
    {
      "cell_type": "code",
      "source": [
        "\n",
        "from sklearn.metrics import accuracy_score\n",
        "\n",
        "\n",
        "clf = BoostingClassifier(n_learners=200, learning_rate=0.5)\n",
        "clf.fit(X_train_SMOTE3, Y_train_SMOTE3)\n",
        "y_pred = clf.predict(X_test_SMOTE3)\n",
        "\n",
        "accuracy = accuracy_score(Y_test_SMOTE3, y_pred)\n",
        "print(\"Accuracy:\", accuracy)\n"
      ],
      "metadata": {
        "id": "MvgYCI7J20B7",
        "colab": {
          "base_uri": "https://localhost:8080/"
        },
        "outputId": "2d43f7aa-b647-47a6-dca0-ba38559fa8a0"
      },
      "execution_count": 84,
      "outputs": [
        {
          "output_type": "stream",
          "name": "stdout",
          "text": [
            "Accuracy: 0.48304868722916133\n"
          ]
        }
      ]
    },
    {
      "cell_type": "markdown",
      "source": [
        "## Cross Validation"
      ],
      "metadata": {
        "id": "tbasL8tXzRRU"
      }
    },
    {
      "cell_type": "markdown",
      "source": [
        "1) Defining the models on which cross validation will take place, since Random forest, knn and SVC were used in our previous question, the same models will be used here"
      ],
      "metadata": {
        "id": "oLHNi-fmamKd"
      }
    },
    {
      "cell_type": "code",
      "source": [
        "from sklearn import svm\n",
        "from sklearn.svm import SVC\n",
        "from sklearn.neighbors import KNeighborsClassifier\n",
        "from sklearn.ensemble import RandomForestClassifier\n",
        "from sklearn.metrics import accuracy_score, confusion_matrix, classification_report \n",
        "model_svm = SVC(kernel='rbf', random_state = 1)\n",
        "model_knn = KNeighborsClassifier(8)\n",
        "model_rf = RandomForestClassifier(n_estimators=10)\n"
      ],
      "metadata": {
        "id": "VRBhb1_ATbi0"
      },
      "execution_count": 85,
      "outputs": []
    },
    {
      "cell_type": "markdown",
      "source": [
        "**2) Defining the function for cross validation**\n",
        "\n",
        "\n",
        "\n",
        "\n",
        "\n",
        "---\n",
        "\n",
        "\n",
        "\n",
        "Explanation of function:\n",
        "\n",
        "1) Here cross_validate takes in four parameters, clf which is the classifier, \n",
        "data which is the dataframe being passed, k which in our case is 10 and target_column or k_disposition.\n",
        "\n",
        "\n",
        "2) A for loop is run from 0 to 10, the first part is used for testing while 9 parts are used for training, this is repeated and the parts are exchanged on each iteration. The classifier is fit and the score and error values are recorded.\n",
        "\n",
        "\n"
      ],
      "metadata": {
        "id": "s3rogM-Yaw2C"
      }
    },
    {
      "cell_type": "code",
      "source": [
        "def cross_valdiate(classifier, data, k, target_col):\n",
        "    # shuffle data\n",
        "    shuffled_data = data.sample(frac=1)\n",
        "    \n",
        "    # create k folds\n",
        "    data_len = len(data)\n",
        "    fold_len = data_len // k\n",
        "    \n",
        "    scores = []\n",
        "    errors = []\n",
        "    confusion_matrix\n",
        "    for i in range(k):\n",
        "        # get first and last index of records that should be in the test set (hold out set or ith fold)\n",
        "        first_index = i*fold_len\n",
        "        last_index = (i+1)*fold_len\n",
        "  \n",
        "        test_set = data[first_index:last_index]\n",
        "        # train set contains all records that are not inside the test set i.e. it contains data of all other folds\n",
        "        train_set = pd.concat([data[:first_index], data[last_index:]])\n",
        "        \n",
        "        # train classifier\n",
        "        x_train = train_set.drop(target_col, axis=1)\n",
        "        y_train = train_set[target_col]\n",
        "        classifier.fit(x_train, y_train)\n",
        "        \n",
        "        x_test = test_set.drop(target_col, axis=1)\n",
        "        y_test = test_set[target_col]\n",
        "        \n",
        "        # get clf's accuracy score and error score\n",
        "        y_pred = classifier.predict(x_test)\n",
        "\n",
        "        score = accuracy_score(y_test, y_pred)\n",
        "        error = 1 - score\n",
        "        \n",
        "        scores.append(score)\n",
        "        errors.append(error)\n",
        "    \n",
        "    avg_score = sum(scores) / len(scores)\n",
        "    avg_error = sum(errors) / len(errors)\n",
        "    return scores, avg_score, errors, avg_error"
      ],
      "metadata": {
        "id": "H21F4j7h5VfZ"
      },
      "execution_count": 86,
      "outputs": []
    },
    {
      "cell_type": "code",
      "source": [
        "df_best_10_new = df_scaler[feature_set_best]\n",
        "df_best_20_new = df_scaler[feature_set_best_20]\n",
        "df_all_new = df_scaler[features_all]\n",
        "df_worst_new = df_scaler[feature_worst]\n",
        "df_best_10_new['koi_disposition'] = df_cumulative['koi_disposition']\n",
        "df_best_20_new['koi_disposition'] = df_cumulative['koi_disposition']\n",
        "df_all_new['koi_disposition'] = df_cumulative['koi_disposition']\n",
        "df_worst_new['koi_disposition'] = df_cumulative['koi_disposition']"
      ],
      "metadata": {
        "id": "4B67jCsYpeWW",
        "colab": {
          "base_uri": "https://localhost:8080/"
        },
        "outputId": "a878afdc-79ae-4dc6-cf00-8cded9e0ba6b"
      },
      "execution_count": 87,
      "outputs": [
        {
          "output_type": "stream",
          "name": "stderr",
          "text": [
            "<ipython-input-87-0abfa7c66841>:5: SettingWithCopyWarning: \n",
            "A value is trying to be set on a copy of a slice from a DataFrame.\n",
            "Try using .loc[row_indexer,col_indexer] = value instead\n",
            "\n",
            "See the caveats in the documentation: https://pandas.pydata.org/pandas-docs/stable/user_guide/indexing.html#returning-a-view-versus-a-copy\n",
            "  df_best_10_new['koi_disposition'] = df_cumulative['koi_disposition']\n",
            "<ipython-input-87-0abfa7c66841>:6: SettingWithCopyWarning: \n",
            "A value is trying to be set on a copy of a slice from a DataFrame.\n",
            "Try using .loc[row_indexer,col_indexer] = value instead\n",
            "\n",
            "See the caveats in the documentation: https://pandas.pydata.org/pandas-docs/stable/user_guide/indexing.html#returning-a-view-versus-a-copy\n",
            "  df_best_20_new['koi_disposition'] = df_cumulative['koi_disposition']\n",
            "<ipython-input-87-0abfa7c66841>:7: SettingWithCopyWarning: \n",
            "A value is trying to be set on a copy of a slice from a DataFrame.\n",
            "Try using .loc[row_indexer,col_indexer] = value instead\n",
            "\n",
            "See the caveats in the documentation: https://pandas.pydata.org/pandas-docs/stable/user_guide/indexing.html#returning-a-view-versus-a-copy\n",
            "  df_all_new['koi_disposition'] = df_cumulative['koi_disposition']\n",
            "<ipython-input-87-0abfa7c66841>:8: SettingWithCopyWarning: \n",
            "A value is trying to be set on a copy of a slice from a DataFrame.\n",
            "Try using .loc[row_indexer,col_indexer] = value instead\n",
            "\n",
            "See the caveats in the documentation: https://pandas.pydata.org/pandas-docs/stable/user_guide/indexing.html#returning-a-view-versus-a-copy\n",
            "  df_worst_new['koi_disposition'] = df_cumulative['koi_disposition']\n"
          ]
        }
      ]
    },
    {
      "cell_type": "markdown",
      "source": [
        "## Using SVC for all feature sets:\n",
        "\n"
      ],
      "metadata": {
        "id": "ujsXpoIHrlIU"
      }
    },
    {
      "cell_type": "markdown",
      "source": [
        "**Top 10 feature sets:**"
      ],
      "metadata": {
        "id": "zbGQ_ZJ2t7Jm"
      }
    },
    {
      "cell_type": "code",
      "source": [
        "all_score, avg_score, all_errors, error =  cross_valdiate(classifier=model_svm,data=df_best_10_new, k=10,target_col='koi_disposition')"
      ],
      "metadata": {
        "id": "7Ao139YGQzmM"
      },
      "execution_count": 88,
      "outputs": []
    },
    {
      "cell_type": "code",
      "source": [
        "print(\"Average score of SVC based on our data: \")\n",
        "print(avg_score,\"%\")"
      ],
      "metadata": {
        "id": "xUB2VuF7_qex",
        "colab": {
          "base_uri": "https://localhost:8080/"
        },
        "outputId": "efcaf5fa-2a05-42b5-ad10-e128cccfdd2c"
      },
      "execution_count": 89,
      "outputs": [
        {
          "output_type": "stream",
          "name": "stdout",
          "text": [
            "Average score of SVC based on our data: \n",
            "0.824141876430206 %\n"
          ]
        }
      ]
    },
    {
      "cell_type": "code",
      "source": [
        "print(\"Average error of SVC  based on our data: \")\n",
        "print(error)"
      ],
      "metadata": {
        "id": "20MqvWlnAHqA",
        "colab": {
          "base_uri": "https://localhost:8080/"
        },
        "outputId": "fbe28d60-602c-405e-c9fb-b9fa8d44ed2e"
      },
      "execution_count": 90,
      "outputs": [
        {
          "output_type": "stream",
          "name": "stdout",
          "text": [
            "Average error of SVC  based on our data: \n",
            "0.17585812356979402\n"
          ]
        }
      ]
    },
    {
      "cell_type": "markdown",
      "source": [
        "**Top 20 feature sets:**"
      ],
      "metadata": {
        "id": "aLBv5wY7uCQR"
      }
    },
    {
      "cell_type": "code",
      "source": [
        "all_scores, avg_score, all_errors, avg_error =  cross_valdiate(classifier=model_knn, data=df_best_20_new, k=10, target_col='koi_disposition')"
      ],
      "metadata": {
        "id": "VmXzqPvUUP62"
      },
      "execution_count": 91,
      "outputs": []
    },
    {
      "cell_type": "code",
      "source": [
        "print(\"Average score of SVC based on our data for top 20 features: \")\n",
        "print(avg_score)"
      ],
      "metadata": {
        "id": "_zPcxgNmUVds",
        "colab": {
          "base_uri": "https://localhost:8080/"
        },
        "outputId": "679ce938-7448-44c7-b5e2-a4216025cd7e"
      },
      "execution_count": 92,
      "outputs": [
        {
          "output_type": "stream",
          "name": "stdout",
          "text": [
            "Average score of SVC based on our data for top 20 features: \n",
            "0.8247139588100687\n"
          ]
        }
      ]
    },
    {
      "cell_type": "code",
      "source": [
        "print(\"Average error of SVC based on our data for top 20 features: \")\n",
        "print(avg_error)"
      ],
      "metadata": {
        "id": "Vpz61CMtUXj4",
        "colab": {
          "base_uri": "https://localhost:8080/"
        },
        "outputId": "1c20b818-2a4f-48ac-f44f-729e25eea844"
      },
      "execution_count": 93,
      "outputs": [
        {
          "output_type": "stream",
          "name": "stdout",
          "text": [
            "Average error of SVC based on our data for top 20 features: \n",
            "0.17528604118993135\n"
          ]
        }
      ]
    },
    {
      "cell_type": "markdown",
      "source": [
        "**All Feature sets:**"
      ],
      "metadata": {
        "id": "XPucd55vuG7o"
      }
    },
    {
      "cell_type": "code",
      "source": [
        "all_scores, avg_score, all_errors, avg_error =  cross_valdiate(classifier=model_knn, data=df_all_new, k=10, target_col='koi_disposition')"
      ],
      "metadata": {
        "id": "i0424ZndsWvR"
      },
      "execution_count": 94,
      "outputs": []
    },
    {
      "cell_type": "code",
      "source": [
        "print(\"Average score of SVC based on our data for all features: \")\n",
        "print(avg_score)"
      ],
      "metadata": {
        "id": "0-Gngw4HsaEZ",
        "colab": {
          "base_uri": "https://localhost:8080/"
        },
        "outputId": "e63eb202-89e1-44f2-a66e-cb36945aca90"
      },
      "execution_count": 95,
      "outputs": [
        {
          "output_type": "stream",
          "name": "stdout",
          "text": [
            "Average score of SVC based on our data for all features: \n",
            "0.8197940503432495\n"
          ]
        }
      ]
    },
    {
      "cell_type": "code",
      "source": [
        "print(\"Average error of SVC based on our data for all features: \")\n",
        "print(avg_error)"
      ],
      "metadata": {
        "id": "grUm0I2bsatA",
        "colab": {
          "base_uri": "https://localhost:8080/"
        },
        "outputId": "28293370-97f3-440f-fc66-1f233cd9cf9c"
      },
      "execution_count": 96,
      "outputs": [
        {
          "output_type": "stream",
          "name": "stdout",
          "text": [
            "Average error of SVC based on our data for all features: \n",
            "0.1802059496567506\n"
          ]
        }
      ]
    },
    {
      "cell_type": "markdown",
      "source": [
        "**Worst 5 feature sets:**"
      ],
      "metadata": {
        "id": "yH1N7qiDuLSY"
      }
    },
    {
      "cell_type": "code",
      "source": [
        "all_scores, avg_score, all_errors, avg_error =  cross_valdiate(classifier=model_knn, data=df_worst_new, k=10, target_col='koi_disposition')"
      ],
      "metadata": {
        "id": "cnqKk7Nbsghm"
      },
      "execution_count": 97,
      "outputs": []
    },
    {
      "cell_type": "code",
      "source": [
        "print(\"Average score of SVC based on our data for the worst 5 features: \")\n",
        "print(avg_score)"
      ],
      "metadata": {
        "id": "8-9mCdyosk5s",
        "colab": {
          "base_uri": "https://localhost:8080/"
        },
        "outputId": "12da6c06-b266-44be-9827-b1df9ce83f03"
      },
      "execution_count": 98,
      "outputs": [
        {
          "output_type": "stream",
          "name": "stdout",
          "text": [
            "Average score of SVC based on our data for the worst 5 features: \n",
            "0.5802059496567507\n"
          ]
        }
      ]
    },
    {
      "cell_type": "code",
      "source": [
        "print(\"Average score of SVC based on our data for the worst 5 features: \")\n",
        "print(avg_error)"
      ],
      "metadata": {
        "id": "u47AcQfssmp3",
        "colab": {
          "base_uri": "https://localhost:8080/"
        },
        "outputId": "a1cd5209-659b-4ef8-c5c8-5a63719e2444"
      },
      "execution_count": 99,
      "outputs": [
        {
          "output_type": "stream",
          "name": "stdout",
          "text": [
            "Average score of SVC based on our data for the worst 5 features: \n",
            "0.4197940503432494\n"
          ]
        }
      ]
    },
    {
      "cell_type": "markdown",
      "source": [
        "## Using KNN:"
      ],
      "metadata": {
        "id": "2FiRXfZyuP9U"
      }
    },
    {
      "cell_type": "markdown",
      "source": [
        "Top 10 feature sets:"
      ],
      "metadata": {
        "id": "ZPSlka8hul1o"
      }
    },
    {
      "cell_type": "code",
      "source": [
        "all_score, avg_score, all_errors, error =  cross_valdiate(classifier=model_knn,data=df_best_10_new, k=10,target_col='koi_disposition')"
      ],
      "metadata": {
        "id": "bY-PHmUjuoyf"
      },
      "execution_count": 100,
      "outputs": []
    },
    {
      "cell_type": "code",
      "source": [
        "print(\"Average accuracy score for top 10 features: \")\n",
        "print(avg_score)"
      ],
      "metadata": {
        "id": "TCrf1jZFvBcj",
        "colab": {
          "base_uri": "https://localhost:8080/"
        },
        "outputId": "ed999f6a-fdeb-4c7b-9111-979ef53a4941"
      },
      "execution_count": 101,
      "outputs": [
        {
          "output_type": "stream",
          "name": "stdout",
          "text": [
            "Average accuracy score for top 10 features: \n",
            "0.8299771167048056\n"
          ]
        }
      ]
    },
    {
      "cell_type": "code",
      "source": [
        "print(\"Average error of KNN based on our data for top 10 features: \")\n",
        "print(avg_error)"
      ],
      "metadata": {
        "id": "hxQQZisfuuJC",
        "colab": {
          "base_uri": "https://localhost:8080/"
        },
        "outputId": "ca5ce756-9eab-4877-db9f-63faf3b3583e"
      },
      "execution_count": 102,
      "outputs": [
        {
          "output_type": "stream",
          "name": "stdout",
          "text": [
            "Average error of KNN based on our data for top 10 features: \n",
            "0.4197940503432494\n"
          ]
        }
      ]
    },
    {
      "cell_type": "markdown",
      "source": [
        "Top 20 feature sets:"
      ],
      "metadata": {
        "id": "TyQnSHgTvPEr"
      }
    },
    {
      "cell_type": "code",
      "source": [
        "all_score, avg_score, all_errors, error1 =  cross_valdiate(classifier=model_knn,data=df_best_20_new, k=10,target_col='koi_disposition')"
      ],
      "metadata": {
        "id": "iEsRB-9cvU8L"
      },
      "execution_count": 103,
      "outputs": []
    },
    {
      "cell_type": "code",
      "source": [
        "print(\"Average accuracy score for top 20 features: \")\n",
        "print(avg_score)"
      ],
      "metadata": {
        "id": "2Jn_zFWevaSg",
        "colab": {
          "base_uri": "https://localhost:8080/"
        },
        "outputId": "f3b99e1e-d737-48fb-ee5e-97ccaaed8bb7"
      },
      "execution_count": 104,
      "outputs": [
        {
          "output_type": "stream",
          "name": "stdout",
          "text": [
            "Average accuracy score for top 20 features: \n",
            "0.8247139588100687\n"
          ]
        }
      ]
    },
    {
      "cell_type": "code",
      "source": [
        "print(\"Average error of KNN based on our data for top 20 features: \")\n",
        "print(error1)"
      ],
      "metadata": {
        "id": "OGvDJ4hgvb8h",
        "colab": {
          "base_uri": "https://localhost:8080/"
        },
        "outputId": "f8a54aca-f570-45ca-b0aa-4ed14dc99ee8"
      },
      "execution_count": 105,
      "outputs": [
        {
          "output_type": "stream",
          "name": "stdout",
          "text": [
            "Average error of KNN based on our data for top 20 features: \n",
            "0.17528604118993135\n"
          ]
        }
      ]
    },
    {
      "cell_type": "markdown",
      "source": [
        "All Features:\n"
      ],
      "metadata": {
        "id": "ZzpWx_1dvruu"
      }
    },
    {
      "cell_type": "code",
      "source": [
        "all_score, avg_score, all_errors, error1 =  cross_valdiate(classifier=model_knn,data=df_all_new, k=10,target_col='koi_disposition')"
      ],
      "metadata": {
        "id": "nRg2JQyXvvJg"
      },
      "execution_count": 106,
      "outputs": []
    },
    {
      "cell_type": "code",
      "source": [
        "print(\"Average accuracy score for all features: \")\n",
        "print(avg_score)"
      ],
      "metadata": {
        "id": "cZHr6KdIvzeA",
        "colab": {
          "base_uri": "https://localhost:8080/"
        },
        "outputId": "ed2b2d30-c846-4e14-f438-574dae0db1ef"
      },
      "execution_count": 107,
      "outputs": [
        {
          "output_type": "stream",
          "name": "stdout",
          "text": [
            "Average accuracy score for all features: \n",
            "0.8197940503432495\n"
          ]
        }
      ]
    },
    {
      "cell_type": "code",
      "source": [
        "print(\"Average error score all features: \")\n",
        "print(error1)"
      ],
      "metadata": {
        "id": "gMDI9VVEwOwC",
        "colab": {
          "base_uri": "https://localhost:8080/"
        },
        "outputId": "b9de31e4-c9c6-4a71-acaf-b8311ac3af78"
      },
      "execution_count": 108,
      "outputs": [
        {
          "output_type": "stream",
          "name": "stdout",
          "text": [
            "Average error score all features: \n",
            "0.1802059496567506\n"
          ]
        }
      ]
    },
    {
      "cell_type": "markdown",
      "source": [
        "Worst 5 features:"
      ],
      "metadata": {
        "id": "2QuYuEKywXdW"
      }
    },
    {
      "cell_type": "code",
      "source": [
        "all_score, avg_score, all_errors, error1 =  cross_valdiate(classifier=model_knn,data=df_worst_new, k=10,target_col='koi_disposition')"
      ],
      "metadata": {
        "id": "UOujB6GrwaZI"
      },
      "execution_count": 109,
      "outputs": []
    },
    {
      "cell_type": "code",
      "source": [
        "print(\"Average accuracy score for the worst 5 features:\")\n",
        "print(avg_score)"
      ],
      "metadata": {
        "id": "vGlh9NHywkv4",
        "colab": {
          "base_uri": "https://localhost:8080/"
        },
        "outputId": "62af0344-5501-4064-f118-6f1c9092e58b"
      },
      "execution_count": 110,
      "outputs": [
        {
          "output_type": "stream",
          "name": "stdout",
          "text": [
            "Average accuracy score for the worst 5 features:\n",
            "0.5802059496567507\n"
          ]
        }
      ]
    },
    {
      "cell_type": "code",
      "source": [
        "print(\"Average error score for the worst 5 features:\")\n",
        "print(error1)"
      ],
      "metadata": {
        "id": "y2jamaq9wqoI",
        "colab": {
          "base_uri": "https://localhost:8080/"
        },
        "outputId": "d1d6ca37-2a85-49ea-b188-b14a01f24ef7"
      },
      "execution_count": 111,
      "outputs": [
        {
          "output_type": "stream",
          "name": "stdout",
          "text": [
            "Average error score for the worst 5 features:\n",
            "0.4197940503432494\n"
          ]
        }
      ]
    },
    {
      "cell_type": "markdown",
      "source": [
        "# Using Random Forest:"
      ],
      "metadata": {
        "id": "vkgJUCcqxRvR"
      }
    },
    {
      "cell_type": "markdown",
      "source": [
        "Top 10 Feature sets:"
      ],
      "metadata": {
        "id": "N41cRt1xx6i1"
      }
    },
    {
      "cell_type": "code",
      "source": [
        "all_score, avg_score, all_errors, error1 =  cross_valdiate(classifier=model_rf,data=df_best_10_new, k=10,target_col='koi_disposition')"
      ],
      "metadata": {
        "id": "KNWBqMUzyD2n"
      },
      "execution_count": 112,
      "outputs": []
    },
    {
      "cell_type": "code",
      "source": [
        "print(\"Average accuracy score for the best 10 features:\")\n",
        "print(avg_score)"
      ],
      "metadata": {
        "id": "cuCoSGMSyLob",
        "colab": {
          "base_uri": "https://localhost:8080/"
        },
        "outputId": "8636a992-4cb4-4318-8e92-cbee3d2c9c52"
      },
      "execution_count": 113,
      "outputs": [
        {
          "output_type": "stream",
          "name": "stdout",
          "text": [
            "Average accuracy score for the best 10 features:\n",
            "0.8449656750572082\n"
          ]
        }
      ]
    },
    {
      "cell_type": "code",
      "source": [
        "print(\"Average error score for the best 10  features:\")\n",
        "print(error1)"
      ],
      "metadata": {
        "id": "7618kf05yPNV",
        "colab": {
          "base_uri": "https://localhost:8080/"
        },
        "outputId": "b0340a38-c59c-439d-acbe-0f7c8357ed3c"
      },
      "execution_count": 114,
      "outputs": [
        {
          "output_type": "stream",
          "name": "stdout",
          "text": [
            "Average error score for the best 10  features:\n",
            "0.15503432494279176\n"
          ]
        }
      ]
    },
    {
      "cell_type": "markdown",
      "source": [
        "Top 20 Feature sets:\n"
      ],
      "metadata": {
        "id": "cxgzoLy3x9DE"
      }
    },
    {
      "cell_type": "code",
      "source": [
        "all_score, avg_score, all_errors, error1 =  cross_valdiate(classifier=model_rf,data=df_best_20_new, k=10,target_col='koi_disposition')"
      ],
      "metadata": {
        "id": "dOHd1VUMyU3y"
      },
      "execution_count": 115,
      "outputs": []
    },
    {
      "cell_type": "code",
      "source": [
        "print(\"Average accuracy score for the best 20 features:\")\n",
        "print(avg_score)"
      ],
      "metadata": {
        "id": "z14gbNk_yX2r",
        "colab": {
          "base_uri": "https://localhost:8080/"
        },
        "outputId": "3819f71e-9a43-4980-eaa9-a1aab88e7075"
      },
      "execution_count": 116,
      "outputs": [
        {
          "output_type": "stream",
          "name": "stdout",
          "text": [
            "Average accuracy score for the best 20 features:\n",
            "0.8884439359267734\n"
          ]
        }
      ]
    },
    {
      "cell_type": "code",
      "source": [
        "print(\"Average error score for the best 20  features:\")\n",
        "print(error1)"
      ],
      "metadata": {
        "id": "JFwnFEevyacn",
        "colab": {
          "base_uri": "https://localhost:8080/"
        },
        "outputId": "18342043-5e28-421a-f017-b4457f1dea23"
      },
      "execution_count": 117,
      "outputs": [
        {
          "output_type": "stream",
          "name": "stdout",
          "text": [
            "Average error score for the best 20  features:\n",
            "0.11155606407322653\n"
          ]
        }
      ]
    },
    {
      "cell_type": "markdown",
      "source": [
        "All Feature sets:"
      ],
      "metadata": {
        "id": "aFU0odApx_Pd"
      }
    },
    {
      "cell_type": "code",
      "source": [
        "all_score, avg_score, all_errors, error1 =  cross_valdiate(classifier=model_rf,data=df_all_new, k=10,target_col='koi_disposition')"
      ],
      "metadata": {
        "id": "VubSBHn0yfjV"
      },
      "execution_count": 118,
      "outputs": []
    },
    {
      "cell_type": "code",
      "source": [
        "print(\"Average accuracy score for all features:\")\n",
        "print(avg_score)"
      ],
      "metadata": {
        "id": "L2yZG-DXyjVb",
        "colab": {
          "base_uri": "https://localhost:8080/"
        },
        "outputId": "b5921826-5c4c-4915-abf6-24dbbbcfc962"
      },
      "execution_count": 119,
      "outputs": [
        {
          "output_type": "stream",
          "name": "stdout",
          "text": [
            "Average accuracy score for all features:\n",
            "0.8924485125858123\n"
          ]
        }
      ]
    },
    {
      "cell_type": "code",
      "source": [
        "print(\"Average error score for all  features:\")\n",
        "print(error1)"
      ],
      "metadata": {
        "id": "THfisFY4ylKs",
        "colab": {
          "base_uri": "https://localhost:8080/"
        },
        "outputId": "725a653f-e1c8-403f-831a-8ae8bc66b638"
      },
      "execution_count": 120,
      "outputs": [
        {
          "output_type": "stream",
          "name": "stdout",
          "text": [
            "Average error score for all  features:\n",
            "0.10755148741418763\n"
          ]
        }
      ]
    },
    {
      "cell_type": "markdown",
      "source": [
        "Worst 5 feature sets:"
      ],
      "metadata": {
        "id": "khVUe2MyyBhf"
      }
    },
    {
      "cell_type": "code",
      "source": [
        "all_score, avg_score, all_errors, error1 =  cross_valdiate(classifier=model_rf,data=df_worst_new, k=10,target_col='koi_disposition')"
      ],
      "metadata": {
        "id": "HGsCX6M3xUmb"
      },
      "execution_count": 121,
      "outputs": []
    },
    {
      "cell_type": "code",
      "source": [
        "print(\"Average accuracy score for the worst 5 features:\")\n",
        "print(avg_score)"
      ],
      "metadata": {
        "id": "YWMPgMRFyqss",
        "colab": {
          "base_uri": "https://localhost:8080/"
        },
        "outputId": "bb69e363-bfba-435a-af8f-e8c4ae7dfd38"
      },
      "execution_count": 122,
      "outputs": [
        {
          "output_type": "stream",
          "name": "stdout",
          "text": [
            "Average accuracy score for the worst 5 features:\n",
            "0.6191075514874143\n"
          ]
        }
      ]
    },
    {
      "cell_type": "code",
      "source": [
        "print(\"Average error score for the worst 5 features:\")\n",
        "print(error1)"
      ],
      "metadata": {
        "id": "LxF7v5C7yvje",
        "colab": {
          "base_uri": "https://localhost:8080/"
        },
        "outputId": "ff887f6f-9d80-449d-d45d-15ad3eb0b58c"
      },
      "execution_count": 123,
      "outputs": [
        {
          "output_type": "stream",
          "name": "stdout",
          "text": [
            "Average error score for the worst 5 features:\n",
            "0.3808924485125858\n"
          ]
        }
      ]
    }
  ]
}